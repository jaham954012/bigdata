{
  "nbformat": 4,
  "nbformat_minor": 0,
  "metadata": {
    "colab": {
      "name": "1015.ipynb",
      "provenance": [],
      "collapsed_sections": [],
      "include_colab_link": true
    },
    "kernelspec": {
      "name": "ir",
      "display_name": "R"
    }
  },
  "cells": [
    {
      "cell_type": "markdown",
      "metadata": {
        "id": "view-in-github",
        "colab_type": "text"
      },
      "source": [
        "<a href=\"https://colab.research.google.com/github/jaham954012/first/blob/main/1015.ipynb\" target=\"_parent\"><img src=\"https://colab.research.google.com/assets/colab-badge.svg\" alt=\"Open In Colab\"/></a>"
      ]
    },
    {
      "cell_type": "code",
      "metadata": {
        "id": "yBwTgC0OYrcK",
        "outputId": "98d6d49a-af3e-41d4-a00e-903215303085",
        "colab": {
          "base_uri": "https://localhost:8080/",
          "height": 68
        }
      },
      "source": [
        "a <- 5\n",
        "b <- 3.8\n",
        "c <- -1\n",
        "str(a)\n",
        "str(b)\n",
        "str(c)"
      ],
      "execution_count": 1,
      "outputs": [
        {
          "output_type": "stream",
          "text": [
            " num 5\n",
            " num 3.8\n",
            " num -1\n"
          ],
          "name": "stdout"
        }
      ]
    },
    {
      "cell_type": "code",
      "metadata": {
        "id": "LEFiqohHY603",
        "outputId": "37c76275-591e-485d-d337-eed49c97b40d",
        "colab": {
          "base_uri": "https://localhost:8080/",
          "height": 85
        }
      },
      "source": [
        "is.numeric(a)\n",
        "is.numeric(b)\n",
        "is.integer(a)\n",
        "is.integer(b)"
      ],
      "execution_count": 2,
      "outputs": [
        {
          "output_type": "display_data",
          "data": {
            "text/plain": [
              "[1] TRUE"
            ],
            "text/latex": "TRUE",
            "text/markdown": "TRUE",
            "text/html": [
              "TRUE"
            ]
          },
          "metadata": {
            "tags": []
          }
        },
        {
          "output_type": "display_data",
          "data": {
            "text/plain": [
              "[1] TRUE"
            ],
            "text/latex": "TRUE",
            "text/markdown": "TRUE",
            "text/html": [
              "TRUE"
            ]
          },
          "metadata": {
            "tags": []
          }
        },
        {
          "output_type": "display_data",
          "data": {
            "text/plain": [
              "[1] FALSE"
            ],
            "text/latex": "FALSE",
            "text/markdown": "FALSE",
            "text/html": [
              "FALSE"
            ]
          },
          "metadata": {
            "tags": []
          }
        },
        {
          "output_type": "display_data",
          "data": {
            "text/plain": [
              "[1] FALSE"
            ],
            "text/latex": "FALSE",
            "text/markdown": "FALSE",
            "text/html": [
              "FALSE"
            ]
          },
          "metadata": {
            "tags": []
          }
        }
      ]
    },
    {
      "cell_type": "code",
      "metadata": {
        "id": "dZvj_OGPZaET",
        "outputId": "903bdfb2-44a5-4f52-84d3-72dcc39e3911",
        "colab": {
          "base_uri": "https://localhost:8080/",
          "height": 51
        }
      },
      "source": [
        "d <- \"Hello\"\n",
        "e <- 'Hi'\n",
        "str(d)\n",
        "str(e)"
      ],
      "execution_count": 3,
      "outputs": [
        {
          "output_type": "stream",
          "text": [
            " chr \"Hello\"\n",
            " chr \"Hi\"\n"
          ],
          "name": "stdout"
        }
      ]
    },
    {
      "cell_type": "code",
      "metadata": {
        "id": "HyvBnrVWZ7uW",
        "outputId": "7d30a27f-5056-494b-96de-15f4b2495483",
        "colab": {
          "base_uri": "https://localhost:8080/",
          "height": 85
        }
      },
      "source": [
        "f <- c(5,4,3,2,1)\n",
        "g <- c(\"蔡英文\",\"賴清德\",\"蘇貞昌\")\n",
        "f[2]\n",
        "f[5]\n",
        "g[3]\n",
        "g[c(1,3)]"
      ],
      "execution_count": 10,
      "outputs": [
        {
          "output_type": "display_data",
          "data": {
            "text/plain": [
              "[1] 4"
            ],
            "text/latex": "4",
            "text/markdown": "4",
            "text/html": [
              "4"
            ]
          },
          "metadata": {
            "tags": []
          }
        },
        {
          "output_type": "display_data",
          "data": {
            "text/plain": [
              "[1] 1"
            ],
            "text/latex": "1",
            "text/markdown": "1",
            "text/html": [
              "1"
            ]
          },
          "metadata": {
            "tags": []
          }
        },
        {
          "output_type": "display_data",
          "data": {
            "text/plain": [
              "[1] \"蘇貞昌\""
            ],
            "text/latex": "'蘇貞昌'",
            "text/markdown": "'蘇貞昌'",
            "text/html": [
              "'蘇貞昌'"
            ]
          },
          "metadata": {
            "tags": []
          }
        },
        {
          "output_type": "display_data",
          "data": {
            "text/plain": [
              "[1] \"蔡英文\" \"蘇貞昌\""
            ],
            "text/latex": "\\begin{enumerate*}\n\\item '蔡英文'\n\\item '蘇貞昌'\n\\end{enumerate*}\n",
            "text/markdown": "1. '蔡英文'\n2. '蘇貞昌'\n\n\n",
            "text/html": [
              "<style>\n",
              ".list-inline {list-style: none; margin:0; padding: 0}\n",
              ".list-inline>li {display: inline-block}\n",
              ".list-inline>li:not(:last-child)::after {content: \"\\00b7\"; padding: 0 .5ex}\n",
              "</style>\n",
              "<ol class=list-inline><li>'蔡英文'</li><li>'蘇貞昌'</li></ol>\n"
            ]
          },
          "metadata": {
            "tags": []
          }
        }
      ]
    },
    {
      "cell_type": "code",
      "metadata": {
        "id": "OXNvFVnQam_1",
        "outputId": "c86aface-b518-4a22-c7ca-0a506a589b0c",
        "colab": {
          "base_uri": "https://localhost:8080/",
          "height": 68
        }
      },
      "source": [
        "h <- c(1,2,3,4,5,6,7,8,9,10)\n",
        "j <- c(2,3,4,5,6,7,8,9,10,11)\n",
        "h*j\n",
        "h^3\n",
        "j > 5"
      ],
      "execution_count": 7,
      "outputs": [
        {
          "output_type": "display_data",
          "data": {
            "text/plain": [
              " [1]   2   6  12  20  30  42  56  72  90 110"
            ],
            "text/latex": "\\begin{enumerate*}\n\\item 2\n\\item 6\n\\item 12\n\\item 20\n\\item 30\n\\item 42\n\\item 56\n\\item 72\n\\item 90\n\\item 110\n\\end{enumerate*}\n",
            "text/markdown": "1. 2\n2. 6\n3. 12\n4. 20\n5. 30\n6. 42\n7. 56\n8. 72\n9. 90\n10. 110\n\n\n",
            "text/html": [
              "<style>\n",
              ".list-inline {list-style: none; margin:0; padding: 0}\n",
              ".list-inline>li {display: inline-block}\n",
              ".list-inline>li:not(:last-child)::after {content: \"\\00b7\"; padding: 0 .5ex}\n",
              "</style>\n",
              "<ol class=list-inline><li>2</li><li>6</li><li>12</li><li>20</li><li>30</li><li>42</li><li>56</li><li>72</li><li>90</li><li>110</li></ol>\n"
            ]
          },
          "metadata": {
            "tags": []
          }
        },
        {
          "output_type": "display_data",
          "data": {
            "text/plain": [
              " [1]    1    8   27   64  125  216  343  512  729 1000"
            ],
            "text/latex": "\\begin{enumerate*}\n\\item 1\n\\item 8\n\\item 27\n\\item 64\n\\item 125\n\\item 216\n\\item 343\n\\item 512\n\\item 729\n\\item 1000\n\\end{enumerate*}\n",
            "text/markdown": "1. 1\n2. 8\n3. 27\n4. 64\n5. 125\n6. 216\n7. 343\n8. 512\n9. 729\n10. 1000\n\n\n",
            "text/html": [
              "<style>\n",
              ".list-inline {list-style: none; margin:0; padding: 0}\n",
              ".list-inline>li {display: inline-block}\n",
              ".list-inline>li:not(:last-child)::after {content: \"\\00b7\"; padding: 0 .5ex}\n",
              "</style>\n",
              "<ol class=list-inline><li>1</li><li>8</li><li>27</li><li>64</li><li>125</li><li>216</li><li>343</li><li>512</li><li>729</li><li>1000</li></ol>\n"
            ]
          },
          "metadata": {
            "tags": []
          }
        },
        {
          "output_type": "display_data",
          "data": {
            "text/plain": [
              " [1] FALSE FALSE FALSE FALSE  TRUE  TRUE  TRUE  TRUE  TRUE  TRUE"
            ],
            "text/latex": "\\begin{enumerate*}\n\\item FALSE\n\\item FALSE\n\\item FALSE\n\\item FALSE\n\\item TRUE\n\\item TRUE\n\\item TRUE\n\\item TRUE\n\\item TRUE\n\\item TRUE\n\\end{enumerate*}\n",
            "text/markdown": "1. FALSE\n2. FALSE\n3. FALSE\n4. FALSE\n5. TRUE\n6. TRUE\n7. TRUE\n8. TRUE\n9. TRUE\n10. TRUE\n\n\n",
            "text/html": [
              "<style>\n",
              ".list-inline {list-style: none; margin:0; padding: 0}\n",
              ".list-inline>li {display: inline-block}\n",
              ".list-inline>li:not(:last-child)::after {content: \"\\00b7\"; padding: 0 .5ex}\n",
              "</style>\n",
              "<ol class=list-inline><li>FALSE</li><li>FALSE</li><li>FALSE</li><li>FALSE</li><li>TRUE</li><li>TRUE</li><li>TRUE</li><li>TRUE</li><li>TRUE</li><li>TRUE</li></ol>\n"
            ]
          },
          "metadata": {
            "tags": []
          }
        }
      ]
    },
    {
      "cell_type": "code",
      "metadata": {
        "id": "3qJeMygGbgJo",
        "outputId": "0e554746-fd88-40d1-eee7-2a7f45427948",
        "colab": {
          "base_uri": "https://localhost:8080/",
          "height": 68
        }
      },
      "source": [
        "gender <- c(\"男\",\"女\",\"男\",\"男\",\"女\",\"中\")\n",
        "gender <- factor(gender)\n",
        "gender\n",
        "levels(gender)"
      ],
      "execution_count": 9,
      "outputs": [
        {
          "output_type": "display_data",
          "data": {
            "text/plain": [
              "[1] 男 女 男 男 女 中\n",
              "Levels: 中 女 男"
            ],
            "text/latex": "\\begin{enumerate*}\n\\item 男\n\\item 女\n\\item 男\n\\item 男\n\\item 女\n\\item 中\n\\end{enumerate*}\n\n\\emph{Levels}: \\begin{enumerate*}\n\\item '中'\n\\item '女'\n\\item '男'\n\\end{enumerate*}\n",
            "text/markdown": "1. 男\n2. 女\n3. 男\n4. 男\n5. 女\n6. 中\n\n\n\n**Levels**: 1. '中'\n2. '女'\n3. '男'\n\n\n",
            "text/html": [
              "<style>\n",
              ".list-inline {list-style: none; margin:0; padding: 0}\n",
              ".list-inline>li {display: inline-block}\n",
              ".list-inline>li:not(:last-child)::after {content: \"\\00b7\"; padding: 0 .5ex}\n",
              "</style>\n",
              "<ol class=list-inline><li>男</li><li>女</li><li>男</li><li>男</li><li>女</li><li>中</li></ol>\n",
              "\n",
              "<details>\n",
              "\t<summary style=display:list-item;cursor:pointer>\n",
              "\t\t<strong>Levels</strong>:\n",
              "\t</summary>\n",
              "\t<style>\n",
              "\t.list-inline {list-style: none; margin:0; padding: 0}\n",
              "\t.list-inline>li {display: inline-block}\n",
              "\t.list-inline>li:not(:last-child)::after {content: \"\\00b7\"; padding: 0 .5ex}\n",
              "\t</style>\n",
              "\t<ol class=list-inline><li>'中'</li><li>'女'</li><li>'男'</li></ol>\n",
              "</details>"
            ]
          },
          "metadata": {
            "tags": []
          }
        },
        {
          "output_type": "display_data",
          "data": {
            "text/plain": [
              "[1] \"中\" \"女\" \"男\""
            ],
            "text/latex": "\\begin{enumerate*}\n\\item '中'\n\\item '女'\n\\item '男'\n\\end{enumerate*}\n",
            "text/markdown": "1. '中'\n2. '女'\n3. '男'\n\n\n",
            "text/html": [
              "<style>\n",
              ".list-inline {list-style: none; margin:0; padding: 0}\n",
              ".list-inline>li {display: inline-block}\n",
              ".list-inline>li:not(:last-child)::after {content: \"\\00b7\"; padding: 0 .5ex}\n",
              "</style>\n",
              "<ol class=list-inline><li>'中'</li><li>'女'</li><li>'男'</li></ol>\n"
            ]
          },
          "metadata": {
            "tags": []
          }
        }
      ]
    },
    {
      "cell_type": "code",
      "metadata": {
        "id": "_s_52h78b3wK",
        "outputId": "569758bc-4098-47fa-b62c-8347f1e972d6",
        "colab": {
          "base_uri": "https://localhost:8080/",
          "height": 296
        }
      },
      "source": [
        "j <- matrix(c(1:6),nrow=3,ncol=2)\n",
        "j\n",
        "k <- matrix(c(7:12),nrow=2,ncol=3)\n",
        "k"
      ],
      "execution_count": 12,
      "outputs": [
        {
          "output_type": "display_data",
          "data": {
            "text/plain": [
              "     [,1] [,2]\n",
              "[1,] 1    4   \n",
              "[2,] 2    5   \n",
              "[3,] 3    6   "
            ],
            "text/latex": "A matrix: 3 × 2 of type int\n\\begin{tabular}{ll}\n\t 1 & 4\\\\\n\t 2 & 5\\\\\n\t 3 & 6\\\\\n\\end{tabular}\n",
            "text/markdown": "\nA matrix: 3 × 2 of type int\n\n| 1 | 4 |\n| 2 | 5 |\n| 3 | 6 |\n\n",
            "text/html": [
              "<table>\n",
              "<caption>A matrix: 3 × 2 of type int</caption>\n",
              "<tbody>\n",
              "\t<tr><td>1</td><td>4</td></tr>\n",
              "\t<tr><td>2</td><td>5</td></tr>\n",
              "\t<tr><td>3</td><td>6</td></tr>\n",
              "</tbody>\n",
              "</table>\n"
            ]
          },
          "metadata": {
            "tags": []
          }
        },
        {
          "output_type": "display_data",
          "data": {
            "text/plain": [
              "     [,1] [,2] [,3]\n",
              "[1,] 7     9   11  \n",
              "[2,] 8    10   12  "
            ],
            "text/latex": "A matrix: 2 × 3 of type int\n\\begin{tabular}{lll}\n\t 7 &  9 & 11\\\\\n\t 8 & 10 & 12\\\\\n\\end{tabular}\n",
            "text/markdown": "\nA matrix: 2 × 3 of type int\n\n| 7 |  9 | 11 |\n| 8 | 10 | 12 |\n\n",
            "text/html": [
              "<table>\n",
              "<caption>A matrix: 2 × 3 of type int</caption>\n",
              "<tbody>\n",
              "\t<tr><td>7</td><td> 9</td><td>11</td></tr>\n",
              "\t<tr><td>8</td><td>10</td><td>12</td></tr>\n",
              "</tbody>\n",
              "</table>\n"
            ]
          },
          "metadata": {
            "tags": []
          }
        }
      ]
    },
    {
      "cell_type": "code",
      "metadata": {
        "id": "nfUdiFcRdPTe",
        "outputId": "071806f3-b2f5-44a0-b7a7-e87182e5c5b3",
        "colab": {
          "base_uri": "https://localhost:8080/",
          "height": 119
        }
      },
      "source": [
        "j[2,2]\n",
        "j[2,]\n",
        "j[,2]\n",
        "k[2,3]\n",
        "k[1,]\n",
        "k[,3]"
      ],
      "execution_count": 17,
      "outputs": [
        {
          "output_type": "display_data",
          "data": {
            "text/plain": [
              "[1] 5"
            ],
            "text/latex": "5",
            "text/markdown": "5",
            "text/html": [
              "5"
            ]
          },
          "metadata": {
            "tags": []
          }
        },
        {
          "output_type": "display_data",
          "data": {
            "text/plain": [
              "[1] 2 5"
            ],
            "text/latex": "\\begin{enumerate*}\n\\item 2\n\\item 5\n\\end{enumerate*}\n",
            "text/markdown": "1. 2\n2. 5\n\n\n",
            "text/html": [
              "<style>\n",
              ".list-inline {list-style: none; margin:0; padding: 0}\n",
              ".list-inline>li {display: inline-block}\n",
              ".list-inline>li:not(:last-child)::after {content: \"\\00b7\"; padding: 0 .5ex}\n",
              "</style>\n",
              "<ol class=list-inline><li>2</li><li>5</li></ol>\n"
            ]
          },
          "metadata": {
            "tags": []
          }
        },
        {
          "output_type": "display_data",
          "data": {
            "text/plain": [
              "[1] 4 5 6"
            ],
            "text/latex": "\\begin{enumerate*}\n\\item 4\n\\item 5\n\\item 6\n\\end{enumerate*}\n",
            "text/markdown": "1. 4\n2. 5\n3. 6\n\n\n",
            "text/html": [
              "<style>\n",
              ".list-inline {list-style: none; margin:0; padding: 0}\n",
              ".list-inline>li {display: inline-block}\n",
              ".list-inline>li:not(:last-child)::after {content: \"\\00b7\"; padding: 0 .5ex}\n",
              "</style>\n",
              "<ol class=list-inline><li>4</li><li>5</li><li>6</li></ol>\n"
            ]
          },
          "metadata": {
            "tags": []
          }
        },
        {
          "output_type": "display_data",
          "data": {
            "text/plain": [
              "[1] 12"
            ],
            "text/latex": "12",
            "text/markdown": "12",
            "text/html": [
              "12"
            ]
          },
          "metadata": {
            "tags": []
          }
        },
        {
          "output_type": "display_data",
          "data": {
            "text/plain": [
              "[1]  7  9 11"
            ],
            "text/latex": "\\begin{enumerate*}\n\\item 7\n\\item 9\n\\item 11\n\\end{enumerate*}\n",
            "text/markdown": "1. 7\n2. 9\n3. 11\n\n\n",
            "text/html": [
              "<style>\n",
              ".list-inline {list-style: none; margin:0; padding: 0}\n",
              ".list-inline>li {display: inline-block}\n",
              ".list-inline>li:not(:last-child)::after {content: \"\\00b7\"; padding: 0 .5ex}\n",
              "</style>\n",
              "<ol class=list-inline><li>7</li><li>9</li><li>11</li></ol>\n"
            ]
          },
          "metadata": {
            "tags": []
          }
        },
        {
          "output_type": "display_data",
          "data": {
            "text/plain": [
              "[1] 11 12"
            ],
            "text/latex": "\\begin{enumerate*}\n\\item 11\n\\item 12\n\\end{enumerate*}\n",
            "text/markdown": "1. 11\n2. 12\n\n\n",
            "text/html": [
              "<style>\n",
              ".list-inline {list-style: none; margin:0; padding: 0}\n",
              ".list-inline>li {display: inline-block}\n",
              ".list-inline>li:not(:last-child)::after {content: \"\\00b7\"; padding: 0 .5ex}\n",
              "</style>\n",
              "<ol class=list-inline><li>11</li><li>12</li></ol>\n"
            ]
          },
          "metadata": {
            "tags": []
          }
        }
      ]
    },
    {
      "cell_type": "code",
      "metadata": {
        "id": "vH0iqpLve5di",
        "outputId": "719466c4-3d1b-457d-88b6-15880af0ab3d",
        "colab": {
          "base_uri": "https://localhost:8080/",
          "height": 183
        }
      },
      "source": [
        "tmp <- data.frame(student_ID=c(1,2,3,4,5),\n",
        "             name=c(\"James\",\"Amy\",\"Leo\",\"Tena\",\"Jaham\"),\n",
        "             score=c(80,36,88.9,97.5,60))\n",
        "tmp"
      ],
      "execution_count": 20,
      "outputs": [
        {
          "output_type": "display_data",
          "data": {
            "text/plain": [
              "  student_ID name  score\n",
              "1 1          James 80.0 \n",
              "2 2          Amy   36.0 \n",
              "3 3          Leo   88.9 \n",
              "4 4          Tena  97.5 \n",
              "5 5          Jaham 60.0 "
            ],
            "text/latex": "A data.frame: 5 × 3\n\\begin{tabular}{lll}\n student\\_ID & name & score\\\\\n <dbl> & <chr> & <dbl>\\\\\n\\hline\n\t 1 & James & 80.0\\\\\n\t 2 & Amy   & 36.0\\\\\n\t 3 & Leo   & 88.9\\\\\n\t 4 & Tena  & 97.5\\\\\n\t 5 & Jaham & 60.0\\\\\n\\end{tabular}\n",
            "text/markdown": "\nA data.frame: 5 × 3\n\n| student_ID &lt;dbl&gt; | name &lt;chr&gt; | score &lt;dbl&gt; |\n|---|---|---|\n| 1 | James | 80.0 |\n| 2 | Amy   | 36.0 |\n| 3 | Leo   | 88.9 |\n| 4 | Tena  | 97.5 |\n| 5 | Jaham | 60.0 |\n\n",
            "text/html": [
              "<table>\n",
              "<caption>A data.frame: 5 × 3</caption>\n",
              "<thead>\n",
              "\t<tr><th scope=col>student_ID</th><th scope=col>name</th><th scope=col>score</th></tr>\n",
              "\t<tr><th scope=col>&lt;dbl&gt;</th><th scope=col>&lt;chr&gt;</th><th scope=col>&lt;dbl&gt;</th></tr>\n",
              "</thead>\n",
              "<tbody>\n",
              "\t<tr><td>1</td><td>James</td><td>80.0</td></tr>\n",
              "\t<tr><td>2</td><td>Amy  </td><td>36.0</td></tr>\n",
              "\t<tr><td>3</td><td>Leo  </td><td>88.9</td></tr>\n",
              "\t<tr><td>4</td><td>Tena </td><td>97.5</td></tr>\n",
              "\t<tr><td>5</td><td>Jaham</td><td>60.0</td></tr>\n",
              "</tbody>\n",
              "</table>\n"
            ]
          },
          "metadata": {
            "tags": []
          }
        }
      ]
    },
    {
      "cell_type": "code",
      "metadata": {
        "id": "AFRGroPMhEO-",
        "outputId": "acc0583c-8d7f-4c82-afae-447c2e0fd5cc",
        "colab": {
          "base_uri": "https://localhost:8080/",
          "height": 232
        }
      },
      "source": [
        "tmp[2,3]\n",
        "tmp[,2]\n",
        "tmp$name==\"Tena\"\n",
        "tmp[tmp$name==\"Amy\",]\n",
        "tmp[tmp$name==\"Jaham\",]"
      ],
      "execution_count": 24,
      "outputs": [
        {
          "output_type": "display_data",
          "data": {
            "text/plain": [
              "[1] 36"
            ],
            "text/latex": "36",
            "text/markdown": "36",
            "text/html": [
              "36"
            ]
          },
          "metadata": {
            "tags": []
          }
        },
        {
          "output_type": "display_data",
          "data": {
            "text/plain": [
              "[1] \"James\" \"Amy\"   \"Leo\"   \"Tena\"  \"Jaham\""
            ],
            "text/latex": "\\begin{enumerate*}\n\\item 'James'\n\\item 'Amy'\n\\item 'Leo'\n\\item 'Tena'\n\\item 'Jaham'\n\\end{enumerate*}\n",
            "text/markdown": "1. 'James'\n2. 'Amy'\n3. 'Leo'\n4. 'Tena'\n5. 'Jaham'\n\n\n",
            "text/html": [
              "<style>\n",
              ".list-inline {list-style: none; margin:0; padding: 0}\n",
              ".list-inline>li {display: inline-block}\n",
              ".list-inline>li:not(:last-child)::after {content: \"\\00b7\"; padding: 0 .5ex}\n",
              "</style>\n",
              "<ol class=list-inline><li>'James'</li><li>'Amy'</li><li>'Leo'</li><li>'Tena'</li><li>'Jaham'</li></ol>\n"
            ]
          },
          "metadata": {
            "tags": []
          }
        },
        {
          "output_type": "display_data",
          "data": {
            "text/plain": [
              "[1] FALSE FALSE FALSE  TRUE FALSE"
            ],
            "text/latex": "\\begin{enumerate*}\n\\item FALSE\n\\item FALSE\n\\item FALSE\n\\item TRUE\n\\item FALSE\n\\end{enumerate*}\n",
            "text/markdown": "1. FALSE\n2. FALSE\n3. FALSE\n4. TRUE\n5. FALSE\n\n\n",
            "text/html": [
              "<style>\n",
              ".list-inline {list-style: none; margin:0; padding: 0}\n",
              ".list-inline>li {display: inline-block}\n",
              ".list-inline>li:not(:last-child)::after {content: \"\\00b7\"; padding: 0 .5ex}\n",
              "</style>\n",
              "<ol class=list-inline><li>FALSE</li><li>FALSE</li><li>FALSE</li><li>TRUE</li><li>FALSE</li></ol>\n"
            ]
          },
          "metadata": {
            "tags": []
          }
        },
        {
          "output_type": "display_data",
          "data": {
            "text/plain": [
              "  student_ID name score\n",
              "2 2          Amy  36   "
            ],
            "text/latex": "A data.frame: 1 × 3\n\\begin{tabular}{r|lll}\n  & student\\_ID & name & score\\\\\n  & <dbl> & <chr> & <dbl>\\\\\n\\hline\n\t2 & 2 & Amy & 36\\\\\n\\end{tabular}\n",
            "text/markdown": "\nA data.frame: 1 × 3\n\n| <!--/--> | student_ID &lt;dbl&gt; | name &lt;chr&gt; | score &lt;dbl&gt; |\n|---|---|---|---|\n| 2 | 2 | Amy | 36 |\n\n",
            "text/html": [
              "<table>\n",
              "<caption>A data.frame: 1 × 3</caption>\n",
              "<thead>\n",
              "\t<tr><th></th><th scope=col>student_ID</th><th scope=col>name</th><th scope=col>score</th></tr>\n",
              "\t<tr><th></th><th scope=col>&lt;dbl&gt;</th><th scope=col>&lt;chr&gt;</th><th scope=col>&lt;dbl&gt;</th></tr>\n",
              "</thead>\n",
              "<tbody>\n",
              "\t<tr><th scope=row>2</th><td>2</td><td>Amy</td><td>36</td></tr>\n",
              "</tbody>\n",
              "</table>\n"
            ]
          },
          "metadata": {
            "tags": []
          }
        },
        {
          "output_type": "display_data",
          "data": {
            "text/plain": [
              "  student_ID name  score\n",
              "5 5          Jaham 60   "
            ],
            "text/latex": "A data.frame: 1 × 3\n\\begin{tabular}{r|lll}\n  & student\\_ID & name & score\\\\\n  & <dbl> & <chr> & <dbl>\\\\\n\\hline\n\t5 & 5 & Jaham & 60\\\\\n\\end{tabular}\n",
            "text/markdown": "\nA data.frame: 1 × 3\n\n| <!--/--> | student_ID &lt;dbl&gt; | name &lt;chr&gt; | score &lt;dbl&gt; |\n|---|---|---|---|\n| 5 | 5 | Jaham | 60 |\n\n",
            "text/html": [
              "<table>\n",
              "<caption>A data.frame: 1 × 3</caption>\n",
              "<thead>\n",
              "\t<tr><th></th><th scope=col>student_ID</th><th scope=col>name</th><th scope=col>score</th></tr>\n",
              "\t<tr><th></th><th scope=col>&lt;dbl&gt;</th><th scope=col>&lt;chr&gt;</th><th scope=col>&lt;dbl&gt;</th></tr>\n",
              "</thead>\n",
              "<tbody>\n",
              "\t<tr><th scope=row>5</th><td>5</td><td>Jaham</td><td>60</td></tr>\n",
              "</tbody>\n",
              "</table>\n"
            ]
          },
          "metadata": {
            "tags": []
          }
        }
      ]
    },
    {
      "cell_type": "code",
      "metadata": {
        "id": "bSFLDHU1iCdI",
        "outputId": "a87f7c33-f5cf-40df-9f24-9df95f086de8",
        "colab": {
          "base_uri": "https://localhost:8080/",
          "height": 68
        }
      },
      "source": [
        "install.packages(\"SportsAnalytics\")\n",
        "library(SportsAnalytics)\n",
        "NBA1516 <- fetch_NBAPlayerStatistics(\"15-16\")"
      ],
      "execution_count": 25,
      "outputs": [
        {
          "output_type": "stream",
          "text": [
            "Installing package into ‘/usr/local/lib/R/site-library’\n",
            "(as ‘lib’ is unspecified)\n",
            "\n"
          ],
          "name": "stderr"
        }
      ]
    },
    {
      "cell_type": "code",
      "metadata": {
        "id": "OLgrDHMJkFb2",
        "outputId": "838a8b57-a10e-4cf5-d9aa-ae8d630f1ee0",
        "colab": {
          "base_uri": "https://localhost:8080/",
          "height": 459
        }
      },
      "source": [
        "str(NBA1516)"
      ],
      "execution_count": 31,
      "outputs": [
        {
          "output_type": "stream",
          "text": [
            "'data.frame':\t476 obs. of  25 variables:\n",
            " $ League             : Factor w/ 1 level \"NBA\": 1 1 1 1 1 1 1 1 1 1 ...\n",
            " $ Name               : chr  \"Quincy Acy\" \"Jordan Adams\" \"Steven Adams\" \"Arron Afflalo\" ...\n",
            " $ Team               : Factor w/ 31 levels \"ATL\",\"BOS\",\"BRO\",..: 27 15 22 20 19 13 28 26 12 15 ...\n",
            " $ Position           : Factor w/ 5 levels \"C\",\"PF\",\"PG\",..: 4 5 1 5 1 1 2 2 2 5 ...\n",
            " $ GamesPlayed        : int  59 2 80 71 59 60 74 9 79 64 ...\n",
            " $ TotalMinutesPlayed : int  877 15 2019 2359 863 802 2260 37 1601 1622 ...\n",
            " $ FieldGoalsMade     : int  119 2 261 354 150 134 536 5 191 215 ...\n",
            " $ FieldGoalsAttempted: int  214 6 426 799 314 225 1045 10 370 469 ...\n",
            " $ ThreesMade         : int  19 0 0 91 0 0 0 0 0 15 ...\n",
            " $ ThreesAttempted    : int  49 1 0 238 1 0 16 0 0 42 ...\n",
            " $ FreeThrowsMade     : int  50 3 114 110 52 60 259 0 46 90 ...\n",
            " $ FreeThrowsAttempted: int  68 5 196 131 62 84 302 0 73 138 ...\n",
            " $ OffensiveRebounds  : int  65 0 218 23 75 86 175 2 162 104 ...\n",
            " $ TotalRebounds      : int  188 2 531 266 269 288 631 6 424 297 ...\n",
            " $ Assists            : int  27 3 61 145 32 50 110 0 76 70 ...\n",
            " $ Steals             : int  29 3 42 25 19 47 38 1 26 109 ...\n",
            " $ Turnovers          : int  27 2 84 82 54 64 99 1 69 78 ...\n",
            " $ Blocks             : int  24 0 89 10 36 68 81 2 42 18 ...\n",
            " $ PersonalFouls      : int  103 2 223 142 134 139 151 1 147 175 ...\n",
            " $ Disqualifications  : int  0 0 2 1 0 1 0 0 1 1 ...\n",
            " $ TotalPoints        : int  307 7 636 909 352 328 1331 10 428 535 ...\n",
            " $ Technicals         : int  3 0 2 1 2 0 0 0 0 1 ...\n",
            " $ Ejections          : int  0 0 0 0 0 0 0 0 0 0 ...\n",
            " $ FlagrantFouls      : int  0 0 0 0 0 0 0 0 0 0 ...\n",
            " $ GamesStarted       : int  29 0 80 57 17 5 74 0 28 56 ...\n"
          ],
          "name": "stdout"
        }
      ]
    },
    {
      "cell_type": "code",
      "metadata": {
        "id": "stTv1WXWkNpi",
        "outputId": "e8e7d649-6bf5-4285-d567-a8bd33603a71",
        "colab": {
          "base_uri": "https://localhost:8080/",
          "height": 85
        }
      },
      "source": [
        "NBA1516OrderM <- NBA1516[order(NBA1516$TotalMinutesPlayed,decreasing = T),]\n",
        "NBA1516OrderM[1:20,\"Name\"]\n",
        "NBA1516OrderM[1:30,\"Name\"]"
      ],
      "execution_count": 29,
      "outputs": [
        {
          "output_type": "display_data",
          "data": {
            "text/plain": [
              " [1] \"James Harden\"     \"Gordon Hayward\"   \"Kemba Walker\"     \"Trevor Ariza\"    \n",
              " [5] \"Khris Middleton\"  \"Kyle Lowry\"       \"Marcus Morris\"    \"Andrew Wiggins\"  \n",
              " [9] \"Paul George\"      \"Gi Antetokounmpo\" \"Draymond Green\"   \"Demar Derozan\"   \n",
              "[13] \"Ke Caldwell-pope\" \"John Wall\"        \"C.j. Mccollum\"    \"Russel Westbrook\"\n",
              "[17] \"Monta Ellis\"      \"Lebron James\"     \"Stephen Curry\"    \"Joe Johnson\"     "
            ],
            "text/latex": "\\begin{enumerate*}\n\\item 'James Harden'\n\\item 'Gordon Hayward'\n\\item 'Kemba Walker'\n\\item 'Trevor Ariza'\n\\item 'Khris Middleton'\n\\item 'Kyle Lowry'\n\\item 'Marcus Morris'\n\\item 'Andrew Wiggins'\n\\item 'Paul George'\n\\item 'Gi Antetokounmpo'\n\\item 'Draymond Green'\n\\item 'Demar Derozan'\n\\item 'Ke Caldwell-pope'\n\\item 'John Wall'\n\\item 'C.j. Mccollum'\n\\item 'Russel Westbrook'\n\\item 'Monta Ellis'\n\\item 'Lebron James'\n\\item 'Stephen Curry'\n\\item 'Joe Johnson'\n\\end{enumerate*}\n",
            "text/markdown": "1. 'James Harden'\n2. 'Gordon Hayward'\n3. 'Kemba Walker'\n4. 'Trevor Ariza'\n5. 'Khris Middleton'\n6. 'Kyle Lowry'\n7. 'Marcus Morris'\n8. 'Andrew Wiggins'\n9. 'Paul George'\n10. 'Gi Antetokounmpo'\n11. 'Draymond Green'\n12. 'Demar Derozan'\n13. 'Ke Caldwell-pope'\n14. 'John Wall'\n15. 'C.j. Mccollum'\n16. 'Russel Westbrook'\n17. 'Monta Ellis'\n18. 'Lebron James'\n19. 'Stephen Curry'\n20. 'Joe Johnson'\n\n\n",
            "text/html": [
              "<style>\n",
              ".list-inline {list-style: none; margin:0; padding: 0}\n",
              ".list-inline>li {display: inline-block}\n",
              ".list-inline>li:not(:last-child)::after {content: \"\\00b7\"; padding: 0 .5ex}\n",
              "</style>\n",
              "<ol class=list-inline><li>'James Harden'</li><li>'Gordon Hayward'</li><li>'Kemba Walker'</li><li>'Trevor Ariza'</li><li>'Khris Middleton'</li><li>'Kyle Lowry'</li><li>'Marcus Morris'</li><li>'Andrew Wiggins'</li><li>'Paul George'</li><li>'Gi Antetokounmpo'</li><li>'Draymond Green'</li><li>'Demar Derozan'</li><li>'Ke Caldwell-pope'</li><li>'John Wall'</li><li>'C.j. Mccollum'</li><li>'Russel Westbrook'</li><li>'Monta Ellis'</li><li>'Lebron James'</li><li>'Stephen Curry'</li><li>'Joe Johnson'</li></ol>\n"
            ]
          },
          "metadata": {
            "tags": []
          }
        },
        {
          "output_type": "display_data",
          "data": {
            "text/plain": [
              " [1] \"James Harden\"     \"Gordon Hayward\"   \"Kemba Walker\"     \"Trevor Ariza\"    \n",
              " [5] \"Khris Middleton\"  \"Kyle Lowry\"       \"Marcus Morris\"    \"Andrew Wiggins\"  \n",
              " [9] \"Paul George\"      \"Gi Antetokounmpo\" \"Draymond Green\"   \"Demar Derozan\"   \n",
              "[13] \"Ke Caldwell-pope\" \"John Wall\"        \"C.j. Mccollum\"    \"Russel Westbrook\"\n",
              "[17] \"Monta Ellis\"      \"Lebron James\"     \"Stephen Curry\"    \"Joe Johnson\"     \n",
              "[21] \"Damian Lillard\"   \"Andre Drummond\"   \"Klay Thompson\"    \"Isaiah Thomas\"   \n",
              "[25] \"Wesley Matthews\"  \"Paul Millsap\"     \"Al Horford\"       \"Karl-antho Towns\"\n",
              "[29] \"Deandre Jordan\"   \"Kevin Durant\"    "
            ],
            "text/latex": "\\begin{enumerate*}\n\\item 'James Harden'\n\\item 'Gordon Hayward'\n\\item 'Kemba Walker'\n\\item 'Trevor Ariza'\n\\item 'Khris Middleton'\n\\item 'Kyle Lowry'\n\\item 'Marcus Morris'\n\\item 'Andrew Wiggins'\n\\item 'Paul George'\n\\item 'Gi Antetokounmpo'\n\\item 'Draymond Green'\n\\item 'Demar Derozan'\n\\item 'Ke Caldwell-pope'\n\\item 'John Wall'\n\\item 'C.j. Mccollum'\n\\item 'Russel Westbrook'\n\\item 'Monta Ellis'\n\\item 'Lebron James'\n\\item 'Stephen Curry'\n\\item 'Joe Johnson'\n\\item 'Damian Lillard'\n\\item 'Andre Drummond'\n\\item 'Klay Thompson'\n\\item 'Isaiah Thomas'\n\\item 'Wesley Matthews'\n\\item 'Paul Millsap'\n\\item 'Al Horford'\n\\item 'Karl-antho Towns'\n\\item 'Deandre Jordan'\n\\item 'Kevin Durant'\n\\end{enumerate*}\n",
            "text/markdown": "1. 'James Harden'\n2. 'Gordon Hayward'\n3. 'Kemba Walker'\n4. 'Trevor Ariza'\n5. 'Khris Middleton'\n6. 'Kyle Lowry'\n7. 'Marcus Morris'\n8. 'Andrew Wiggins'\n9. 'Paul George'\n10. 'Gi Antetokounmpo'\n11. 'Draymond Green'\n12. 'Demar Derozan'\n13. 'Ke Caldwell-pope'\n14. 'John Wall'\n15. 'C.j. Mccollum'\n16. 'Russel Westbrook'\n17. 'Monta Ellis'\n18. 'Lebron James'\n19. 'Stephen Curry'\n20. 'Joe Johnson'\n21. 'Damian Lillard'\n22. 'Andre Drummond'\n23. 'Klay Thompson'\n24. 'Isaiah Thomas'\n25. 'Wesley Matthews'\n26. 'Paul Millsap'\n27. 'Al Horford'\n28. 'Karl-antho Towns'\n29. 'Deandre Jordan'\n30. 'Kevin Durant'\n\n\n",
            "text/html": [
              "<style>\n",
              ".list-inline {list-style: none; margin:0; padding: 0}\n",
              ".list-inline>li {display: inline-block}\n",
              ".list-inline>li:not(:last-child)::after {content: \"\\00b7\"; padding: 0 .5ex}\n",
              "</style>\n",
              "<ol class=list-inline><li>'James Harden'</li><li>'Gordon Hayward'</li><li>'Kemba Walker'</li><li>'Trevor Ariza'</li><li>'Khris Middleton'</li><li>'Kyle Lowry'</li><li>'Marcus Morris'</li><li>'Andrew Wiggins'</li><li>'Paul George'</li><li>'Gi Antetokounmpo'</li><li>'Draymond Green'</li><li>'Demar Derozan'</li><li>'Ke Caldwell-pope'</li><li>'John Wall'</li><li>'C.j. Mccollum'</li><li>'Russel Westbrook'</li><li>'Monta Ellis'</li><li>'Lebron James'</li><li>'Stephen Curry'</li><li>'Joe Johnson'</li><li>'Damian Lillard'</li><li>'Andre Drummond'</li><li>'Klay Thompson'</li><li>'Isaiah Thomas'</li><li>'Wesley Matthews'</li><li>'Paul Millsap'</li><li>'Al Horford'</li><li>'Karl-antho Towns'</li><li>'Deandre Jordan'</li><li>'Kevin Durant'</li></ol>\n"
            ]
          },
          "metadata": {
            "tags": []
          }
        }
      ]
    },
    {
      "cell_type": "code",
      "metadata": {
        "id": "Rph4g4rJm3XO",
        "outputId": "fd6ad9d3-4b4f-43bf-b0cd-c5f46b84d28e",
        "colab": {
          "base_uri": "https://localhost:8080/",
          "height": 204
        }
      },
      "source": [
        "head(NBA1516)"
      ],
      "execution_count": 35,
      "outputs": [
        {
          "output_type": "display_data",
          "data": {
            "text/plain": [
              "  League Name          Team Position GamesPlayed TotalMinutesPlayed\n",
              "1 NBA    Quincy Acy    SAC  SF       59           877              \n",
              "2 NBA    Jordan Adams  MEM  SG        2            15              \n",
              "3 NBA    Steven Adams  OKL  C        80          2019              \n",
              "4 NBA    Arron Afflalo NYK  SG       71          2359              \n",
              "5 NBA    Alexis Ajinca NOR  C        59           863              \n",
              "6 NBA    Cole Aldrich  LAC  C        60           802              \n",
              "  FieldGoalsMade FieldGoalsAttempted ThreesMade ThreesAttempted ⋯ Steals\n",
              "1 119            214                 19          49             ⋯ 29    \n",
              "2   2              6                  0           1             ⋯  3    \n",
              "3 261            426                  0           0             ⋯ 42    \n",
              "4 354            799                 91         238             ⋯ 25    \n",
              "5 150            314                  0           1             ⋯ 19    \n",
              "6 134            225                  0           0             ⋯ 47    \n",
              "  Turnovers Blocks PersonalFouls Disqualifications TotalPoints Technicals\n",
              "1 27        24     103           0                 307         3         \n",
              "2  2         0       2           0                   7         0         \n",
              "3 84        89     223           2                 636         2         \n",
              "4 82        10     142           1                 909         1         \n",
              "5 54        36     134           0                 352         2         \n",
              "6 64        68     139           1                 328         0         \n",
              "  Ejections FlagrantFouls GamesStarted\n",
              "1 0         0             29          \n",
              "2 0         0              0          \n",
              "3 0         0             80          \n",
              "4 0         0             57          \n",
              "5 0         0             17          \n",
              "6 0         0              5          "
            ],
            "text/latex": "A data.frame: 6 × 25\n\\begin{tabular}{r|lllllllllllllllllllll}\n  & League & Name & Team & Position & GamesPlayed & TotalMinutesPlayed & FieldGoalsMade & FieldGoalsAttempted & ThreesMade & ThreesAttempted & ⋯ & Steals & Turnovers & Blocks & PersonalFouls & Disqualifications & TotalPoints & Technicals & Ejections & FlagrantFouls & GamesStarted\\\\\n  & <fct> & <chr> & <fct> & <fct> & <int> & <int> & <int> & <int> & <int> & <int> & ⋯ & <int> & <int> & <int> & <int> & <int> & <int> & <int> & <int> & <int> & <int>\\\\\n\\hline\n\t1 & NBA & Quincy Acy    & SAC & SF & 59 &  877 & 119 & 214 & 19 &  49 & ⋯ & 29 & 27 & 24 & 103 & 0 & 307 & 3 & 0 & 0 & 29\\\\\n\t2 & NBA & Jordan Adams  & MEM & SG &  2 &   15 &   2 &   6 &  0 &   1 & ⋯ &  3 &  2 &  0 &   2 & 0 &   7 & 0 & 0 & 0 &  0\\\\\n\t3 & NBA & Steven Adams  & OKL & C  & 80 & 2019 & 261 & 426 &  0 &   0 & ⋯ & 42 & 84 & 89 & 223 & 2 & 636 & 2 & 0 & 0 & 80\\\\\n\t4 & NBA & Arron Afflalo & NYK & SG & 71 & 2359 & 354 & 799 & 91 & 238 & ⋯ & 25 & 82 & 10 & 142 & 1 & 909 & 1 & 0 & 0 & 57\\\\\n\t5 & NBA & Alexis Ajinca & NOR & C  & 59 &  863 & 150 & 314 &  0 &   1 & ⋯ & 19 & 54 & 36 & 134 & 0 & 352 & 2 & 0 & 0 & 17\\\\\n\t6 & NBA & Cole Aldrich  & LAC & C  & 60 &  802 & 134 & 225 &  0 &   0 & ⋯ & 47 & 64 & 68 & 139 & 1 & 328 & 0 & 0 & 0 &  5\\\\\n\\end{tabular}\n",
            "text/markdown": "\nA data.frame: 6 × 25\n\n| <!--/--> | League &lt;fct&gt; | Name &lt;chr&gt; | Team &lt;fct&gt; | Position &lt;fct&gt; | GamesPlayed &lt;int&gt; | TotalMinutesPlayed &lt;int&gt; | FieldGoalsMade &lt;int&gt; | FieldGoalsAttempted &lt;int&gt; | ThreesMade &lt;int&gt; | ThreesAttempted &lt;int&gt; | ⋯ ⋯ | Steals &lt;int&gt; | Turnovers &lt;int&gt; | Blocks &lt;int&gt; | PersonalFouls &lt;int&gt; | Disqualifications &lt;int&gt; | TotalPoints &lt;int&gt; | Technicals &lt;int&gt; | Ejections &lt;int&gt; | FlagrantFouls &lt;int&gt; | GamesStarted &lt;int&gt; |\n|---|---|---|---|---|---|---|---|---|---|---|---|---|---|---|---|---|---|---|---|---|---|\n| 1 | NBA | Quincy Acy    | SAC | SF | 59 |  877 | 119 | 214 | 19 |  49 | ⋯ | 29 | 27 | 24 | 103 | 0 | 307 | 3 | 0 | 0 | 29 |\n| 2 | NBA | Jordan Adams  | MEM | SG |  2 |   15 |   2 |   6 |  0 |   1 | ⋯ |  3 |  2 |  0 |   2 | 0 |   7 | 0 | 0 | 0 |  0 |\n| 3 | NBA | Steven Adams  | OKL | C  | 80 | 2019 | 261 | 426 |  0 |   0 | ⋯ | 42 | 84 | 89 | 223 | 2 | 636 | 2 | 0 | 0 | 80 |\n| 4 | NBA | Arron Afflalo | NYK | SG | 71 | 2359 | 354 | 799 | 91 | 238 | ⋯ | 25 | 82 | 10 | 142 | 1 | 909 | 1 | 0 | 0 | 57 |\n| 5 | NBA | Alexis Ajinca | NOR | C  | 59 |  863 | 150 | 314 |  0 |   1 | ⋯ | 19 | 54 | 36 | 134 | 0 | 352 | 2 | 0 | 0 | 17 |\n| 6 | NBA | Cole Aldrich  | LAC | C  | 60 |  802 | 134 | 225 |  0 |   0 | ⋯ | 47 | 64 | 68 | 139 | 1 | 328 | 0 | 0 | 0 |  5 |\n\n",
            "text/html": [
              "<table>\n",
              "<caption>A data.frame: 6 × 25</caption>\n",
              "<thead>\n",
              "\t<tr><th></th><th scope=col>League</th><th scope=col>Name</th><th scope=col>Team</th><th scope=col>Position</th><th scope=col>GamesPlayed</th><th scope=col>TotalMinutesPlayed</th><th scope=col>FieldGoalsMade</th><th scope=col>FieldGoalsAttempted</th><th scope=col>ThreesMade</th><th scope=col>ThreesAttempted</th><th scope=col>⋯</th><th scope=col>Steals</th><th scope=col>Turnovers</th><th scope=col>Blocks</th><th scope=col>PersonalFouls</th><th scope=col>Disqualifications</th><th scope=col>TotalPoints</th><th scope=col>Technicals</th><th scope=col>Ejections</th><th scope=col>FlagrantFouls</th><th scope=col>GamesStarted</th></tr>\n",
              "\t<tr><th></th><th scope=col>&lt;fct&gt;</th><th scope=col>&lt;chr&gt;</th><th scope=col>&lt;fct&gt;</th><th scope=col>&lt;fct&gt;</th><th scope=col>&lt;int&gt;</th><th scope=col>&lt;int&gt;</th><th scope=col>&lt;int&gt;</th><th scope=col>&lt;int&gt;</th><th scope=col>&lt;int&gt;</th><th scope=col>&lt;int&gt;</th><th scope=col>⋯</th><th scope=col>&lt;int&gt;</th><th scope=col>&lt;int&gt;</th><th scope=col>&lt;int&gt;</th><th scope=col>&lt;int&gt;</th><th scope=col>&lt;int&gt;</th><th scope=col>&lt;int&gt;</th><th scope=col>&lt;int&gt;</th><th scope=col>&lt;int&gt;</th><th scope=col>&lt;int&gt;</th><th scope=col>&lt;int&gt;</th></tr>\n",
              "</thead>\n",
              "<tbody>\n",
              "\t<tr><th scope=row>1</th><td>NBA</td><td>Quincy Acy   </td><td>SAC</td><td>SF</td><td>59</td><td> 877</td><td>119</td><td>214</td><td>19</td><td> 49</td><td>⋯</td><td>29</td><td>27</td><td>24</td><td>103</td><td>0</td><td>307</td><td>3</td><td>0</td><td>0</td><td>29</td></tr>\n",
              "\t<tr><th scope=row>2</th><td>NBA</td><td>Jordan Adams </td><td>MEM</td><td>SG</td><td> 2</td><td>  15</td><td>  2</td><td>  6</td><td> 0</td><td>  1</td><td>⋯</td><td> 3</td><td> 2</td><td> 0</td><td>  2</td><td>0</td><td>  7</td><td>0</td><td>0</td><td>0</td><td> 0</td></tr>\n",
              "\t<tr><th scope=row>3</th><td>NBA</td><td>Steven Adams </td><td>OKL</td><td>C </td><td>80</td><td>2019</td><td>261</td><td>426</td><td> 0</td><td>  0</td><td>⋯</td><td>42</td><td>84</td><td>89</td><td>223</td><td>2</td><td>636</td><td>2</td><td>0</td><td>0</td><td>80</td></tr>\n",
              "\t<tr><th scope=row>4</th><td>NBA</td><td>Arron Afflalo</td><td>NYK</td><td>SG</td><td>71</td><td>2359</td><td>354</td><td>799</td><td>91</td><td>238</td><td>⋯</td><td>25</td><td>82</td><td>10</td><td>142</td><td>1</td><td>909</td><td>1</td><td>0</td><td>0</td><td>57</td></tr>\n",
              "\t<tr><th scope=row>5</th><td>NBA</td><td>Alexis Ajinca</td><td>NOR</td><td>C </td><td>59</td><td> 863</td><td>150</td><td>314</td><td> 0</td><td>  1</td><td>⋯</td><td>19</td><td>54</td><td>36</td><td>134</td><td>0</td><td>352</td><td>2</td><td>0</td><td>0</td><td>17</td></tr>\n",
              "\t<tr><th scope=row>6</th><td>NBA</td><td>Cole Aldrich </td><td>LAC</td><td>C </td><td>60</td><td> 802</td><td>134</td><td>225</td><td> 0</td><td>  0</td><td>⋯</td><td>47</td><td>64</td><td>68</td><td>139</td><td>1</td><td>328</td><td>0</td><td>0</td><td>0</td><td> 5</td></tr>\n",
              "</tbody>\n",
              "</table>\n"
            ]
          },
          "metadata": {
            "tags": []
          }
        }
      ]
    },
    {
      "cell_type": "code",
      "metadata": {
        "id": "CGwYIXrPmN-Z",
        "outputId": "927c1d62-2902-46b2-96c9-fe407c296e44",
        "colab": {
          "base_uri": "https://localhost:8080/",
          "height": 676
        }
      },
      "source": [
        "subset(NBA1516,Team==\"MEM\")"
      ],
      "execution_count": 39,
      "outputs": [
        {
          "output_type": "display_data",
          "data": {
            "text/plain": [
              "    League Name             Team Position GamesPlayed TotalMinutesPlayed\n",
              "2   NBA    Jordan Adams     MEM  SG        2            15              \n",
              "10  NBA    Tony Allen       MEM  SG       64          1622              \n",
              "13  NBA    Chris Andersen   MEM  PF       27           404              \n",
              "36  NBA    Matt Barnes      MEM  SF       76          2190              \n",
              "81  NBA    Vince Carter     MEM  SG       60          1009              \n",
              "85  NBA    Mario Chalmers   MEM  PG       61          1378              \n",
              "94  NBA    Mike Conley      MEM  PG       56          1754              \n",
              "97  NBA    Bryce Cotton     MEM  PG        8            41              \n",
              "138 NBA    Jordan Farmar    MEM  PG       12           291              \n",
              "150 NBA    Marc Gasol       MEM  C        52          1792              \n",
              "170 NBA    Jamychal Green   MEM  PF       78          1443              \n",
              "174 NBA    P.j. Hairston    MEM  PF       66          1313              \n",
              "204 NBA    Ryan Hollins     MEM  C        37           462              \n",
              "281 NBA    Jarell Martin    MEM  PF       27           382              \n",
              "287 NBA    Ray Mccallum     MEM  PG       41           474              \n",
              "321 NBA    Xavier Munford   MEM  PG       14           246              \n",
              "369 NBA    Zach Randolph    MEM  PF       68          2019              \n",
              "406 NBA    Russ Smith       MEM  PG       15            65              \n",
              "411 NBA    Lance Stephenson MEM  SF       69          1371              \n",
              "412 NBA    Alex Stepheson   MEM  SF        8            72              \n",
              "461 NBA    Elliot Williams  MEM  SG        5            46              \n",
              "468 NBA    Brandan Wright   MEM  PF       12           213              \n",
              "    FieldGoalsMade FieldGoalsAttempted ThreesMade ThreesAttempted ⋯ Steals\n",
              "2     2              6                   0          1             ⋯   3   \n",
              "10  215            469                  15         42             ⋯ 109   \n",
              "13   38             72                   4         14             ⋯  15   \n",
              "36  264            693                 119        370             ⋯  78   \n",
              "81  133            343                  59        169             ⋯  38   \n",
              "85  182            444                  46        149             ⋯  88   \n",
              "94  294            696                  78        215             ⋯  67   \n",
              "97    4             10                   0          3             ⋯   3   \n",
              "138  42            100                  16         45             ⋯  15   \n",
              "150 328            707                   2          3             ⋯  50   \n",
              "170 230            495                  15         45             ⋯  46   \n",
              "174 145            408                  70        241             ⋯  32   \n",
              "204  49             79                   0          0             ⋯   6   \n",
              "281  54            116                   0          2             ⋯   8   \n",
              "287  55            146                  15         42             ⋯  12   \n",
              "321  32             77                   9         23             ⋯  13   \n",
              "369 431            907                   6         26             ⋯  43   \n",
              "406   7             22                   1          5             ⋯   5   \n",
              "411 228            474                  30         78             ⋯  43   \n",
              "412   9             27                   0          0             ⋯   1   \n",
              "461   2             10                   1          4             ⋯   1   \n",
              "468  35             52                   0          0             ⋯   5   \n",
              "    Turnovers Blocks PersonalFouls Disqualifications TotalPoints Technicals\n",
              "2     2        0       2           0                    7        0         \n",
              "10   78       18     175           1                  535        1         \n",
              "13    9       13      29           0                  105        0         \n",
              "36  121       57     234           1                  758        4         \n",
              "81   35       16     101           0                  395        1         \n",
              "85  111       13     181           0                  628        5         \n",
              "94   84       16     100           0                  857        0         \n",
              "97    5        0       2           0                    8        0         \n",
              "138  18        2      22           0                  110        0         \n",
              "150 118       70     141           0                  861        4         \n",
              "170  83       33     189           1                  578        4         \n",
              "174  41       11     137           0                  410        1         \n",
              "204  24       21      62           0                  124        1         \n",
              "281  19        7      58           0                  153        0         \n",
              "287  24        7      29           0                  137        0         \n",
              "321  15        3      25           0                   80        0         \n",
              "369 105       13     146           0                 1040        0         \n",
              "406   7        1       5           0                   23        0         \n",
              "411  94        9     135           1                  573        2         \n",
              "412   0        5      12           1                   22        0         \n",
              "461   1        0       2           0                    8        0         \n",
              "468  10       15      21           0                   83        0         \n",
              "    Ejections FlagrantFouls GamesStarted\n",
              "2   0         0              0          \n",
              "10  0         0             56          \n",
              "13  0         0             15          \n",
              "36  0         0             45          \n",
              "81  0         0              3          \n",
              "85  0         0              7          \n",
              "94  0         0             56          \n",
              "97  0         0              0          \n",
              "138 0         0             10          \n",
              "150 0         0             52          \n",
              "170 0         0             16          \n",
              "174 0         0             52          \n",
              "204 0         0             12          \n",
              "281 0         0              0          \n",
              "287 0         0              6          \n",
              "321 0         0              0          \n",
              "369 0         0             53          \n",
              "406 0         0              0          \n",
              "411 0         0             13          \n",
              "412 0         0              0          \n",
              "461 0         0              0          \n",
              "468 0         0              2          "
            ],
            "text/latex": "A data.frame: 22 × 25\n\\begin{tabular}{r|lllllllllllllllllllll}\n  & League & Name & Team & Position & GamesPlayed & TotalMinutesPlayed & FieldGoalsMade & FieldGoalsAttempted & ThreesMade & ThreesAttempted & ⋯ & Steals & Turnovers & Blocks & PersonalFouls & Disqualifications & TotalPoints & Technicals & Ejections & FlagrantFouls & GamesStarted\\\\\n  & <fct> & <chr> & <fct> & <fct> & <int> & <int> & <int> & <int> & <int> & <int> & ⋯ & <int> & <int> & <int> & <int> & <int> & <int> & <int> & <int> & <int> & <int>\\\\\n\\hline\n\t2 & NBA & Jordan Adams     & MEM & SG &  2 &   15 &   2 &   6 &   0 &   1 & ⋯ &   3 &   2 &  0 &   2 & 0 &    7 & 0 & 0 & 0 &  0\\\\\n\t10 & NBA & Tony Allen       & MEM & SG & 64 & 1622 & 215 & 469 &  15 &  42 & ⋯ & 109 &  78 & 18 & 175 & 1 &  535 & 1 & 0 & 0 & 56\\\\\n\t13 & NBA & Chris Andersen   & MEM & PF & 27 &  404 &  38 &  72 &   4 &  14 & ⋯ &  15 &   9 & 13 &  29 & 0 &  105 & 0 & 0 & 0 & 15\\\\\n\t36 & NBA & Matt Barnes      & MEM & SF & 76 & 2190 & 264 & 693 & 119 & 370 & ⋯ &  78 & 121 & 57 & 234 & 1 &  758 & 4 & 0 & 0 & 45\\\\\n\t81 & NBA & Vince Carter     & MEM & SG & 60 & 1009 & 133 & 343 &  59 & 169 & ⋯ &  38 &  35 & 16 & 101 & 0 &  395 & 1 & 0 & 0 &  3\\\\\n\t85 & NBA & Mario Chalmers   & MEM & PG & 61 & 1378 & 182 & 444 &  46 & 149 & ⋯ &  88 & 111 & 13 & 181 & 0 &  628 & 5 & 0 & 0 &  7\\\\\n\t94 & NBA & Mike Conley      & MEM & PG & 56 & 1754 & 294 & 696 &  78 & 215 & ⋯ &  67 &  84 & 16 & 100 & 0 &  857 & 0 & 0 & 0 & 56\\\\\n\t97 & NBA & Bryce Cotton     & MEM & PG &  8 &   41 &   4 &  10 &   0 &   3 & ⋯ &   3 &   5 &  0 &   2 & 0 &    8 & 0 & 0 & 0 &  0\\\\\n\t138 & NBA & Jordan Farmar    & MEM & PG & 12 &  291 &  42 & 100 &  16 &  45 & ⋯ &  15 &  18 &  2 &  22 & 0 &  110 & 0 & 0 & 0 & 10\\\\\n\t150 & NBA & Marc Gasol       & MEM & C  & 52 & 1792 & 328 & 707 &   2 &   3 & ⋯ &  50 & 118 & 70 & 141 & 0 &  861 & 4 & 0 & 0 & 52\\\\\n\t170 & NBA & Jamychal Green   & MEM & PF & 78 & 1443 & 230 & 495 &  15 &  45 & ⋯ &  46 &  83 & 33 & 189 & 1 &  578 & 4 & 0 & 0 & 16\\\\\n\t174 & NBA & P.j. Hairston    & MEM & PF & 66 & 1313 & 145 & 408 &  70 & 241 & ⋯ &  32 &  41 & 11 & 137 & 0 &  410 & 1 & 0 & 0 & 52\\\\\n\t204 & NBA & Ryan Hollins     & MEM & C  & 37 &  462 &  49 &  79 &   0 &   0 & ⋯ &   6 &  24 & 21 &  62 & 0 &  124 & 1 & 0 & 0 & 12\\\\\n\t281 & NBA & Jarell Martin    & MEM & PF & 27 &  382 &  54 & 116 &   0 &   2 & ⋯ &   8 &  19 &  7 &  58 & 0 &  153 & 0 & 0 & 0 &  0\\\\\n\t287 & NBA & Ray Mccallum     & MEM & PG & 41 &  474 &  55 & 146 &  15 &  42 & ⋯ &  12 &  24 &  7 &  29 & 0 &  137 & 0 & 0 & 0 &  6\\\\\n\t321 & NBA & Xavier Munford   & MEM & PG & 14 &  246 &  32 &  77 &   9 &  23 & ⋯ &  13 &  15 &  3 &  25 & 0 &   80 & 0 & 0 & 0 &  0\\\\\n\t369 & NBA & Zach Randolph    & MEM & PF & 68 & 2019 & 431 & 907 &   6 &  26 & ⋯ &  43 & 105 & 13 & 146 & 0 & 1040 & 0 & 0 & 0 & 53\\\\\n\t406 & NBA & Russ Smith       & MEM & PG & 15 &   65 &   7 &  22 &   1 &   5 & ⋯ &   5 &   7 &  1 &   5 & 0 &   23 & 0 & 0 & 0 &  0\\\\\n\t411 & NBA & Lance Stephenson & MEM & SF & 69 & 1371 & 228 & 474 &  30 &  78 & ⋯ &  43 &  94 &  9 & 135 & 1 &  573 & 2 & 0 & 0 & 13\\\\\n\t412 & NBA & Alex Stepheson   & MEM & SF &  8 &   72 &   9 &  27 &   0 &   0 & ⋯ &   1 &   0 &  5 &  12 & 1 &   22 & 0 & 0 & 0 &  0\\\\\n\t461 & NBA & Elliot Williams  & MEM & SG &  5 &   46 &   2 &  10 &   1 &   4 & ⋯ &   1 &   1 &  0 &   2 & 0 &    8 & 0 & 0 & 0 &  0\\\\\n\t468 & NBA & Brandan Wright   & MEM & PF & 12 &  213 &  35 &  52 &   0 &   0 & ⋯ &   5 &  10 & 15 &  21 & 0 &   83 & 0 & 0 & 0 &  2\\\\\n\\end{tabular}\n",
            "text/markdown": "\nA data.frame: 22 × 25\n\n| <!--/--> | League &lt;fct&gt; | Name &lt;chr&gt; | Team &lt;fct&gt; | Position &lt;fct&gt; | GamesPlayed &lt;int&gt; | TotalMinutesPlayed &lt;int&gt; | FieldGoalsMade &lt;int&gt; | FieldGoalsAttempted &lt;int&gt; | ThreesMade &lt;int&gt; | ThreesAttempted &lt;int&gt; | ⋯ ⋯ | Steals &lt;int&gt; | Turnovers &lt;int&gt; | Blocks &lt;int&gt; | PersonalFouls &lt;int&gt; | Disqualifications &lt;int&gt; | TotalPoints &lt;int&gt; | Technicals &lt;int&gt; | Ejections &lt;int&gt; | FlagrantFouls &lt;int&gt; | GamesStarted &lt;int&gt; |\n|---|---|---|---|---|---|---|---|---|---|---|---|---|---|---|---|---|---|---|---|---|---|\n| 2 | NBA | Jordan Adams     | MEM | SG |  2 |   15 |   2 |   6 |   0 |   1 | ⋯ |   3 |   2 |  0 |   2 | 0 |    7 | 0 | 0 | 0 |  0 |\n| 10 | NBA | Tony Allen       | MEM | SG | 64 | 1622 | 215 | 469 |  15 |  42 | ⋯ | 109 |  78 | 18 | 175 | 1 |  535 | 1 | 0 | 0 | 56 |\n| 13 | NBA | Chris Andersen   | MEM | PF | 27 |  404 |  38 |  72 |   4 |  14 | ⋯ |  15 |   9 | 13 |  29 | 0 |  105 | 0 | 0 | 0 | 15 |\n| 36 | NBA | Matt Barnes      | MEM | SF | 76 | 2190 | 264 | 693 | 119 | 370 | ⋯ |  78 | 121 | 57 | 234 | 1 |  758 | 4 | 0 | 0 | 45 |\n| 81 | NBA | Vince Carter     | MEM | SG | 60 | 1009 | 133 | 343 |  59 | 169 | ⋯ |  38 |  35 | 16 | 101 | 0 |  395 | 1 | 0 | 0 |  3 |\n| 85 | NBA | Mario Chalmers   | MEM | PG | 61 | 1378 | 182 | 444 |  46 | 149 | ⋯ |  88 | 111 | 13 | 181 | 0 |  628 | 5 | 0 | 0 |  7 |\n| 94 | NBA | Mike Conley      | MEM | PG | 56 | 1754 | 294 | 696 |  78 | 215 | ⋯ |  67 |  84 | 16 | 100 | 0 |  857 | 0 | 0 | 0 | 56 |\n| 97 | NBA | Bryce Cotton     | MEM | PG |  8 |   41 |   4 |  10 |   0 |   3 | ⋯ |   3 |   5 |  0 |   2 | 0 |    8 | 0 | 0 | 0 |  0 |\n| 138 | NBA | Jordan Farmar    | MEM | PG | 12 |  291 |  42 | 100 |  16 |  45 | ⋯ |  15 |  18 |  2 |  22 | 0 |  110 | 0 | 0 | 0 | 10 |\n| 150 | NBA | Marc Gasol       | MEM | C  | 52 | 1792 | 328 | 707 |   2 |   3 | ⋯ |  50 | 118 | 70 | 141 | 0 |  861 | 4 | 0 | 0 | 52 |\n| 170 | NBA | Jamychal Green   | MEM | PF | 78 | 1443 | 230 | 495 |  15 |  45 | ⋯ |  46 |  83 | 33 | 189 | 1 |  578 | 4 | 0 | 0 | 16 |\n| 174 | NBA | P.j. Hairston    | MEM | PF | 66 | 1313 | 145 | 408 |  70 | 241 | ⋯ |  32 |  41 | 11 | 137 | 0 |  410 | 1 | 0 | 0 | 52 |\n| 204 | NBA | Ryan Hollins     | MEM | C  | 37 |  462 |  49 |  79 |   0 |   0 | ⋯ |   6 |  24 | 21 |  62 | 0 |  124 | 1 | 0 | 0 | 12 |\n| 281 | NBA | Jarell Martin    | MEM | PF | 27 |  382 |  54 | 116 |   0 |   2 | ⋯ |   8 |  19 |  7 |  58 | 0 |  153 | 0 | 0 | 0 |  0 |\n| 287 | NBA | Ray Mccallum     | MEM | PG | 41 |  474 |  55 | 146 |  15 |  42 | ⋯ |  12 |  24 |  7 |  29 | 0 |  137 | 0 | 0 | 0 |  6 |\n| 321 | NBA | Xavier Munford   | MEM | PG | 14 |  246 |  32 |  77 |   9 |  23 | ⋯ |  13 |  15 |  3 |  25 | 0 |   80 | 0 | 0 | 0 |  0 |\n| 369 | NBA | Zach Randolph    | MEM | PF | 68 | 2019 | 431 | 907 |   6 |  26 | ⋯ |  43 | 105 | 13 | 146 | 0 | 1040 | 0 | 0 | 0 | 53 |\n| 406 | NBA | Russ Smith       | MEM | PG | 15 |   65 |   7 |  22 |   1 |   5 | ⋯ |   5 |   7 |  1 |   5 | 0 |   23 | 0 | 0 | 0 |  0 |\n| 411 | NBA | Lance Stephenson | MEM | SF | 69 | 1371 | 228 | 474 |  30 |  78 | ⋯ |  43 |  94 |  9 | 135 | 1 |  573 | 2 | 0 | 0 | 13 |\n| 412 | NBA | Alex Stepheson   | MEM | SF |  8 |   72 |   9 |  27 |   0 |   0 | ⋯ |   1 |   0 |  5 |  12 | 1 |   22 | 0 | 0 | 0 |  0 |\n| 461 | NBA | Elliot Williams  | MEM | SG |  5 |   46 |   2 |  10 |   1 |   4 | ⋯ |   1 |   1 |  0 |   2 | 0 |    8 | 0 | 0 | 0 |  0 |\n| 468 | NBA | Brandan Wright   | MEM | PF | 12 |  213 |  35 |  52 |   0 |   0 | ⋯ |   5 |  10 | 15 |  21 | 0 |   83 | 0 | 0 | 0 |  2 |\n\n",
            "text/html": [
              "<table>\n",
              "<caption>A data.frame: 22 × 25</caption>\n",
              "<thead>\n",
              "\t<tr><th></th><th scope=col>League</th><th scope=col>Name</th><th scope=col>Team</th><th scope=col>Position</th><th scope=col>GamesPlayed</th><th scope=col>TotalMinutesPlayed</th><th scope=col>FieldGoalsMade</th><th scope=col>FieldGoalsAttempted</th><th scope=col>ThreesMade</th><th scope=col>ThreesAttempted</th><th scope=col>⋯</th><th scope=col>Steals</th><th scope=col>Turnovers</th><th scope=col>Blocks</th><th scope=col>PersonalFouls</th><th scope=col>Disqualifications</th><th scope=col>TotalPoints</th><th scope=col>Technicals</th><th scope=col>Ejections</th><th scope=col>FlagrantFouls</th><th scope=col>GamesStarted</th></tr>\n",
              "\t<tr><th></th><th scope=col>&lt;fct&gt;</th><th scope=col>&lt;chr&gt;</th><th scope=col>&lt;fct&gt;</th><th scope=col>&lt;fct&gt;</th><th scope=col>&lt;int&gt;</th><th scope=col>&lt;int&gt;</th><th scope=col>&lt;int&gt;</th><th scope=col>&lt;int&gt;</th><th scope=col>&lt;int&gt;</th><th scope=col>&lt;int&gt;</th><th scope=col>⋯</th><th scope=col>&lt;int&gt;</th><th scope=col>&lt;int&gt;</th><th scope=col>&lt;int&gt;</th><th scope=col>&lt;int&gt;</th><th scope=col>&lt;int&gt;</th><th scope=col>&lt;int&gt;</th><th scope=col>&lt;int&gt;</th><th scope=col>&lt;int&gt;</th><th scope=col>&lt;int&gt;</th><th scope=col>&lt;int&gt;</th></tr>\n",
              "</thead>\n",
              "<tbody>\n",
              "\t<tr><th scope=row>2</th><td>NBA</td><td>Jordan Adams    </td><td>MEM</td><td>SG</td><td> 2</td><td>  15</td><td>  2</td><td>  6</td><td>  0</td><td>  1</td><td>⋯</td><td>  3</td><td>  2</td><td> 0</td><td>  2</td><td>0</td><td>   7</td><td>0</td><td>0</td><td>0</td><td> 0</td></tr>\n",
              "\t<tr><th scope=row>10</th><td>NBA</td><td>Tony Allen      </td><td>MEM</td><td>SG</td><td>64</td><td>1622</td><td>215</td><td>469</td><td> 15</td><td> 42</td><td>⋯</td><td>109</td><td> 78</td><td>18</td><td>175</td><td>1</td><td> 535</td><td>1</td><td>0</td><td>0</td><td>56</td></tr>\n",
              "\t<tr><th scope=row>13</th><td>NBA</td><td>Chris Andersen  </td><td>MEM</td><td>PF</td><td>27</td><td> 404</td><td> 38</td><td> 72</td><td>  4</td><td> 14</td><td>⋯</td><td> 15</td><td>  9</td><td>13</td><td> 29</td><td>0</td><td> 105</td><td>0</td><td>0</td><td>0</td><td>15</td></tr>\n",
              "\t<tr><th scope=row>36</th><td>NBA</td><td>Matt Barnes     </td><td>MEM</td><td>SF</td><td>76</td><td>2190</td><td>264</td><td>693</td><td>119</td><td>370</td><td>⋯</td><td> 78</td><td>121</td><td>57</td><td>234</td><td>1</td><td> 758</td><td>4</td><td>0</td><td>0</td><td>45</td></tr>\n",
              "\t<tr><th scope=row>81</th><td>NBA</td><td>Vince Carter    </td><td>MEM</td><td>SG</td><td>60</td><td>1009</td><td>133</td><td>343</td><td> 59</td><td>169</td><td>⋯</td><td> 38</td><td> 35</td><td>16</td><td>101</td><td>0</td><td> 395</td><td>1</td><td>0</td><td>0</td><td> 3</td></tr>\n",
              "\t<tr><th scope=row>85</th><td>NBA</td><td>Mario Chalmers  </td><td>MEM</td><td>PG</td><td>61</td><td>1378</td><td>182</td><td>444</td><td> 46</td><td>149</td><td>⋯</td><td> 88</td><td>111</td><td>13</td><td>181</td><td>0</td><td> 628</td><td>5</td><td>0</td><td>0</td><td> 7</td></tr>\n",
              "\t<tr><th scope=row>94</th><td>NBA</td><td>Mike Conley     </td><td>MEM</td><td>PG</td><td>56</td><td>1754</td><td>294</td><td>696</td><td> 78</td><td>215</td><td>⋯</td><td> 67</td><td> 84</td><td>16</td><td>100</td><td>0</td><td> 857</td><td>0</td><td>0</td><td>0</td><td>56</td></tr>\n",
              "\t<tr><th scope=row>97</th><td>NBA</td><td>Bryce Cotton    </td><td>MEM</td><td>PG</td><td> 8</td><td>  41</td><td>  4</td><td> 10</td><td>  0</td><td>  3</td><td>⋯</td><td>  3</td><td>  5</td><td> 0</td><td>  2</td><td>0</td><td>   8</td><td>0</td><td>0</td><td>0</td><td> 0</td></tr>\n",
              "\t<tr><th scope=row>138</th><td>NBA</td><td>Jordan Farmar   </td><td>MEM</td><td>PG</td><td>12</td><td> 291</td><td> 42</td><td>100</td><td> 16</td><td> 45</td><td>⋯</td><td> 15</td><td> 18</td><td> 2</td><td> 22</td><td>0</td><td> 110</td><td>0</td><td>0</td><td>0</td><td>10</td></tr>\n",
              "\t<tr><th scope=row>150</th><td>NBA</td><td>Marc Gasol      </td><td>MEM</td><td>C </td><td>52</td><td>1792</td><td>328</td><td>707</td><td>  2</td><td>  3</td><td>⋯</td><td> 50</td><td>118</td><td>70</td><td>141</td><td>0</td><td> 861</td><td>4</td><td>0</td><td>0</td><td>52</td></tr>\n",
              "\t<tr><th scope=row>170</th><td>NBA</td><td>Jamychal Green  </td><td>MEM</td><td>PF</td><td>78</td><td>1443</td><td>230</td><td>495</td><td> 15</td><td> 45</td><td>⋯</td><td> 46</td><td> 83</td><td>33</td><td>189</td><td>1</td><td> 578</td><td>4</td><td>0</td><td>0</td><td>16</td></tr>\n",
              "\t<tr><th scope=row>174</th><td>NBA</td><td>P.j. Hairston   </td><td>MEM</td><td>PF</td><td>66</td><td>1313</td><td>145</td><td>408</td><td> 70</td><td>241</td><td>⋯</td><td> 32</td><td> 41</td><td>11</td><td>137</td><td>0</td><td> 410</td><td>1</td><td>0</td><td>0</td><td>52</td></tr>\n",
              "\t<tr><th scope=row>204</th><td>NBA</td><td>Ryan Hollins    </td><td>MEM</td><td>C </td><td>37</td><td> 462</td><td> 49</td><td> 79</td><td>  0</td><td>  0</td><td>⋯</td><td>  6</td><td> 24</td><td>21</td><td> 62</td><td>0</td><td> 124</td><td>1</td><td>0</td><td>0</td><td>12</td></tr>\n",
              "\t<tr><th scope=row>281</th><td>NBA</td><td>Jarell Martin   </td><td>MEM</td><td>PF</td><td>27</td><td> 382</td><td> 54</td><td>116</td><td>  0</td><td>  2</td><td>⋯</td><td>  8</td><td> 19</td><td> 7</td><td> 58</td><td>0</td><td> 153</td><td>0</td><td>0</td><td>0</td><td> 0</td></tr>\n",
              "\t<tr><th scope=row>287</th><td>NBA</td><td>Ray Mccallum    </td><td>MEM</td><td>PG</td><td>41</td><td> 474</td><td> 55</td><td>146</td><td> 15</td><td> 42</td><td>⋯</td><td> 12</td><td> 24</td><td> 7</td><td> 29</td><td>0</td><td> 137</td><td>0</td><td>0</td><td>0</td><td> 6</td></tr>\n",
              "\t<tr><th scope=row>321</th><td>NBA</td><td>Xavier Munford  </td><td>MEM</td><td>PG</td><td>14</td><td> 246</td><td> 32</td><td> 77</td><td>  9</td><td> 23</td><td>⋯</td><td> 13</td><td> 15</td><td> 3</td><td> 25</td><td>0</td><td>  80</td><td>0</td><td>0</td><td>0</td><td> 0</td></tr>\n",
              "\t<tr><th scope=row>369</th><td>NBA</td><td>Zach Randolph   </td><td>MEM</td><td>PF</td><td>68</td><td>2019</td><td>431</td><td>907</td><td>  6</td><td> 26</td><td>⋯</td><td> 43</td><td>105</td><td>13</td><td>146</td><td>0</td><td>1040</td><td>0</td><td>0</td><td>0</td><td>53</td></tr>\n",
              "\t<tr><th scope=row>406</th><td>NBA</td><td>Russ Smith      </td><td>MEM</td><td>PG</td><td>15</td><td>  65</td><td>  7</td><td> 22</td><td>  1</td><td>  5</td><td>⋯</td><td>  5</td><td>  7</td><td> 1</td><td>  5</td><td>0</td><td>  23</td><td>0</td><td>0</td><td>0</td><td> 0</td></tr>\n",
              "\t<tr><th scope=row>411</th><td>NBA</td><td>Lance Stephenson</td><td>MEM</td><td>SF</td><td>69</td><td>1371</td><td>228</td><td>474</td><td> 30</td><td> 78</td><td>⋯</td><td> 43</td><td> 94</td><td> 9</td><td>135</td><td>1</td><td> 573</td><td>2</td><td>0</td><td>0</td><td>13</td></tr>\n",
              "\t<tr><th scope=row>412</th><td>NBA</td><td>Alex Stepheson  </td><td>MEM</td><td>SF</td><td> 8</td><td>  72</td><td>  9</td><td> 27</td><td>  0</td><td>  0</td><td>⋯</td><td>  1</td><td>  0</td><td> 5</td><td> 12</td><td>1</td><td>  22</td><td>0</td><td>0</td><td>0</td><td> 0</td></tr>\n",
              "\t<tr><th scope=row>461</th><td>NBA</td><td>Elliot Williams </td><td>MEM</td><td>SG</td><td> 5</td><td>  46</td><td>  2</td><td> 10</td><td>  1</td><td>  4</td><td>⋯</td><td>  1</td><td>  1</td><td> 0</td><td>  2</td><td>0</td><td>   8</td><td>0</td><td>0</td><td>0</td><td> 0</td></tr>\n",
              "\t<tr><th scope=row>468</th><td>NBA</td><td>Brandan Wright  </td><td>MEM</td><td>PF</td><td>12</td><td> 213</td><td> 35</td><td> 52</td><td>  0</td><td>  0</td><td>⋯</td><td>  5</td><td> 10</td><td>15</td><td> 21</td><td>0</td><td>  83</td><td>0</td><td>0</td><td>0</td><td> 2</td></tr>\n",
              "</tbody>\n",
              "</table>\n"
            ]
          },
          "metadata": {
            "tags": []
          }
        }
      ]
    },
    {
      "cell_type": "code",
      "metadata": {
        "id": "HFWckyCvoJxY",
        "outputId": "8aaa2fa3-9936-4a4a-c4e6-99ea3a83bbac",
        "colab": {
          "base_uri": "https://localhost:8080/",
          "height": 120
        }
      },
      "source": [
        "NBA1516[grepl(\"Curry\",NBA1516$Name),]\n"
      ],
      "execution_count": 46,
      "outputs": [
        {
          "output_type": "display_data",
          "data": {
            "text/plain": [
              "    League Name          Team Position GamesPlayed TotalMinutesPlayed\n",
              "105 NBA    Seth Curry    SAC  SG       44           694              \n",
              "106 NBA    Stephen Curry GSW  PG       79          2705              \n",
              "    FieldGoalsMade FieldGoalsAttempted ThreesMade ThreesAttempted ⋯ Steals\n",
              "105 102             224                 50        111             ⋯  22   \n",
              "106 805            1597                402        887             ⋯ 169   \n",
              "    Turnovers Blocks PersonalFouls Disqualifications TotalPoints Technicals\n",
              "105  36        3      41           0                  299        0         \n",
              "106 261       16     161           0                 2375        1         \n",
              "    Ejections FlagrantFouls GamesStarted\n",
              "105 0         0              9          \n",
              "106 0         0             79          "
            ],
            "text/latex": "A data.frame: 2 × 25\n\\begin{tabular}{r|lllllllllllllllllllll}\n  & League & Name & Team & Position & GamesPlayed & TotalMinutesPlayed & FieldGoalsMade & FieldGoalsAttempted & ThreesMade & ThreesAttempted & ⋯ & Steals & Turnovers & Blocks & PersonalFouls & Disqualifications & TotalPoints & Technicals & Ejections & FlagrantFouls & GamesStarted\\\\\n  & <fct> & <chr> & <fct> & <fct> & <int> & <int> & <int> & <int> & <int> & <int> & ⋯ & <int> & <int> & <int> & <int> & <int> & <int> & <int> & <int> & <int> & <int>\\\\\n\\hline\n\t105 & NBA & Seth Curry    & SAC & SG & 44 &  694 & 102 &  224 &  50 & 111 & ⋯ &  22 &  36 &  3 &  41 & 0 &  299 & 0 & 0 & 0 &  9\\\\\n\t106 & NBA & Stephen Curry & GSW & PG & 79 & 2705 & 805 & 1597 & 402 & 887 & ⋯ & 169 & 261 & 16 & 161 & 0 & 2375 & 1 & 0 & 0 & 79\\\\\n\\end{tabular}\n",
            "text/markdown": "\nA data.frame: 2 × 25\n\n| <!--/--> | League &lt;fct&gt; | Name &lt;chr&gt; | Team &lt;fct&gt; | Position &lt;fct&gt; | GamesPlayed &lt;int&gt; | TotalMinutesPlayed &lt;int&gt; | FieldGoalsMade &lt;int&gt; | FieldGoalsAttempted &lt;int&gt; | ThreesMade &lt;int&gt; | ThreesAttempted &lt;int&gt; | ⋯ ⋯ | Steals &lt;int&gt; | Turnovers &lt;int&gt; | Blocks &lt;int&gt; | PersonalFouls &lt;int&gt; | Disqualifications &lt;int&gt; | TotalPoints &lt;int&gt; | Technicals &lt;int&gt; | Ejections &lt;int&gt; | FlagrantFouls &lt;int&gt; | GamesStarted &lt;int&gt; |\n|---|---|---|---|---|---|---|---|---|---|---|---|---|---|---|---|---|---|---|---|---|---|\n| 105 | NBA | Seth Curry    | SAC | SG | 44 |  694 | 102 |  224 |  50 | 111 | ⋯ |  22 |  36 |  3 |  41 | 0 |  299 | 0 | 0 | 0 |  9 |\n| 106 | NBA | Stephen Curry | GSW | PG | 79 | 2705 | 805 | 1597 | 402 | 887 | ⋯ | 169 | 261 | 16 | 161 | 0 | 2375 | 1 | 0 | 0 | 79 |\n\n",
            "text/html": [
              "<table>\n",
              "<caption>A data.frame: 2 × 25</caption>\n",
              "<thead>\n",
              "\t<tr><th></th><th scope=col>League</th><th scope=col>Name</th><th scope=col>Team</th><th scope=col>Position</th><th scope=col>GamesPlayed</th><th scope=col>TotalMinutesPlayed</th><th scope=col>FieldGoalsMade</th><th scope=col>FieldGoalsAttempted</th><th scope=col>ThreesMade</th><th scope=col>ThreesAttempted</th><th scope=col>⋯</th><th scope=col>Steals</th><th scope=col>Turnovers</th><th scope=col>Blocks</th><th scope=col>PersonalFouls</th><th scope=col>Disqualifications</th><th scope=col>TotalPoints</th><th scope=col>Technicals</th><th scope=col>Ejections</th><th scope=col>FlagrantFouls</th><th scope=col>GamesStarted</th></tr>\n",
              "\t<tr><th></th><th scope=col>&lt;fct&gt;</th><th scope=col>&lt;chr&gt;</th><th scope=col>&lt;fct&gt;</th><th scope=col>&lt;fct&gt;</th><th scope=col>&lt;int&gt;</th><th scope=col>&lt;int&gt;</th><th scope=col>&lt;int&gt;</th><th scope=col>&lt;int&gt;</th><th scope=col>&lt;int&gt;</th><th scope=col>&lt;int&gt;</th><th scope=col>⋯</th><th scope=col>&lt;int&gt;</th><th scope=col>&lt;int&gt;</th><th scope=col>&lt;int&gt;</th><th scope=col>&lt;int&gt;</th><th scope=col>&lt;int&gt;</th><th scope=col>&lt;int&gt;</th><th scope=col>&lt;int&gt;</th><th scope=col>&lt;int&gt;</th><th scope=col>&lt;int&gt;</th><th scope=col>&lt;int&gt;</th></tr>\n",
              "</thead>\n",
              "<tbody>\n",
              "\t<tr><th scope=row>105</th><td>NBA</td><td>Seth Curry   </td><td>SAC</td><td>SG</td><td>44</td><td> 694</td><td>102</td><td> 224</td><td> 50</td><td>111</td><td>⋯</td><td> 22</td><td> 36</td><td> 3</td><td> 41</td><td>0</td><td> 299</td><td>0</td><td>0</td><td>0</td><td> 9</td></tr>\n",
              "\t<tr><th scope=row>106</th><td>NBA</td><td>Stephen Curry</td><td>GSW</td><td>PG</td><td>79</td><td>2705</td><td>805</td><td>1597</td><td>402</td><td>887</td><td>⋯</td><td>169</td><td>261</td><td>16</td><td>161</td><td>0</td><td>2375</td><td>1</td><td>0</td><td>0</td><td>79</td></tr>\n",
              "</tbody>\n",
              "</table>\n"
            ]
          },
          "metadata": {
            "tags": []
          }
        }
      ]
    },
    {
      "cell_type": "code",
      "metadata": {
        "id": "EMdYGCr5pC_5",
        "outputId": "d8c491d5-4f58-4345-bdd6-876968ba6d2b",
        "colab": {
          "base_uri": "https://localhost:8080/",
          "height": 1000
        }
      },
      "source": [
        "NBA1516[grepl(\"SG\",NBA1516$Position),]"
      ],
      "execution_count": 48,
      "outputs": [
        {
          "output_type": "display_data",
          "data": {
            "text/plain": [
              "    League Name             Team Position GamesPlayed TotalMinutesPlayed\n",
              "2   NBA    Jordan Adams     MEM  SG        2            15              \n",
              "4   NBA    Arron Afflalo    NYK  SG       71          2359              \n",
              "10  NBA    Tony Allen       MEM  SG       64          1622              \n",
              "14  NBA    Alan Anderson    WAS  SG       13           193              \n",
              "15  NBA    James Anderson   SAC  SG       51           721              \n",
              "16  NBA    Justin Anderson  DAL  SG       55           644              \n",
              "32  NBA    Leandro Barbosa  GSW  SG       68          1079              \n",
              "37  NBA    Will Barton      DEN  SG       82          2355              \n",
              "42  NBA    Kent Bazemore    ATL  SG       75          2077              \n",
              "43  NBA    Bradley Beal     WAS  SG       55          1709              \n",
              "54  NBA    Bojan Bogdanovic BRO  SG       79          2114              \n",
              "57  NBA    Devin Booker     PHO  SG       76          2110              \n",
              "62  NBA    Corey Brewer     HOU  SG       82          1670              \n",
              "66  NBA    Markel Brown     BRO  SG       62           989              \n",
              "67  NBA    Kobe Bryant      LAL  SG       66          1861              \n",
              "73  NBA    Jimmy Butler     CHI  SG       67          2473              \n",
              "77  NBA    Ke Caldwell-pope DET  SG       76          2789              \n",
              "81  NBA    Vince Carter     MEM  SG       60          1009              \n",
              "88  NBA    Ian Clark        GSW  SG       66           579              \n",
              "95  NBA    Pat Connaughton  POR  SG       34           147              \n",
              "101 NBA    Jamal Crawford   LAC  SG       79          2126              \n",
              "104 NBA    Jared Cunningham MIL  SG       45           415              \n",
              "105 NBA    Seth Curry       SAC  SG       44           694              \n",
              "107 NBA    Troy Daniels     CHA  SG       43           478              \n",
              "112 NBA    Bry Dejean-jones NOR  SG       11           271              \n",
              "116 NBA    Demar Derozan    TOR  SG       78          2804              \n",
              "121 NBA    Goran Dragic     MIA  SG       72          2362              \n",
              "123 NBA    Jared Dudley     WAS  SG       81          2098              \n",
              "126 NBA    Mike Dunleavy    CHI  SG       31           702              \n",
              "129 NBA    Jarell Eddie     WAS  SG       26           147              \n",
              "⋮   ⋮      ⋮                ⋮    ⋮        ⋮           ⋮                 \n",
              "363 NBA    Norman Powell    TOR  SG       49           729              \n",
              "364 NBA    Phil Pressey     PHO  SG       22           280              \n",
              "370 NBA    J.j. Redick      LAC  SG       75          2098              \n",
              "372 NBA    Josh Richardson  MIA  SG       52          1105              \n",
              "373 NBA    Austin Rivers    LAC  SG       67          1466              \n",
              "374 NBA    Andre Roberson   OKL  SG       70          1552              \n",
              "385 NBA    Brandon Rush     GSW  SG       72          1050              \n",
              "388 NBA    Jakarr Sampson   DEN  SG       73          1166              \n",
              "392 NBA    Thabo Sefolosha  ATL  SG       75          1749              \n",
              "395 NBA    Iman Shumpert    CLE  SG       54          1319              \n",
              "396 NBA    Jonathon Simmons SAN  SG       55           811              \n",
              "403 NBA    J.r. Smith       CLE  SG       77          2367              \n",
              "410 NBA    Nik Stauskas     PHI  SG       73          1798              \n",
              "420 NBA    Garrett Temple   WAS  SG       80          1951              \n",
              "421 NBA    Jason Terry      HOU  SG       72          1261              \n",
              "424 NBA    Hollis Thompson  PHI  SG       77          2158              \n",
              "426 NBA    Klay Thompson    GSW  SG       80          2661              \n",
              "428 NBA    Marcus Thornton  WAS  SG       61          1110              \n",
              "430 NBA    Axel Toupane     DEN  SG       21           307              \n",
              "433 NBA    Evan Turner      BOS  SG       81          2270              \n",
              "439 NBA    Rashad Vaughn    MIL  SG       70          1000              \n",
              "443 NBA    Sasha Vujacic    NYK  SG       61           910              \n",
              "444 NBA    Dwyane Wade      MIA  SG       74          2258              \n",
              "445 NBA    Dion Waiters     OKL  SG       78          2157              \n",
              "451 NBA    Sonny Weems      PHI  SG       43           501              \n",
              "457 NBA    C.j. Wilcox      LAC  SG       23           168              \n",
              "461 NBA    Elliot Williams  MEM  SG        5            46              \n",
              "462 NBA    Louis Williams   LAL  SG       67          1911              \n",
              "470 NBA    Tony Wroten      PHI  SG        8           145              \n",
              "471 NBA    James Young      BOS  SG       29           200              \n",
              "    FieldGoalsMade FieldGoalsAttempted ThreesMade ThreesAttempted ⋯ Steals\n",
              "2     2               6                  0          1             ⋯   3   \n",
              "4   354             799                 91        238             ⋯  25   \n",
              "10  215             469                 15         42             ⋯ 109   \n",
              "14   21              59                 12         37             ⋯   4   \n",
              "15   67             178                 23         86             ⋯  21   \n",
              "16   71             176                 22         83             ⋯  19   \n",
              "32  171             370                 39        111             ⋯  44   \n",
              "37  426             984                112        324             ⋯  71   \n",
              "42  320             724                109        304             ⋯  98   \n",
              "43  359             799                105        271             ⋯  54   \n",
              "54  324             749                129        337             ⋯  29   \n",
              "57  367             867                 99        289             ⋯  44   \n",
              "62  212             552                 61        225             ⋯  84   \n",
              "66  127             322                 38        121             ⋯  38   \n",
              "67  398            1112                133        466             ⋯  62   \n",
              "73  470            1034                 64        206             ⋯ 110   \n",
              "77  403             960                114        368             ⋯ 110   \n",
              "81  133             343                 59        169             ⋯  38   \n",
              "88   89             202                 30         84             ⋯  17   \n",
              "95   13              49                  5         21             ⋯   2   \n",
              "101 379             940                117        345             ⋯  52   \n",
              "104  36             105                 12         39             ⋯  14   \n",
              "105 102             224                 50        111             ⋯  22   \n",
              "107  89             187                 59        122             ⋯  11   \n",
              "112  27              67                 11         30             ⋯  10   \n",
              "116 614            1377                 47        139             ⋯  82   \n",
              "121 417             875                 64        205             ⋯  71   \n",
              "123 233             487                100        239             ⋯  75   \n",
              "126  77             188                 39         99             ⋯  14   \n",
              "129  20              65                 15         47             ⋯   5   \n",
              "⋮   ⋮              ⋮                   ⋮          ⋮               ⋱ ⋮     \n",
              "363  97             229                 36         88             ⋯ 29    \n",
              "364  30              77                  4         17             ⋯ 17    \n",
              "370 422             880                200        420             ⋯ 42    \n",
              "372 123             272                 53        115             ⋯ 36    \n",
              "373 226             516                 62        185             ⋯ 48    \n",
              "374 136             274                 32        103             ⋯ 54    \n",
              "385 111             260                 65        157             ⋯ 21    \n",
              "388 140             318                 14         63             ⋯ 23    \n",
              "392 188             374                 42        125             ⋯ 84    \n",
              "395 114             305                 43        146             ⋯ 54    \n",
              "396 122             241                 18         47             ⋯ 24    \n",
              "403 353             849                204        510             ⋯ 81    \n",
              "410 210             542                106        324             ⋯ 44    \n",
              "420 201             505                 89        257             ⋯ 69    \n",
              "421 151             376                 93        261             ⋯ 47    \n",
              "424 270             681                149        393             ⋯ 36    \n",
              "426 651            1386                276        648             ⋯ 60    \n",
              "428 216             542                 91        271             ⋯ 47    \n",
              "430  25              70                 13         40             ⋯  7    \n",
              "433 343             753                 20         83             ⋯ 80    \n",
              "439  82             266                 44        147             ⋯ 29    \n",
              "443 106             277                 52        143             ⋯ 34    \n",
              "444 540            1183                  7         44             ⋯ 79    \n",
              "445 282             705                 86        241             ⋯ 81    \n",
              "451  42             111                 15         42             ⋯ 10    \n",
              "457  26              66                  9         23             ⋯ 10    \n",
              "461   2              10                  1          4             ⋯  1    \n",
              "462 283             695                110        321             ⋯ 62    \n",
              "470  22              65                  3         17             ⋯  3    \n",
              "471  11              36                  6         26             ⋯  6    \n",
              "    Turnovers Blocks PersonalFouls Disqualifications TotalPoints Technicals\n",
              "2     2        0       2           0                    7        0         \n",
              "4    82       10     142           1                  909        1         \n",
              "10   78       18     175           1                  535        1         \n",
              "14    2        1      25           0                   65        0         \n",
              "15   42       14      54           0                  179        0         \n",
              "16   24       25      45           0                  208        0         \n",
              "32   53       10     107           0                  433        1         \n",
              "37  139       39     147           0                 1180        2         \n",
              "42  138       38     176           2                  872        4         \n",
              "43  112       11     117           0                  958        0         \n",
              "54  115        5     119           0                  887        2         \n",
              "57  160       20     225           5                 1048        0         \n",
              "62   78       19     168           1                  590        0         \n",
              "66   54       15      94           1                  363        1         \n",
              "67  130       13     115           0                 1161        1         \n",
              "73  132       43     124           1                 1399        1         \n",
              "77  105       17     167           0                 1105        3         \n",
              "81   35       16     101           0                  395        1         \n",
              "88   43       13      58           0                  236        1         \n",
              "95   10        0       6           0                   36        0         \n",
              "101 113       12     122           0                 1120        3         \n",
              "104  21        2      42           0                  120        0         \n",
              "105  36        3      41           0                  299        0         \n",
              "107  24        3      40           0                  242        0         \n",
              "112  11        2      16           0                   76        0         \n",
              "116 174       21     167           0                 1830        2         \n",
              "121 185       17     188           1                 1018        1         \n",
              "123  80       18     190           1                  638        1         \n",
              "126  26       10      66           0                  222        0         \n",
              "129   1        1       5           0                   63        0         \n",
              "⋮   ⋮         ⋮      ⋮             ⋮                 ⋮           ⋮         \n",
              "363  32       10      59           0                  273        0         \n",
              "364  33        4      28           0                   77        0         \n",
              "370  79        5     135           0                 1226        1         \n",
              "372  35       25     107           0                  341        0         \n",
              "373  61       10     137           1                  593        2         \n",
              "374  35       42     133           0                  337        1         \n",
              "385  33       23      57           1                  305        0         \n",
              "388  70       33     142           1                  374        2         \n",
              "392  68       37     109           0                  480        0         \n",
              "395  56       19     119           1                  311        1         \n",
              "396  53        5     103           0                  331        0         \n",
              "403  59       21     204           1                  955        3         \n",
              "410  93       20     111           0                  617        0         \n",
              "420  64       18     195           3                  582        0         \n",
              "421  49        9      91           0                  422        1         \n",
              "424  76       24     187           2                  758        0         \n",
              "426 138       50     152           0                 1771        0         \n",
              "428  51        4      90           0                  590        0         \n",
              "430   6        6      40           0                   76        0         \n",
              "433 169       28     139           0                  854        2         \n",
              "439  28       16      73           0                  220        0         \n",
              "443  44        5      83           0                  296        1         \n",
              "444 203       42     116           0                 1409        3         \n",
              "445 120       15     143           0                  762        4         \n",
              "451  41        1      47           0                  107        0         \n",
              "457   2        2      15           0                   70        0         \n",
              "461   1        0       2           0                    8        0         \n",
              "462 107       19     107           1                 1028        1         \n",
              "470  29        0      11           0                   67        0         \n",
              "471   5        1      17           0                   29        0         \n",
              "    Ejections FlagrantFouls GamesStarted\n",
              "2   0         0              0          \n",
              "4   0         0             57          \n",
              "10  0         0             56          \n",
              "14  0         0              0          \n",
              "15  0         0             15          \n",
              "16  0         0              9          \n",
              "32  0         0              0          \n",
              "37  0         0              1          \n",
              "42  0         0             68          \n",
              "43  0         0             35          \n",
              "54  0         0             39          \n",
              "57  0         0             51          \n",
              "62  0         0             12          \n",
              "66  0         0              6          \n",
              "67  0         0             66          \n",
              "73  0         0             67          \n",
              "77  0         0             76          \n",
              "81  0         0              3          \n",
              "88  0         0              1          \n",
              "95  0         0              0          \n",
              "101 0         0              5          \n",
              "104 0         0              3          \n",
              "105 0         0              9          \n",
              "107 0         0              0          \n",
              "112 0         0             11          \n",
              "116 0         0             78          \n",
              "121 0         0             72          \n",
              "123 0         0             41          \n",
              "126 0         0             30          \n",
              "129 0         0              0          \n",
              "⋮   ⋮         ⋮             ⋮           \n",
              "363 0         0             24          \n",
              "364 0         0              0          \n",
              "370 0         0             75          \n",
              "372 0         0              2          \n",
              "373 0         0              7          \n",
              "374 0         0             70          \n",
              "385 0         0             25          \n",
              "388 0         0             40          \n",
              "392 0         0             11          \n",
              "395 0         0              5          \n",
              "396 0         0              2          \n",
              "403 0         0             77          \n",
              "410 0         0             35          \n",
              "420 0         0             43          \n",
              "421 0         0              7          \n",
              "424 0         0             17          \n",
              "426 0         0             80          \n",
              "428 0         0              8          \n",
              "430 0         0              0          \n",
              "433 0         0             12          \n",
              "439 0         0              6          \n",
              "443 0         0             25          \n",
              "444 0         0             73          \n",
              "445 0         0             15          \n",
              "451 0         0              0          \n",
              "457 0         0              0          \n",
              "461 0         0              0          \n",
              "462 0         0             35          \n",
              "470 0         0              3          \n",
              "471 0         0              0          "
            ],
            "text/latex": "A data.frame: 109 × 25\n\\begin{tabular}{r|lllllllllllllllllllll}\n  & League & Name & Team & Position & GamesPlayed & TotalMinutesPlayed & FieldGoalsMade & FieldGoalsAttempted & ThreesMade & ThreesAttempted & ⋯ & Steals & Turnovers & Blocks & PersonalFouls & Disqualifications & TotalPoints & Technicals & Ejections & FlagrantFouls & GamesStarted\\\\\n  & <fct> & <chr> & <fct> & <fct> & <int> & <int> & <int> & <int> & <int> & <int> & ⋯ & <int> & <int> & <int> & <int> & <int> & <int> & <int> & <int> & <int> & <int>\\\\\n\\hline\n\t2 & NBA & Jordan Adams     & MEM & SG &  2 &   15 &   2 &    6 &   0 &   1 & ⋯ &   3 &   2 &  0 &   2 & 0 &    7 & 0 & 0 & 0 &  0\\\\\n\t4 & NBA & Arron Afflalo    & NYK & SG & 71 & 2359 & 354 &  799 &  91 & 238 & ⋯ &  25 &  82 & 10 & 142 & 1 &  909 & 1 & 0 & 0 & 57\\\\\n\t10 & NBA & Tony Allen       & MEM & SG & 64 & 1622 & 215 &  469 &  15 &  42 & ⋯ & 109 &  78 & 18 & 175 & 1 &  535 & 1 & 0 & 0 & 56\\\\\n\t14 & NBA & Alan Anderson    & WAS & SG & 13 &  193 &  21 &   59 &  12 &  37 & ⋯ &   4 &   2 &  1 &  25 & 0 &   65 & 0 & 0 & 0 &  0\\\\\n\t15 & NBA & James Anderson   & SAC & SG & 51 &  721 &  67 &  178 &  23 &  86 & ⋯ &  21 &  42 & 14 &  54 & 0 &  179 & 0 & 0 & 0 & 15\\\\\n\t16 & NBA & Justin Anderson  & DAL & SG & 55 &  644 &  71 &  176 &  22 &  83 & ⋯ &  19 &  24 & 25 &  45 & 0 &  208 & 0 & 0 & 0 &  9\\\\\n\t32 & NBA & Leandro Barbosa  & GSW & SG & 68 & 1079 & 171 &  370 &  39 & 111 & ⋯ &  44 &  53 & 10 & 107 & 0 &  433 & 1 & 0 & 0 &  0\\\\\n\t37 & NBA & Will Barton      & DEN & SG & 82 & 2355 & 426 &  984 & 112 & 324 & ⋯ &  71 & 139 & 39 & 147 & 0 & 1180 & 2 & 0 & 0 &  1\\\\\n\t42 & NBA & Kent Bazemore    & ATL & SG & 75 & 2077 & 320 &  724 & 109 & 304 & ⋯ &  98 & 138 & 38 & 176 & 2 &  872 & 4 & 0 & 0 & 68\\\\\n\t43 & NBA & Bradley Beal     & WAS & SG & 55 & 1709 & 359 &  799 & 105 & 271 & ⋯ &  54 & 112 & 11 & 117 & 0 &  958 & 0 & 0 & 0 & 35\\\\\n\t54 & NBA & Bojan Bogdanovic & BRO & SG & 79 & 2114 & 324 &  749 & 129 & 337 & ⋯ &  29 & 115 &  5 & 119 & 0 &  887 & 2 & 0 & 0 & 39\\\\\n\t57 & NBA & Devin Booker     & PHO & SG & 76 & 2110 & 367 &  867 &  99 & 289 & ⋯ &  44 & 160 & 20 & 225 & 5 & 1048 & 0 & 0 & 0 & 51\\\\\n\t62 & NBA & Corey Brewer     & HOU & SG & 82 & 1670 & 212 &  552 &  61 & 225 & ⋯ &  84 &  78 & 19 & 168 & 1 &  590 & 0 & 0 & 0 & 12\\\\\n\t66 & NBA & Markel Brown     & BRO & SG & 62 &  989 & 127 &  322 &  38 & 121 & ⋯ &  38 &  54 & 15 &  94 & 1 &  363 & 1 & 0 & 0 &  6\\\\\n\t67 & NBA & Kobe Bryant      & LAL & SG & 66 & 1861 & 398 & 1112 & 133 & 466 & ⋯ &  62 & 130 & 13 & 115 & 0 & 1161 & 1 & 0 & 0 & 66\\\\\n\t73 & NBA & Jimmy Butler     & CHI & SG & 67 & 2473 & 470 & 1034 &  64 & 206 & ⋯ & 110 & 132 & 43 & 124 & 1 & 1399 & 1 & 0 & 0 & 67\\\\\n\t77 & NBA & Ke Caldwell-pope & DET & SG & 76 & 2789 & 403 &  960 & 114 & 368 & ⋯ & 110 & 105 & 17 & 167 & 0 & 1105 & 3 & 0 & 0 & 76\\\\\n\t81 & NBA & Vince Carter     & MEM & SG & 60 & 1009 & 133 &  343 &  59 & 169 & ⋯ &  38 &  35 & 16 & 101 & 0 &  395 & 1 & 0 & 0 &  3\\\\\n\t88 & NBA & Ian Clark        & GSW & SG & 66 &  579 &  89 &  202 &  30 &  84 & ⋯ &  17 &  43 & 13 &  58 & 0 &  236 & 1 & 0 & 0 &  1\\\\\n\t95 & NBA & Pat Connaughton  & POR & SG & 34 &  147 &  13 &   49 &   5 &  21 & ⋯ &   2 &  10 &  0 &   6 & 0 &   36 & 0 & 0 & 0 &  0\\\\\n\t101 & NBA & Jamal Crawford   & LAC & SG & 79 & 2126 & 379 &  940 & 117 & 345 & ⋯ &  52 & 113 & 12 & 122 & 0 & 1120 & 3 & 0 & 0 &  5\\\\\n\t104 & NBA & Jared Cunningham & MIL & SG & 45 &  415 &  36 &  105 &  12 &  39 & ⋯ &  14 &  21 &  2 &  42 & 0 &  120 & 0 & 0 & 0 &  3\\\\\n\t105 & NBA & Seth Curry       & SAC & SG & 44 &  694 & 102 &  224 &  50 & 111 & ⋯ &  22 &  36 &  3 &  41 & 0 &  299 & 0 & 0 & 0 &  9\\\\\n\t107 & NBA & Troy Daniels     & CHA & SG & 43 &  478 &  89 &  187 &  59 & 122 & ⋯ &  11 &  24 &  3 &  40 & 0 &  242 & 0 & 0 & 0 &  0\\\\\n\t112 & NBA & Bry Dejean-jones & NOR & SG & 11 &  271 &  27 &   67 &  11 &  30 & ⋯ &  10 &  11 &  2 &  16 & 0 &   76 & 0 & 0 & 0 & 11\\\\\n\t116 & NBA & Demar Derozan    & TOR & SG & 78 & 2804 & 614 & 1377 &  47 & 139 & ⋯ &  82 & 174 & 21 & 167 & 0 & 1830 & 2 & 0 & 0 & 78\\\\\n\t121 & NBA & Goran Dragic     & MIA & SG & 72 & 2362 & 417 &  875 &  64 & 205 & ⋯ &  71 & 185 & 17 & 188 & 1 & 1018 & 1 & 0 & 0 & 72\\\\\n\t123 & NBA & Jared Dudley     & WAS & SG & 81 & 2098 & 233 &  487 & 100 & 239 & ⋯ &  75 &  80 & 18 & 190 & 1 &  638 & 1 & 0 & 0 & 41\\\\\n\t126 & NBA & Mike Dunleavy    & CHI & SG & 31 &  702 &  77 &  188 &  39 &  99 & ⋯ &  14 &  26 & 10 &  66 & 0 &  222 & 0 & 0 & 0 & 30\\\\\n\t129 & NBA & Jarell Eddie     & WAS & SG & 26 &  147 &  20 &   65 &  15 &  47 & ⋯ &   5 &   1 &  1 &   5 & 0 &   63 & 0 & 0 & 0 &  0\\\\\n\t⋮ & ⋮ & ⋮ & ⋮ & ⋮ & ⋮ & ⋮ & ⋮ & ⋮ & ⋮ & ⋮ & ⋱ & ⋮ & ⋮ & ⋮ & ⋮ & ⋮ & ⋮ & ⋮ & ⋮ & ⋮ & ⋮\\\\\n\t363 & NBA & Norman Powell    & TOR & SG & 49 &  729 &  97 &  229 &  36 &  88 & ⋯ & 29 &  32 & 10 &  59 & 0 &  273 & 0 & 0 & 0 & 24\\\\\n\t364 & NBA & Phil Pressey     & PHO & SG & 22 &  280 &  30 &   77 &   4 &  17 & ⋯ & 17 &  33 &  4 &  28 & 0 &   77 & 0 & 0 & 0 &  0\\\\\n\t370 & NBA & J.j. Redick      & LAC & SG & 75 & 2098 & 422 &  880 & 200 & 420 & ⋯ & 42 &  79 &  5 & 135 & 0 & 1226 & 1 & 0 & 0 & 75\\\\\n\t372 & NBA & Josh Richardson  & MIA & SG & 52 & 1105 & 123 &  272 &  53 & 115 & ⋯ & 36 &  35 & 25 & 107 & 0 &  341 & 0 & 0 & 0 &  2\\\\\n\t373 & NBA & Austin Rivers    & LAC & SG & 67 & 1466 & 226 &  516 &  62 & 185 & ⋯ & 48 &  61 & 10 & 137 & 1 &  593 & 2 & 0 & 0 &  7\\\\\n\t374 & NBA & Andre Roberson   & OKL & SG & 70 & 1552 & 136 &  274 &  32 & 103 & ⋯ & 54 &  35 & 42 & 133 & 0 &  337 & 1 & 0 & 0 & 70\\\\\n\t385 & NBA & Brandon Rush     & GSW & SG & 72 & 1050 & 111 &  260 &  65 & 157 & ⋯ & 21 &  33 & 23 &  57 & 1 &  305 & 0 & 0 & 0 & 25\\\\\n\t388 & NBA & Jakarr Sampson   & DEN & SG & 73 & 1166 & 140 &  318 &  14 &  63 & ⋯ & 23 &  70 & 33 & 142 & 1 &  374 & 2 & 0 & 0 & 40\\\\\n\t392 & NBA & Thabo Sefolosha  & ATL & SG & 75 & 1749 & 188 &  374 &  42 & 125 & ⋯ & 84 &  68 & 37 & 109 & 0 &  480 & 0 & 0 & 0 & 11\\\\\n\t395 & NBA & Iman Shumpert    & CLE & SG & 54 & 1319 & 114 &  305 &  43 & 146 & ⋯ & 54 &  56 & 19 & 119 & 1 &  311 & 1 & 0 & 0 &  5\\\\\n\t396 & NBA & Jonathon Simmons & SAN & SG & 55 &  811 & 122 &  241 &  18 &  47 & ⋯ & 24 &  53 &  5 & 103 & 0 &  331 & 0 & 0 & 0 &  2\\\\\n\t403 & NBA & J.r. Smith       & CLE & SG & 77 & 2367 & 353 &  849 & 204 & 510 & ⋯ & 81 &  59 & 21 & 204 & 1 &  955 & 3 & 0 & 0 & 77\\\\\n\t410 & NBA & Nik Stauskas     & PHI & SG & 73 & 1798 & 210 &  542 & 106 & 324 & ⋯ & 44 &  93 & 20 & 111 & 0 &  617 & 0 & 0 & 0 & 35\\\\\n\t420 & NBA & Garrett Temple   & WAS & SG & 80 & 1951 & 201 &  505 &  89 & 257 & ⋯ & 69 &  64 & 18 & 195 & 3 &  582 & 0 & 0 & 0 & 43\\\\\n\t421 & NBA & Jason Terry      & HOU & SG & 72 & 1261 & 151 &  376 &  93 & 261 & ⋯ & 47 &  49 &  9 &  91 & 0 &  422 & 1 & 0 & 0 &  7\\\\\n\t424 & NBA & Hollis Thompson  & PHI & SG & 77 & 2158 & 270 &  681 & 149 & 393 & ⋯ & 36 &  76 & 24 & 187 & 2 &  758 & 0 & 0 & 0 & 17\\\\\n\t426 & NBA & Klay Thompson    & GSW & SG & 80 & 2661 & 651 & 1386 & 276 & 648 & ⋯ & 60 & 138 & 50 & 152 & 0 & 1771 & 0 & 0 & 0 & 80\\\\\n\t428 & NBA & Marcus Thornton  & WAS & SG & 61 & 1110 & 216 &  542 &  91 & 271 & ⋯ & 47 &  51 &  4 &  90 & 0 &  590 & 0 & 0 & 0 &  8\\\\\n\t430 & NBA & Axel Toupane     & DEN & SG & 21 &  307 &  25 &   70 &  13 &  40 & ⋯ &  7 &   6 &  6 &  40 & 0 &   76 & 0 & 0 & 0 &  0\\\\\n\t433 & NBA & Evan Turner      & BOS & SG & 81 & 2270 & 343 &  753 &  20 &  83 & ⋯ & 80 & 169 & 28 & 139 & 0 &  854 & 2 & 0 & 0 & 12\\\\\n\t439 & NBA & Rashad Vaughn    & MIL & SG & 70 & 1000 &  82 &  266 &  44 & 147 & ⋯ & 29 &  28 & 16 &  73 & 0 &  220 & 0 & 0 & 0 &  6\\\\\n\t443 & NBA & Sasha Vujacic    & NYK & SG & 61 &  910 & 106 &  277 &  52 & 143 & ⋯ & 34 &  44 &  5 &  83 & 0 &  296 & 1 & 0 & 0 & 25\\\\\n\t444 & NBA & Dwyane Wade      & MIA & SG & 74 & 2258 & 540 & 1183 &   7 &  44 & ⋯ & 79 & 203 & 42 & 116 & 0 & 1409 & 3 & 0 & 0 & 73\\\\\n\t445 & NBA & Dion Waiters     & OKL & SG & 78 & 2157 & 282 &  705 &  86 & 241 & ⋯ & 81 & 120 & 15 & 143 & 0 &  762 & 4 & 0 & 0 & 15\\\\\n\t451 & NBA & Sonny Weems      & PHI & SG & 43 &  501 &  42 &  111 &  15 &  42 & ⋯ & 10 &  41 &  1 &  47 & 0 &  107 & 0 & 0 & 0 &  0\\\\\n\t457 & NBA & C.j. Wilcox      & LAC & SG & 23 &  168 &  26 &   66 &   9 &  23 & ⋯ & 10 &   2 &  2 &  15 & 0 &   70 & 0 & 0 & 0 &  0\\\\\n\t461 & NBA & Elliot Williams  & MEM & SG &  5 &   46 &   2 &   10 &   1 &   4 & ⋯ &  1 &   1 &  0 &   2 & 0 &    8 & 0 & 0 & 0 &  0\\\\\n\t462 & NBA & Louis Williams   & LAL & SG & 67 & 1911 & 283 &  695 & 110 & 321 & ⋯ & 62 & 107 & 19 & 107 & 1 & 1028 & 1 & 0 & 0 & 35\\\\\n\t470 & NBA & Tony Wroten      & PHI & SG &  8 &  145 &  22 &   65 &   3 &  17 & ⋯ &  3 &  29 &  0 &  11 & 0 &   67 & 0 & 0 & 0 &  3\\\\\n\t471 & NBA & James Young      & BOS & SG & 29 &  200 &  11 &   36 &   6 &  26 & ⋯ &  6 &   5 &  1 &  17 & 0 &   29 & 0 & 0 & 0 &  0\\\\\n\\end{tabular}\n",
            "text/markdown": "\nA data.frame: 109 × 25\n\n| <!--/--> | League &lt;fct&gt; | Name &lt;chr&gt; | Team &lt;fct&gt; | Position &lt;fct&gt; | GamesPlayed &lt;int&gt; | TotalMinutesPlayed &lt;int&gt; | FieldGoalsMade &lt;int&gt; | FieldGoalsAttempted &lt;int&gt; | ThreesMade &lt;int&gt; | ThreesAttempted &lt;int&gt; | ⋯ ⋯ | Steals &lt;int&gt; | Turnovers &lt;int&gt; | Blocks &lt;int&gt; | PersonalFouls &lt;int&gt; | Disqualifications &lt;int&gt; | TotalPoints &lt;int&gt; | Technicals &lt;int&gt; | Ejections &lt;int&gt; | FlagrantFouls &lt;int&gt; | GamesStarted &lt;int&gt; |\n|---|---|---|---|---|---|---|---|---|---|---|---|---|---|---|---|---|---|---|---|---|---|\n| 2 | NBA | Jordan Adams     | MEM | SG |  2 |   15 |   2 |    6 |   0 |   1 | ⋯ |   3 |   2 |  0 |   2 | 0 |    7 | 0 | 0 | 0 |  0 |\n| 4 | NBA | Arron Afflalo    | NYK | SG | 71 | 2359 | 354 |  799 |  91 | 238 | ⋯ |  25 |  82 | 10 | 142 | 1 |  909 | 1 | 0 | 0 | 57 |\n| 10 | NBA | Tony Allen       | MEM | SG | 64 | 1622 | 215 |  469 |  15 |  42 | ⋯ | 109 |  78 | 18 | 175 | 1 |  535 | 1 | 0 | 0 | 56 |\n| 14 | NBA | Alan Anderson    | WAS | SG | 13 |  193 |  21 |   59 |  12 |  37 | ⋯ |   4 |   2 |  1 |  25 | 0 |   65 | 0 | 0 | 0 |  0 |\n| 15 | NBA | James Anderson   | SAC | SG | 51 |  721 |  67 |  178 |  23 |  86 | ⋯ |  21 |  42 | 14 |  54 | 0 |  179 | 0 | 0 | 0 | 15 |\n| 16 | NBA | Justin Anderson  | DAL | SG | 55 |  644 |  71 |  176 |  22 |  83 | ⋯ |  19 |  24 | 25 |  45 | 0 |  208 | 0 | 0 | 0 |  9 |\n| 32 | NBA | Leandro Barbosa  | GSW | SG | 68 | 1079 | 171 |  370 |  39 | 111 | ⋯ |  44 |  53 | 10 | 107 | 0 |  433 | 1 | 0 | 0 |  0 |\n| 37 | NBA | Will Barton      | DEN | SG | 82 | 2355 | 426 |  984 | 112 | 324 | ⋯ |  71 | 139 | 39 | 147 | 0 | 1180 | 2 | 0 | 0 |  1 |\n| 42 | NBA | Kent Bazemore    | ATL | SG | 75 | 2077 | 320 |  724 | 109 | 304 | ⋯ |  98 | 138 | 38 | 176 | 2 |  872 | 4 | 0 | 0 | 68 |\n| 43 | NBA | Bradley Beal     | WAS | SG | 55 | 1709 | 359 |  799 | 105 | 271 | ⋯ |  54 | 112 | 11 | 117 | 0 |  958 | 0 | 0 | 0 | 35 |\n| 54 | NBA | Bojan Bogdanovic | BRO | SG | 79 | 2114 | 324 |  749 | 129 | 337 | ⋯ |  29 | 115 |  5 | 119 | 0 |  887 | 2 | 0 | 0 | 39 |\n| 57 | NBA | Devin Booker     | PHO | SG | 76 | 2110 | 367 |  867 |  99 | 289 | ⋯ |  44 | 160 | 20 | 225 | 5 | 1048 | 0 | 0 | 0 | 51 |\n| 62 | NBA | Corey Brewer     | HOU | SG | 82 | 1670 | 212 |  552 |  61 | 225 | ⋯ |  84 |  78 | 19 | 168 | 1 |  590 | 0 | 0 | 0 | 12 |\n| 66 | NBA | Markel Brown     | BRO | SG | 62 |  989 | 127 |  322 |  38 | 121 | ⋯ |  38 |  54 | 15 |  94 | 1 |  363 | 1 | 0 | 0 |  6 |\n| 67 | NBA | Kobe Bryant      | LAL | SG | 66 | 1861 | 398 | 1112 | 133 | 466 | ⋯ |  62 | 130 | 13 | 115 | 0 | 1161 | 1 | 0 | 0 | 66 |\n| 73 | NBA | Jimmy Butler     | CHI | SG | 67 | 2473 | 470 | 1034 |  64 | 206 | ⋯ | 110 | 132 | 43 | 124 | 1 | 1399 | 1 | 0 | 0 | 67 |\n| 77 | NBA | Ke Caldwell-pope | DET | SG | 76 | 2789 | 403 |  960 | 114 | 368 | ⋯ | 110 | 105 | 17 | 167 | 0 | 1105 | 3 | 0 | 0 | 76 |\n| 81 | NBA | Vince Carter     | MEM | SG | 60 | 1009 | 133 |  343 |  59 | 169 | ⋯ |  38 |  35 | 16 | 101 | 0 |  395 | 1 | 0 | 0 |  3 |\n| 88 | NBA | Ian Clark        | GSW | SG | 66 |  579 |  89 |  202 |  30 |  84 | ⋯ |  17 |  43 | 13 |  58 | 0 |  236 | 1 | 0 | 0 |  1 |\n| 95 | NBA | Pat Connaughton  | POR | SG | 34 |  147 |  13 |   49 |   5 |  21 | ⋯ |   2 |  10 |  0 |   6 | 0 |   36 | 0 | 0 | 0 |  0 |\n| 101 | NBA | Jamal Crawford   | LAC | SG | 79 | 2126 | 379 |  940 | 117 | 345 | ⋯ |  52 | 113 | 12 | 122 | 0 | 1120 | 3 | 0 | 0 |  5 |\n| 104 | NBA | Jared Cunningham | MIL | SG | 45 |  415 |  36 |  105 |  12 |  39 | ⋯ |  14 |  21 |  2 |  42 | 0 |  120 | 0 | 0 | 0 |  3 |\n| 105 | NBA | Seth Curry       | SAC | SG | 44 |  694 | 102 |  224 |  50 | 111 | ⋯ |  22 |  36 |  3 |  41 | 0 |  299 | 0 | 0 | 0 |  9 |\n| 107 | NBA | Troy Daniels     | CHA | SG | 43 |  478 |  89 |  187 |  59 | 122 | ⋯ |  11 |  24 |  3 |  40 | 0 |  242 | 0 | 0 | 0 |  0 |\n| 112 | NBA | Bry Dejean-jones | NOR | SG | 11 |  271 |  27 |   67 |  11 |  30 | ⋯ |  10 |  11 |  2 |  16 | 0 |   76 | 0 | 0 | 0 | 11 |\n| 116 | NBA | Demar Derozan    | TOR | SG | 78 | 2804 | 614 | 1377 |  47 | 139 | ⋯ |  82 | 174 | 21 | 167 | 0 | 1830 | 2 | 0 | 0 | 78 |\n| 121 | NBA | Goran Dragic     | MIA | SG | 72 | 2362 | 417 |  875 |  64 | 205 | ⋯ |  71 | 185 | 17 | 188 | 1 | 1018 | 1 | 0 | 0 | 72 |\n| 123 | NBA | Jared Dudley     | WAS | SG | 81 | 2098 | 233 |  487 | 100 | 239 | ⋯ |  75 |  80 | 18 | 190 | 1 |  638 | 1 | 0 | 0 | 41 |\n| 126 | NBA | Mike Dunleavy    | CHI | SG | 31 |  702 |  77 |  188 |  39 |  99 | ⋯ |  14 |  26 | 10 |  66 | 0 |  222 | 0 | 0 | 0 | 30 |\n| 129 | NBA | Jarell Eddie     | WAS | SG | 26 |  147 |  20 |   65 |  15 |  47 | ⋯ |   5 |   1 |  1 |   5 | 0 |   63 | 0 | 0 | 0 |  0 |\n| ⋮ | ⋮ | ⋮ | ⋮ | ⋮ | ⋮ | ⋮ | ⋮ | ⋮ | ⋮ | ⋮ | ⋱ | ⋮ | ⋮ | ⋮ | ⋮ | ⋮ | ⋮ | ⋮ | ⋮ | ⋮ | ⋮ |\n| 363 | NBA | Norman Powell    | TOR | SG | 49 |  729 |  97 |  229 |  36 |  88 | ⋯ | 29 |  32 | 10 |  59 | 0 |  273 | 0 | 0 | 0 | 24 |\n| 364 | NBA | Phil Pressey     | PHO | SG | 22 |  280 |  30 |   77 |   4 |  17 | ⋯ | 17 |  33 |  4 |  28 | 0 |   77 | 0 | 0 | 0 |  0 |\n| 370 | NBA | J.j. Redick      | LAC | SG | 75 | 2098 | 422 |  880 | 200 | 420 | ⋯ | 42 |  79 |  5 | 135 | 0 | 1226 | 1 | 0 | 0 | 75 |\n| 372 | NBA | Josh Richardson  | MIA | SG | 52 | 1105 | 123 |  272 |  53 | 115 | ⋯ | 36 |  35 | 25 | 107 | 0 |  341 | 0 | 0 | 0 |  2 |\n| 373 | NBA | Austin Rivers    | LAC | SG | 67 | 1466 | 226 |  516 |  62 | 185 | ⋯ | 48 |  61 | 10 | 137 | 1 |  593 | 2 | 0 | 0 |  7 |\n| 374 | NBA | Andre Roberson   | OKL | SG | 70 | 1552 | 136 |  274 |  32 | 103 | ⋯ | 54 |  35 | 42 | 133 | 0 |  337 | 1 | 0 | 0 | 70 |\n| 385 | NBA | Brandon Rush     | GSW | SG | 72 | 1050 | 111 |  260 |  65 | 157 | ⋯ | 21 |  33 | 23 |  57 | 1 |  305 | 0 | 0 | 0 | 25 |\n| 388 | NBA | Jakarr Sampson   | DEN | SG | 73 | 1166 | 140 |  318 |  14 |  63 | ⋯ | 23 |  70 | 33 | 142 | 1 |  374 | 2 | 0 | 0 | 40 |\n| 392 | NBA | Thabo Sefolosha  | ATL | SG | 75 | 1749 | 188 |  374 |  42 | 125 | ⋯ | 84 |  68 | 37 | 109 | 0 |  480 | 0 | 0 | 0 | 11 |\n| 395 | NBA | Iman Shumpert    | CLE | SG | 54 | 1319 | 114 |  305 |  43 | 146 | ⋯ | 54 |  56 | 19 | 119 | 1 |  311 | 1 | 0 | 0 |  5 |\n| 396 | NBA | Jonathon Simmons | SAN | SG | 55 |  811 | 122 |  241 |  18 |  47 | ⋯ | 24 |  53 |  5 | 103 | 0 |  331 | 0 | 0 | 0 |  2 |\n| 403 | NBA | J.r. Smith       | CLE | SG | 77 | 2367 | 353 |  849 | 204 | 510 | ⋯ | 81 |  59 | 21 | 204 | 1 |  955 | 3 | 0 | 0 | 77 |\n| 410 | NBA | Nik Stauskas     | PHI | SG | 73 | 1798 | 210 |  542 | 106 | 324 | ⋯ | 44 |  93 | 20 | 111 | 0 |  617 | 0 | 0 | 0 | 35 |\n| 420 | NBA | Garrett Temple   | WAS | SG | 80 | 1951 | 201 |  505 |  89 | 257 | ⋯ | 69 |  64 | 18 | 195 | 3 |  582 | 0 | 0 | 0 | 43 |\n| 421 | NBA | Jason Terry      | HOU | SG | 72 | 1261 | 151 |  376 |  93 | 261 | ⋯ | 47 |  49 |  9 |  91 | 0 |  422 | 1 | 0 | 0 |  7 |\n| 424 | NBA | Hollis Thompson  | PHI | SG | 77 | 2158 | 270 |  681 | 149 | 393 | ⋯ | 36 |  76 | 24 | 187 | 2 |  758 | 0 | 0 | 0 | 17 |\n| 426 | NBA | Klay Thompson    | GSW | SG | 80 | 2661 | 651 | 1386 | 276 | 648 | ⋯ | 60 | 138 | 50 | 152 | 0 | 1771 | 0 | 0 | 0 | 80 |\n| 428 | NBA | Marcus Thornton  | WAS | SG | 61 | 1110 | 216 |  542 |  91 | 271 | ⋯ | 47 |  51 |  4 |  90 | 0 |  590 | 0 | 0 | 0 |  8 |\n| 430 | NBA | Axel Toupane     | DEN | SG | 21 |  307 |  25 |   70 |  13 |  40 | ⋯ |  7 |   6 |  6 |  40 | 0 |   76 | 0 | 0 | 0 |  0 |\n| 433 | NBA | Evan Turner      | BOS | SG | 81 | 2270 | 343 |  753 |  20 |  83 | ⋯ | 80 | 169 | 28 | 139 | 0 |  854 | 2 | 0 | 0 | 12 |\n| 439 | NBA | Rashad Vaughn    | MIL | SG | 70 | 1000 |  82 |  266 |  44 | 147 | ⋯ | 29 |  28 | 16 |  73 | 0 |  220 | 0 | 0 | 0 |  6 |\n| 443 | NBA | Sasha Vujacic    | NYK | SG | 61 |  910 | 106 |  277 |  52 | 143 | ⋯ | 34 |  44 |  5 |  83 | 0 |  296 | 1 | 0 | 0 | 25 |\n| 444 | NBA | Dwyane Wade      | MIA | SG | 74 | 2258 | 540 | 1183 |   7 |  44 | ⋯ | 79 | 203 | 42 | 116 | 0 | 1409 | 3 | 0 | 0 | 73 |\n| 445 | NBA | Dion Waiters     | OKL | SG | 78 | 2157 | 282 |  705 |  86 | 241 | ⋯ | 81 | 120 | 15 | 143 | 0 |  762 | 4 | 0 | 0 | 15 |\n| 451 | NBA | Sonny Weems      | PHI | SG | 43 |  501 |  42 |  111 |  15 |  42 | ⋯ | 10 |  41 |  1 |  47 | 0 |  107 | 0 | 0 | 0 |  0 |\n| 457 | NBA | C.j. Wilcox      | LAC | SG | 23 |  168 |  26 |   66 |   9 |  23 | ⋯ | 10 |   2 |  2 |  15 | 0 |   70 | 0 | 0 | 0 |  0 |\n| 461 | NBA | Elliot Williams  | MEM | SG |  5 |   46 |   2 |   10 |   1 |   4 | ⋯ |  1 |   1 |  0 |   2 | 0 |    8 | 0 | 0 | 0 |  0 |\n| 462 | NBA | Louis Williams   | LAL | SG | 67 | 1911 | 283 |  695 | 110 | 321 | ⋯ | 62 | 107 | 19 | 107 | 1 | 1028 | 1 | 0 | 0 | 35 |\n| 470 | NBA | Tony Wroten      | PHI | SG |  8 |  145 |  22 |   65 |   3 |  17 | ⋯ |  3 |  29 |  0 |  11 | 0 |   67 | 0 | 0 | 0 |  3 |\n| 471 | NBA | James Young      | BOS | SG | 29 |  200 |  11 |   36 |   6 |  26 | ⋯ |  6 |   5 |  1 |  17 | 0 |   29 | 0 | 0 | 0 |  0 |\n\n",
            "text/html": [
              "<table>\n",
              "<caption>A data.frame: 109 × 25</caption>\n",
              "<thead>\n",
              "\t<tr><th></th><th scope=col>League</th><th scope=col>Name</th><th scope=col>Team</th><th scope=col>Position</th><th scope=col>GamesPlayed</th><th scope=col>TotalMinutesPlayed</th><th scope=col>FieldGoalsMade</th><th scope=col>FieldGoalsAttempted</th><th scope=col>ThreesMade</th><th scope=col>ThreesAttempted</th><th scope=col>⋯</th><th scope=col>Steals</th><th scope=col>Turnovers</th><th scope=col>Blocks</th><th scope=col>PersonalFouls</th><th scope=col>Disqualifications</th><th scope=col>TotalPoints</th><th scope=col>Technicals</th><th scope=col>Ejections</th><th scope=col>FlagrantFouls</th><th scope=col>GamesStarted</th></tr>\n",
              "\t<tr><th></th><th scope=col>&lt;fct&gt;</th><th scope=col>&lt;chr&gt;</th><th scope=col>&lt;fct&gt;</th><th scope=col>&lt;fct&gt;</th><th scope=col>&lt;int&gt;</th><th scope=col>&lt;int&gt;</th><th scope=col>&lt;int&gt;</th><th scope=col>&lt;int&gt;</th><th scope=col>&lt;int&gt;</th><th scope=col>&lt;int&gt;</th><th scope=col>⋯</th><th scope=col>&lt;int&gt;</th><th scope=col>&lt;int&gt;</th><th scope=col>&lt;int&gt;</th><th scope=col>&lt;int&gt;</th><th scope=col>&lt;int&gt;</th><th scope=col>&lt;int&gt;</th><th scope=col>&lt;int&gt;</th><th scope=col>&lt;int&gt;</th><th scope=col>&lt;int&gt;</th><th scope=col>&lt;int&gt;</th></tr>\n",
              "</thead>\n",
              "<tbody>\n",
              "\t<tr><th scope=row>2</th><td>NBA</td><td>Jordan Adams    </td><td>MEM</td><td>SG</td><td> 2</td><td>  15</td><td>  2</td><td>   6</td><td>  0</td><td>  1</td><td>⋯</td><td>  3</td><td>  2</td><td> 0</td><td>  2</td><td>0</td><td>   7</td><td>0</td><td>0</td><td>0</td><td> 0</td></tr>\n",
              "\t<tr><th scope=row>4</th><td>NBA</td><td>Arron Afflalo   </td><td>NYK</td><td>SG</td><td>71</td><td>2359</td><td>354</td><td> 799</td><td> 91</td><td>238</td><td>⋯</td><td> 25</td><td> 82</td><td>10</td><td>142</td><td>1</td><td> 909</td><td>1</td><td>0</td><td>0</td><td>57</td></tr>\n",
              "\t<tr><th scope=row>10</th><td>NBA</td><td>Tony Allen      </td><td>MEM</td><td>SG</td><td>64</td><td>1622</td><td>215</td><td> 469</td><td> 15</td><td> 42</td><td>⋯</td><td>109</td><td> 78</td><td>18</td><td>175</td><td>1</td><td> 535</td><td>1</td><td>0</td><td>0</td><td>56</td></tr>\n",
              "\t<tr><th scope=row>14</th><td>NBA</td><td>Alan Anderson   </td><td>WAS</td><td>SG</td><td>13</td><td> 193</td><td> 21</td><td>  59</td><td> 12</td><td> 37</td><td>⋯</td><td>  4</td><td>  2</td><td> 1</td><td> 25</td><td>0</td><td>  65</td><td>0</td><td>0</td><td>0</td><td> 0</td></tr>\n",
              "\t<tr><th scope=row>15</th><td>NBA</td><td>James Anderson  </td><td>SAC</td><td>SG</td><td>51</td><td> 721</td><td> 67</td><td> 178</td><td> 23</td><td> 86</td><td>⋯</td><td> 21</td><td> 42</td><td>14</td><td> 54</td><td>0</td><td> 179</td><td>0</td><td>0</td><td>0</td><td>15</td></tr>\n",
              "\t<tr><th scope=row>16</th><td>NBA</td><td>Justin Anderson </td><td>DAL</td><td>SG</td><td>55</td><td> 644</td><td> 71</td><td> 176</td><td> 22</td><td> 83</td><td>⋯</td><td> 19</td><td> 24</td><td>25</td><td> 45</td><td>0</td><td> 208</td><td>0</td><td>0</td><td>0</td><td> 9</td></tr>\n",
              "\t<tr><th scope=row>32</th><td>NBA</td><td>Leandro Barbosa </td><td>GSW</td><td>SG</td><td>68</td><td>1079</td><td>171</td><td> 370</td><td> 39</td><td>111</td><td>⋯</td><td> 44</td><td> 53</td><td>10</td><td>107</td><td>0</td><td> 433</td><td>1</td><td>0</td><td>0</td><td> 0</td></tr>\n",
              "\t<tr><th scope=row>37</th><td>NBA</td><td>Will Barton     </td><td>DEN</td><td>SG</td><td>82</td><td>2355</td><td>426</td><td> 984</td><td>112</td><td>324</td><td>⋯</td><td> 71</td><td>139</td><td>39</td><td>147</td><td>0</td><td>1180</td><td>2</td><td>0</td><td>0</td><td> 1</td></tr>\n",
              "\t<tr><th scope=row>42</th><td>NBA</td><td>Kent Bazemore   </td><td>ATL</td><td>SG</td><td>75</td><td>2077</td><td>320</td><td> 724</td><td>109</td><td>304</td><td>⋯</td><td> 98</td><td>138</td><td>38</td><td>176</td><td>2</td><td> 872</td><td>4</td><td>0</td><td>0</td><td>68</td></tr>\n",
              "\t<tr><th scope=row>43</th><td>NBA</td><td>Bradley Beal    </td><td>WAS</td><td>SG</td><td>55</td><td>1709</td><td>359</td><td> 799</td><td>105</td><td>271</td><td>⋯</td><td> 54</td><td>112</td><td>11</td><td>117</td><td>0</td><td> 958</td><td>0</td><td>0</td><td>0</td><td>35</td></tr>\n",
              "\t<tr><th scope=row>54</th><td>NBA</td><td>Bojan Bogdanovic</td><td>BRO</td><td>SG</td><td>79</td><td>2114</td><td>324</td><td> 749</td><td>129</td><td>337</td><td>⋯</td><td> 29</td><td>115</td><td> 5</td><td>119</td><td>0</td><td> 887</td><td>2</td><td>0</td><td>0</td><td>39</td></tr>\n",
              "\t<tr><th scope=row>57</th><td>NBA</td><td>Devin Booker    </td><td>PHO</td><td>SG</td><td>76</td><td>2110</td><td>367</td><td> 867</td><td> 99</td><td>289</td><td>⋯</td><td> 44</td><td>160</td><td>20</td><td>225</td><td>5</td><td>1048</td><td>0</td><td>0</td><td>0</td><td>51</td></tr>\n",
              "\t<tr><th scope=row>62</th><td>NBA</td><td>Corey Brewer    </td><td>HOU</td><td>SG</td><td>82</td><td>1670</td><td>212</td><td> 552</td><td> 61</td><td>225</td><td>⋯</td><td> 84</td><td> 78</td><td>19</td><td>168</td><td>1</td><td> 590</td><td>0</td><td>0</td><td>0</td><td>12</td></tr>\n",
              "\t<tr><th scope=row>66</th><td>NBA</td><td>Markel Brown    </td><td>BRO</td><td>SG</td><td>62</td><td> 989</td><td>127</td><td> 322</td><td> 38</td><td>121</td><td>⋯</td><td> 38</td><td> 54</td><td>15</td><td> 94</td><td>1</td><td> 363</td><td>1</td><td>0</td><td>0</td><td> 6</td></tr>\n",
              "\t<tr><th scope=row>67</th><td>NBA</td><td>Kobe Bryant     </td><td>LAL</td><td>SG</td><td>66</td><td>1861</td><td>398</td><td>1112</td><td>133</td><td>466</td><td>⋯</td><td> 62</td><td>130</td><td>13</td><td>115</td><td>0</td><td>1161</td><td>1</td><td>0</td><td>0</td><td>66</td></tr>\n",
              "\t<tr><th scope=row>73</th><td>NBA</td><td>Jimmy Butler    </td><td>CHI</td><td>SG</td><td>67</td><td>2473</td><td>470</td><td>1034</td><td> 64</td><td>206</td><td>⋯</td><td>110</td><td>132</td><td>43</td><td>124</td><td>1</td><td>1399</td><td>1</td><td>0</td><td>0</td><td>67</td></tr>\n",
              "\t<tr><th scope=row>77</th><td>NBA</td><td>Ke Caldwell-pope</td><td>DET</td><td>SG</td><td>76</td><td>2789</td><td>403</td><td> 960</td><td>114</td><td>368</td><td>⋯</td><td>110</td><td>105</td><td>17</td><td>167</td><td>0</td><td>1105</td><td>3</td><td>0</td><td>0</td><td>76</td></tr>\n",
              "\t<tr><th scope=row>81</th><td>NBA</td><td>Vince Carter    </td><td>MEM</td><td>SG</td><td>60</td><td>1009</td><td>133</td><td> 343</td><td> 59</td><td>169</td><td>⋯</td><td> 38</td><td> 35</td><td>16</td><td>101</td><td>0</td><td> 395</td><td>1</td><td>0</td><td>0</td><td> 3</td></tr>\n",
              "\t<tr><th scope=row>88</th><td>NBA</td><td>Ian Clark       </td><td>GSW</td><td>SG</td><td>66</td><td> 579</td><td> 89</td><td> 202</td><td> 30</td><td> 84</td><td>⋯</td><td> 17</td><td> 43</td><td>13</td><td> 58</td><td>0</td><td> 236</td><td>1</td><td>0</td><td>0</td><td> 1</td></tr>\n",
              "\t<tr><th scope=row>95</th><td>NBA</td><td>Pat Connaughton </td><td>POR</td><td>SG</td><td>34</td><td> 147</td><td> 13</td><td>  49</td><td>  5</td><td> 21</td><td>⋯</td><td>  2</td><td> 10</td><td> 0</td><td>  6</td><td>0</td><td>  36</td><td>0</td><td>0</td><td>0</td><td> 0</td></tr>\n",
              "\t<tr><th scope=row>101</th><td>NBA</td><td>Jamal Crawford  </td><td>LAC</td><td>SG</td><td>79</td><td>2126</td><td>379</td><td> 940</td><td>117</td><td>345</td><td>⋯</td><td> 52</td><td>113</td><td>12</td><td>122</td><td>0</td><td>1120</td><td>3</td><td>0</td><td>0</td><td> 5</td></tr>\n",
              "\t<tr><th scope=row>104</th><td>NBA</td><td>Jared Cunningham</td><td>MIL</td><td>SG</td><td>45</td><td> 415</td><td> 36</td><td> 105</td><td> 12</td><td> 39</td><td>⋯</td><td> 14</td><td> 21</td><td> 2</td><td> 42</td><td>0</td><td> 120</td><td>0</td><td>0</td><td>0</td><td> 3</td></tr>\n",
              "\t<tr><th scope=row>105</th><td>NBA</td><td>Seth Curry      </td><td>SAC</td><td>SG</td><td>44</td><td> 694</td><td>102</td><td> 224</td><td> 50</td><td>111</td><td>⋯</td><td> 22</td><td> 36</td><td> 3</td><td> 41</td><td>0</td><td> 299</td><td>0</td><td>0</td><td>0</td><td> 9</td></tr>\n",
              "\t<tr><th scope=row>107</th><td>NBA</td><td>Troy Daniels    </td><td>CHA</td><td>SG</td><td>43</td><td> 478</td><td> 89</td><td> 187</td><td> 59</td><td>122</td><td>⋯</td><td> 11</td><td> 24</td><td> 3</td><td> 40</td><td>0</td><td> 242</td><td>0</td><td>0</td><td>0</td><td> 0</td></tr>\n",
              "\t<tr><th scope=row>112</th><td>NBA</td><td>Bry Dejean-jones</td><td>NOR</td><td>SG</td><td>11</td><td> 271</td><td> 27</td><td>  67</td><td> 11</td><td> 30</td><td>⋯</td><td> 10</td><td> 11</td><td> 2</td><td> 16</td><td>0</td><td>  76</td><td>0</td><td>0</td><td>0</td><td>11</td></tr>\n",
              "\t<tr><th scope=row>116</th><td>NBA</td><td>Demar Derozan   </td><td>TOR</td><td>SG</td><td>78</td><td>2804</td><td>614</td><td>1377</td><td> 47</td><td>139</td><td>⋯</td><td> 82</td><td>174</td><td>21</td><td>167</td><td>0</td><td>1830</td><td>2</td><td>0</td><td>0</td><td>78</td></tr>\n",
              "\t<tr><th scope=row>121</th><td>NBA</td><td>Goran Dragic    </td><td>MIA</td><td>SG</td><td>72</td><td>2362</td><td>417</td><td> 875</td><td> 64</td><td>205</td><td>⋯</td><td> 71</td><td>185</td><td>17</td><td>188</td><td>1</td><td>1018</td><td>1</td><td>0</td><td>0</td><td>72</td></tr>\n",
              "\t<tr><th scope=row>123</th><td>NBA</td><td>Jared Dudley    </td><td>WAS</td><td>SG</td><td>81</td><td>2098</td><td>233</td><td> 487</td><td>100</td><td>239</td><td>⋯</td><td> 75</td><td> 80</td><td>18</td><td>190</td><td>1</td><td> 638</td><td>1</td><td>0</td><td>0</td><td>41</td></tr>\n",
              "\t<tr><th scope=row>126</th><td>NBA</td><td>Mike Dunleavy   </td><td>CHI</td><td>SG</td><td>31</td><td> 702</td><td> 77</td><td> 188</td><td> 39</td><td> 99</td><td>⋯</td><td> 14</td><td> 26</td><td>10</td><td> 66</td><td>0</td><td> 222</td><td>0</td><td>0</td><td>0</td><td>30</td></tr>\n",
              "\t<tr><th scope=row>129</th><td>NBA</td><td>Jarell Eddie    </td><td>WAS</td><td>SG</td><td>26</td><td> 147</td><td> 20</td><td>  65</td><td> 15</td><td> 47</td><td>⋯</td><td>  5</td><td>  1</td><td> 1</td><td>  5</td><td>0</td><td>  63</td><td>0</td><td>0</td><td>0</td><td> 0</td></tr>\n",
              "\t<tr><th scope=row>⋮</th><td>⋮</td><td>⋮</td><td>⋮</td><td>⋮</td><td>⋮</td><td>⋮</td><td>⋮</td><td>⋮</td><td>⋮</td><td>⋮</td><td>⋱</td><td>⋮</td><td>⋮</td><td>⋮</td><td>⋮</td><td>⋮</td><td>⋮</td><td>⋮</td><td>⋮</td><td>⋮</td><td>⋮</td></tr>\n",
              "\t<tr><th scope=row>363</th><td>NBA</td><td>Norman Powell   </td><td>TOR</td><td>SG</td><td>49</td><td> 729</td><td> 97</td><td> 229</td><td> 36</td><td> 88</td><td>⋯</td><td>29</td><td> 32</td><td>10</td><td> 59</td><td>0</td><td> 273</td><td>0</td><td>0</td><td>0</td><td>24</td></tr>\n",
              "\t<tr><th scope=row>364</th><td>NBA</td><td>Phil Pressey    </td><td>PHO</td><td>SG</td><td>22</td><td> 280</td><td> 30</td><td>  77</td><td>  4</td><td> 17</td><td>⋯</td><td>17</td><td> 33</td><td> 4</td><td> 28</td><td>0</td><td>  77</td><td>0</td><td>0</td><td>0</td><td> 0</td></tr>\n",
              "\t<tr><th scope=row>370</th><td>NBA</td><td>J.j. Redick     </td><td>LAC</td><td>SG</td><td>75</td><td>2098</td><td>422</td><td> 880</td><td>200</td><td>420</td><td>⋯</td><td>42</td><td> 79</td><td> 5</td><td>135</td><td>0</td><td>1226</td><td>1</td><td>0</td><td>0</td><td>75</td></tr>\n",
              "\t<tr><th scope=row>372</th><td>NBA</td><td>Josh Richardson </td><td>MIA</td><td>SG</td><td>52</td><td>1105</td><td>123</td><td> 272</td><td> 53</td><td>115</td><td>⋯</td><td>36</td><td> 35</td><td>25</td><td>107</td><td>0</td><td> 341</td><td>0</td><td>0</td><td>0</td><td> 2</td></tr>\n",
              "\t<tr><th scope=row>373</th><td>NBA</td><td>Austin Rivers   </td><td>LAC</td><td>SG</td><td>67</td><td>1466</td><td>226</td><td> 516</td><td> 62</td><td>185</td><td>⋯</td><td>48</td><td> 61</td><td>10</td><td>137</td><td>1</td><td> 593</td><td>2</td><td>0</td><td>0</td><td> 7</td></tr>\n",
              "\t<tr><th scope=row>374</th><td>NBA</td><td>Andre Roberson  </td><td>OKL</td><td>SG</td><td>70</td><td>1552</td><td>136</td><td> 274</td><td> 32</td><td>103</td><td>⋯</td><td>54</td><td> 35</td><td>42</td><td>133</td><td>0</td><td> 337</td><td>1</td><td>0</td><td>0</td><td>70</td></tr>\n",
              "\t<tr><th scope=row>385</th><td>NBA</td><td>Brandon Rush    </td><td>GSW</td><td>SG</td><td>72</td><td>1050</td><td>111</td><td> 260</td><td> 65</td><td>157</td><td>⋯</td><td>21</td><td> 33</td><td>23</td><td> 57</td><td>1</td><td> 305</td><td>0</td><td>0</td><td>0</td><td>25</td></tr>\n",
              "\t<tr><th scope=row>388</th><td>NBA</td><td>Jakarr Sampson  </td><td>DEN</td><td>SG</td><td>73</td><td>1166</td><td>140</td><td> 318</td><td> 14</td><td> 63</td><td>⋯</td><td>23</td><td> 70</td><td>33</td><td>142</td><td>1</td><td> 374</td><td>2</td><td>0</td><td>0</td><td>40</td></tr>\n",
              "\t<tr><th scope=row>392</th><td>NBA</td><td>Thabo Sefolosha </td><td>ATL</td><td>SG</td><td>75</td><td>1749</td><td>188</td><td> 374</td><td> 42</td><td>125</td><td>⋯</td><td>84</td><td> 68</td><td>37</td><td>109</td><td>0</td><td> 480</td><td>0</td><td>0</td><td>0</td><td>11</td></tr>\n",
              "\t<tr><th scope=row>395</th><td>NBA</td><td>Iman Shumpert   </td><td>CLE</td><td>SG</td><td>54</td><td>1319</td><td>114</td><td> 305</td><td> 43</td><td>146</td><td>⋯</td><td>54</td><td> 56</td><td>19</td><td>119</td><td>1</td><td> 311</td><td>1</td><td>0</td><td>0</td><td> 5</td></tr>\n",
              "\t<tr><th scope=row>396</th><td>NBA</td><td>Jonathon Simmons</td><td>SAN</td><td>SG</td><td>55</td><td> 811</td><td>122</td><td> 241</td><td> 18</td><td> 47</td><td>⋯</td><td>24</td><td> 53</td><td> 5</td><td>103</td><td>0</td><td> 331</td><td>0</td><td>0</td><td>0</td><td> 2</td></tr>\n",
              "\t<tr><th scope=row>403</th><td>NBA</td><td>J.r. Smith      </td><td>CLE</td><td>SG</td><td>77</td><td>2367</td><td>353</td><td> 849</td><td>204</td><td>510</td><td>⋯</td><td>81</td><td> 59</td><td>21</td><td>204</td><td>1</td><td> 955</td><td>3</td><td>0</td><td>0</td><td>77</td></tr>\n",
              "\t<tr><th scope=row>410</th><td>NBA</td><td>Nik Stauskas    </td><td>PHI</td><td>SG</td><td>73</td><td>1798</td><td>210</td><td> 542</td><td>106</td><td>324</td><td>⋯</td><td>44</td><td> 93</td><td>20</td><td>111</td><td>0</td><td> 617</td><td>0</td><td>0</td><td>0</td><td>35</td></tr>\n",
              "\t<tr><th scope=row>420</th><td>NBA</td><td>Garrett Temple  </td><td>WAS</td><td>SG</td><td>80</td><td>1951</td><td>201</td><td> 505</td><td> 89</td><td>257</td><td>⋯</td><td>69</td><td> 64</td><td>18</td><td>195</td><td>3</td><td> 582</td><td>0</td><td>0</td><td>0</td><td>43</td></tr>\n",
              "\t<tr><th scope=row>421</th><td>NBA</td><td>Jason Terry     </td><td>HOU</td><td>SG</td><td>72</td><td>1261</td><td>151</td><td> 376</td><td> 93</td><td>261</td><td>⋯</td><td>47</td><td> 49</td><td> 9</td><td> 91</td><td>0</td><td> 422</td><td>1</td><td>0</td><td>0</td><td> 7</td></tr>\n",
              "\t<tr><th scope=row>424</th><td>NBA</td><td>Hollis Thompson </td><td>PHI</td><td>SG</td><td>77</td><td>2158</td><td>270</td><td> 681</td><td>149</td><td>393</td><td>⋯</td><td>36</td><td> 76</td><td>24</td><td>187</td><td>2</td><td> 758</td><td>0</td><td>0</td><td>0</td><td>17</td></tr>\n",
              "\t<tr><th scope=row>426</th><td>NBA</td><td>Klay Thompson   </td><td>GSW</td><td>SG</td><td>80</td><td>2661</td><td>651</td><td>1386</td><td>276</td><td>648</td><td>⋯</td><td>60</td><td>138</td><td>50</td><td>152</td><td>0</td><td>1771</td><td>0</td><td>0</td><td>0</td><td>80</td></tr>\n",
              "\t<tr><th scope=row>428</th><td>NBA</td><td>Marcus Thornton </td><td>WAS</td><td>SG</td><td>61</td><td>1110</td><td>216</td><td> 542</td><td> 91</td><td>271</td><td>⋯</td><td>47</td><td> 51</td><td> 4</td><td> 90</td><td>0</td><td> 590</td><td>0</td><td>0</td><td>0</td><td> 8</td></tr>\n",
              "\t<tr><th scope=row>430</th><td>NBA</td><td>Axel Toupane    </td><td>DEN</td><td>SG</td><td>21</td><td> 307</td><td> 25</td><td>  70</td><td> 13</td><td> 40</td><td>⋯</td><td> 7</td><td>  6</td><td> 6</td><td> 40</td><td>0</td><td>  76</td><td>0</td><td>0</td><td>0</td><td> 0</td></tr>\n",
              "\t<tr><th scope=row>433</th><td>NBA</td><td>Evan Turner     </td><td>BOS</td><td>SG</td><td>81</td><td>2270</td><td>343</td><td> 753</td><td> 20</td><td> 83</td><td>⋯</td><td>80</td><td>169</td><td>28</td><td>139</td><td>0</td><td> 854</td><td>2</td><td>0</td><td>0</td><td>12</td></tr>\n",
              "\t<tr><th scope=row>439</th><td>NBA</td><td>Rashad Vaughn   </td><td>MIL</td><td>SG</td><td>70</td><td>1000</td><td> 82</td><td> 266</td><td> 44</td><td>147</td><td>⋯</td><td>29</td><td> 28</td><td>16</td><td> 73</td><td>0</td><td> 220</td><td>0</td><td>0</td><td>0</td><td> 6</td></tr>\n",
              "\t<tr><th scope=row>443</th><td>NBA</td><td>Sasha Vujacic   </td><td>NYK</td><td>SG</td><td>61</td><td> 910</td><td>106</td><td> 277</td><td> 52</td><td>143</td><td>⋯</td><td>34</td><td> 44</td><td> 5</td><td> 83</td><td>0</td><td> 296</td><td>1</td><td>0</td><td>0</td><td>25</td></tr>\n",
              "\t<tr><th scope=row>444</th><td>NBA</td><td>Dwyane Wade     </td><td>MIA</td><td>SG</td><td>74</td><td>2258</td><td>540</td><td>1183</td><td>  7</td><td> 44</td><td>⋯</td><td>79</td><td>203</td><td>42</td><td>116</td><td>0</td><td>1409</td><td>3</td><td>0</td><td>0</td><td>73</td></tr>\n",
              "\t<tr><th scope=row>445</th><td>NBA</td><td>Dion Waiters    </td><td>OKL</td><td>SG</td><td>78</td><td>2157</td><td>282</td><td> 705</td><td> 86</td><td>241</td><td>⋯</td><td>81</td><td>120</td><td>15</td><td>143</td><td>0</td><td> 762</td><td>4</td><td>0</td><td>0</td><td>15</td></tr>\n",
              "\t<tr><th scope=row>451</th><td>NBA</td><td>Sonny Weems     </td><td>PHI</td><td>SG</td><td>43</td><td> 501</td><td> 42</td><td> 111</td><td> 15</td><td> 42</td><td>⋯</td><td>10</td><td> 41</td><td> 1</td><td> 47</td><td>0</td><td> 107</td><td>0</td><td>0</td><td>0</td><td> 0</td></tr>\n",
              "\t<tr><th scope=row>457</th><td>NBA</td><td>C.j. Wilcox     </td><td>LAC</td><td>SG</td><td>23</td><td> 168</td><td> 26</td><td>  66</td><td>  9</td><td> 23</td><td>⋯</td><td>10</td><td>  2</td><td> 2</td><td> 15</td><td>0</td><td>  70</td><td>0</td><td>0</td><td>0</td><td> 0</td></tr>\n",
              "\t<tr><th scope=row>461</th><td>NBA</td><td>Elliot Williams </td><td>MEM</td><td>SG</td><td> 5</td><td>  46</td><td>  2</td><td>  10</td><td>  1</td><td>  4</td><td>⋯</td><td> 1</td><td>  1</td><td> 0</td><td>  2</td><td>0</td><td>   8</td><td>0</td><td>0</td><td>0</td><td> 0</td></tr>\n",
              "\t<tr><th scope=row>462</th><td>NBA</td><td>Louis Williams  </td><td>LAL</td><td>SG</td><td>67</td><td>1911</td><td>283</td><td> 695</td><td>110</td><td>321</td><td>⋯</td><td>62</td><td>107</td><td>19</td><td>107</td><td>1</td><td>1028</td><td>1</td><td>0</td><td>0</td><td>35</td></tr>\n",
              "\t<tr><th scope=row>470</th><td>NBA</td><td>Tony Wroten     </td><td>PHI</td><td>SG</td><td> 8</td><td> 145</td><td> 22</td><td>  65</td><td>  3</td><td> 17</td><td>⋯</td><td> 3</td><td> 29</td><td> 0</td><td> 11</td><td>0</td><td>  67</td><td>0</td><td>0</td><td>0</td><td> 3</td></tr>\n",
              "\t<tr><th scope=row>471</th><td>NBA</td><td>James Young     </td><td>BOS</td><td>SG</td><td>29</td><td> 200</td><td> 11</td><td>  36</td><td>  6</td><td> 26</td><td>⋯</td><td> 6</td><td>  5</td><td> 1</td><td> 17</td><td>0</td><td>  29</td><td>0</td><td>0</td><td>0</td><td> 0</td></tr>\n",
              "</tbody>\n",
              "</table>\n"
            ]
          },
          "metadata": {
            "tags": []
          }
        }
      ]
    },
    {
      "cell_type": "code",
      "metadata": {
        "id": "lLeQRBrSlZcb",
        "outputId": "8a9418a6-9b76-49b5-f097-7b4cd7263296",
        "colab": {
          "base_uri": "https://localhost:8080/",
          "height": 68
        }
      },
      "source": [
        "(install.packages(\"data.table\")\n",
        "library(data.table)"
      ],
      "execution_count": 30,
      "outputs": [
        {
          "output_type": "stream",
          "text": [
            "Installing package into ‘/usr/local/lib/R/site-library’\n",
            "(as ‘lib’ is unspecified)\n",
            "\n"
          ],
          "name": "stderr"
        }
      ]
    },
    {
      "cell_type": "code",
      "metadata": {
        "id": "3VqWSWBspmQV",
        "outputId": "fb558a8d-5bc2-469b-c480-7c287e12fd3e",
        "colab": {
          "base_uri": "https://localhost:8080/",
          "height": 998
        }
      },
      "source": [
        "NBA1516DT <- data.table(NBA1516)\n",
        "\n",
        "NBA1516DT[GamesPlayed > 80]"
      ],
      "execution_count": 50,
      "outputs": [
        {
          "output_type": "display_data",
          "data": {
            "text/plain": [
              "   League Name             Team Position GamesPlayed TotalMinutesPlayed\n",
              "1  NBA    Al-farouq Aminu  POR  SF       82          2342              \n",
              "2  NBA    Trevor Ariza     HOU  SF       81          2860              \n",
              "3  NBA    Will Barton      DEN  SG       82          2355              \n",
              "4  NBA    Aron Baynes      DET  PF       81          1241              \n",
              "5  NBA    Bismack Biyombo  TOR  PF       82          1810              \n",
              "6  NBA    Corey Brewer     HOU  SG       82          1670              \n",
              "7  NBA    Allen Crabbe     POR  SF       81          2111              \n",
              "8  NBA    Ed Davis         POR  PF       81          1684              \n",
              "9  NBA    Gorgui Dieng     MIN  C        82          2222              \n",
              "10 NBA    Andre Drummond   DET  C        81          2664              \n",
              "11 NBA    Jared Dudley     WAS  SG       81          2098              \n",
              "12 NBA    Monta Ellis      IND  PG       81          2733              \n",
              "13 NBA    Randy Foye       OKC  SG       81          1640              \n",
              "14 NBA    Langsto Galloway NYK  PG       82          2032              \n",
              "15 NBA    Paul George      IND  SF       81          2828              \n",
              "16 NBA    Draymond Green   GSW  SF       81          2807              \n",
              "17 NBA    James Harden     HOU  SG       82          3121              \n",
              "18 NBA    Roy Hibbert      LAL  C        81          1881              \n",
              "19 NBA    Al Horford       ATL  PF       82          2638              \n",
              "20 NBA    Joe Ingles       UTA  SF       81          1241              \n",
              "21 NBA    Joe Johnson      MIA  SF       81          2703              \n",
              "22 NBA    Frank Kaminsky   CHA  PF       81          1713              \n",
              "23 NBA    Enes Kanter      OKL  C        82          1721              \n",
              "24 NBA    Zach Lavine      MIN  PG       82          2295              \n",
              "25 NBA    Robin Lopez      NYK  C        82          2213              \n",
              "26 NBA    T.j. Mcconnell   PHI  PG       81          1609              \n",
              "27 NBA    Doug Mcdermott   CHI  SF       81          1860              \n",
              "28 NBA    Patty Mills      SAN  PG       81          1659              \n",
              "29 NBA    Paul Millsap     ATL  PF       81          2640              \n",
              "30 NBA    Shabazz Muhammad MIN  SF       82          1678              \n",
              "31 NBA    Raul Neto        UTA  PG       81          1501              \n",
              "32 NBA    Mason Plumlee    POR  PF       82          2087              \n",
              "33 NBA    Julius Randle    LAL  PF       81          2287              \n",
              "34 NBA    Ramon Sessions   WAS  PG       82          1667              \n",
              "35 NBA    Jared Sullinger  BOS  PF       81          1917              \n",
              "36 NBA    Isaiah Thomas    BOS  PG       82          2647              \n",
              "37 NBA    Tristan Thompson CLE  C        82          2269              \n",
              "38 NBA    Karl-antho Towns MIN  C        82          2621              \n",
              "39 NBA    P.j. Tucker      PHO  SF       82          2540              \n",
              "40 NBA    Evan Turner      BOS  SG       81          2270              \n",
              "41 NBA    Kemba Walker     CHA  PG       81          2885              \n",
              "42 NBA    Andrew Wiggins   MIN  SF       81          2844              \n",
              "43 NBA    Marvin Williams  CHA  PF       81          2339              \n",
              "   FieldGoalsMade FieldGoalsAttempted ThreesMade ThreesAttempted ⋯ Steals\n",
              "1  299             719                126        349             ⋯  72   \n",
              "2  357             858                185        497             ⋯ 161   \n",
              "3  426             984                112        324             ⋯  71   \n",
              "4  194             384                  0          2             ⋯  21   \n",
              "5  156             288                  0          1             ⋯  19   \n",
              "6  212             552                 61        225             ⋯  84   \n",
              "7  312             678                112        284             ⋯  63   \n",
              "8  206             337                  0          0             ⋯  57   \n",
              "9  308             578                  6         20             ⋯  94   \n",
              "10 552            1061                  2          6             ⋯ 119   \n",
              "11 233             487                100        239             ⋯  75   \n",
              "12 436            1021                 87        281             ⋯ 149   \n",
              "13 168             481                 75        250             ⋯  39   \n",
              "14 231             588                 77        224             ⋯  77   \n",
              "15 605            1448                210        565             ⋯ 152   \n",
              "16 401             819                100        258             ⋯ 118   \n",
              "17 710            1617                236        656             ⋯ 138   \n",
              "18 182             411                  0          2             ⋯  32   \n",
              "19 529            1049                 88        257             ⋯  67   \n",
              "20 124             291                 81        210             ⋯  55   \n",
              "21 377             859                120        313             ⋯  61   \n",
              "22 215             525                 68        202             ⋯  37   \n",
              "23 415             720                 10         21             ⋯  26   \n",
              "24 433             960                123        316             ⋯  69   \n",
              "25 357             662                  0          1             ⋯  16   \n",
              "26 218             464                 31         89             ⋯  95   \n",
              "27 291             644                110        259             ⋯  14   \n",
              "28 260             612                123        320             ⋯  59   \n",
              "29 501            1067                 74        232             ⋯ 148   \n",
              "30 317             681                 44        152             ⋯  24   \n",
              "31 180             418                 64        162             ⋯  62   \n",
              "32 267             517                  0          4             ⋯  68   \n",
              "33 358             835                 10         36             ⋯  53   \n",
              "34 280             592                 36        111             ⋯  47   \n",
              "35 351             807                 29        104             ⋯  75   \n",
              "36 591            1382                167        465             ⋯  91   \n",
              "37 247             420                  0          0             ⋯  38   \n",
              "38 625            1152                 30         88             ⋯  58   \n",
              "39 239             582                 68        206             ⋯ 106   \n",
              "40 343             753                 20         83             ⋯  80   \n",
              "41 568            1332                182        490             ⋯ 127   \n",
              "42 594            1294                 57        190             ⋯  78   \n",
              "43 338             747                152        379             ⋯  58   \n",
              "   Turnovers Blocks PersonalFouls Disqualifications TotalPoints Technicals\n",
              "1  120        53    171           0                  839         3        \n",
              "2  113        26    177           0                 1025         2        \n",
              "3  139        39    147           0                 1180         2        \n",
              "4   67        52    151           0                  514         0        \n",
              "5   71       133    225           2                  454         3        \n",
              "6   78        19    168           1                  590         0        \n",
              "7   64        16    192           2                  834         0        \n",
              "8   64        72    202           2                  526         2        \n",
              "9  140        96    219           0                  827         1        \n",
              "10 154       112    245           2                 1314         7        \n",
              "11  80        18    190           1                  638         1        \n",
              "12 203        38    174           0                 1121         1        \n",
              "13  86        29    131           0                  472         0        \n",
              "14  61        22    177           2                  625         0        \n",
              "15 265        29    230           1                 1874         6        \n",
              "16 259       111    240           2                 1131        11        \n",
              "17 374        51    229           1                 2376         2        \n",
              "18  76       110    252           3                  481         2        \n",
              "19 107       122    163           0                 1249         1        \n",
              "20  65         4     98           0                  342         1        \n",
              "21 160         4    146           0                  992         1        \n",
              "22  58        43    126           0                  606         0        \n",
              "23 115        33    166           1                 1040         2        \n",
              "24 155        17    193           1                 1150         0        \n",
              "25 133       129    182           2                  842         3        \n",
              "26 140        10    114           0                  493         0        \n",
              "27  52         6    127           0                  764         0        \n",
              "28  76         6    102           0                  690         0        \n",
              "29 191       140    237           2                 1385         4        \n",
              "30  70         7     94           0                  863         0        \n",
              "31 109         2    122           1                  476         0        \n",
              "32 154        82    253           4                  749         1        \n",
              "33 149        29    242           2                  919         0        \n",
              "34 115         5    102           0                  810         0        \n",
              "35 102        47    209           2                  834         2        \n",
              "36 220         9    167           1                 1823         9        \n",
              "37  61        51    202           0                  643         1        \n",
              "38 183       138    245           1                 1503         2        \n",
              "39 111        20    202           3                  652         4        \n",
              "40 169        28    139           0                  854         2        \n",
              "41 171        39    111           0                 1689         5        \n",
              "42 182        46    165           1                 1675         1        \n",
              "43  62        77    133           1                  948         0        \n",
              "   Ejections FlagrantFouls GamesStarted\n",
              "1  0         0             82          \n",
              "2  0         0             81          \n",
              "3  0         0              1          \n",
              "4  0         0              1          \n",
              "5  0         0             22          \n",
              "6  0         0             12          \n",
              "7  0         0              8          \n",
              "8  0         0              0          \n",
              "9  0         0             39          \n",
              "10 0         0             81          \n",
              "11 0         0             41          \n",
              "12 0         0             81          \n",
              "13 0         0              8          \n",
              "14 0         0              7          \n",
              "15 0         0             81          \n",
              "16 0         0             81          \n",
              "17 0         0             82          \n",
              "18 0         0             81          \n",
              "19 0         0             82          \n",
              "20 0         0              2          \n",
              "21 0         0             81          \n",
              "22 0         0              3          \n",
              "23 0         0              1          \n",
              "24 0         0             33          \n",
              "25 0         0             82          \n",
              "26 0         0             17          \n",
              "27 0         0              4          \n",
              "28 0         0              3          \n",
              "29 0         0             81          \n",
              "30 0         0              0          \n",
              "31 0         0             53          \n",
              "32 0         0             82          \n",
              "33 0         0             60          \n",
              "34 0         0              5          \n",
              "35 0         0             73          \n",
              "36 0         0             79          \n",
              "37 0         0             34          \n",
              "38 0         0             82          \n",
              "39 0         0             80          \n",
              "40 0         0             12          \n",
              "41 0         0             81          \n",
              "42 0         0             81          \n",
              "43 0         0             81          "
            ],
            "text/latex": "A data.table: 43 × 25\n\\begin{tabular}{lllllllllllllllllllll}\n League & Name & Team & Position & GamesPlayed & TotalMinutesPlayed & FieldGoalsMade & FieldGoalsAttempted & ThreesMade & ThreesAttempted & ⋯ & Steals & Turnovers & Blocks & PersonalFouls & Disqualifications & TotalPoints & Technicals & Ejections & FlagrantFouls & GamesStarted\\\\\n <fct> & <chr> & <fct> & <fct> & <int> & <int> & <int> & <int> & <int> & <int> & ⋯ & <int> & <int> & <int> & <int> & <int> & <int> & <int> & <int> & <int> & <int>\\\\\n\\hline\n\t NBA & Al-farouq Aminu  & POR & SF & 82 & 2342 & 299 &  719 & 126 & 349 & ⋯ &  72 & 120 &  53 & 171 & 0 &  839 &  3 & 0 & 0 & 82\\\\\n\t NBA & Trevor Ariza     & HOU & SF & 81 & 2860 & 357 &  858 & 185 & 497 & ⋯ & 161 & 113 &  26 & 177 & 0 & 1025 &  2 & 0 & 0 & 81\\\\\n\t NBA & Will Barton      & DEN & SG & 82 & 2355 & 426 &  984 & 112 & 324 & ⋯ &  71 & 139 &  39 & 147 & 0 & 1180 &  2 & 0 & 0 &  1\\\\\n\t NBA & Aron Baynes      & DET & PF & 81 & 1241 & 194 &  384 &   0 &   2 & ⋯ &  21 &  67 &  52 & 151 & 0 &  514 &  0 & 0 & 0 &  1\\\\\n\t NBA & Bismack Biyombo  & TOR & PF & 82 & 1810 & 156 &  288 &   0 &   1 & ⋯ &  19 &  71 & 133 & 225 & 2 &  454 &  3 & 0 & 0 & 22\\\\\n\t NBA & Corey Brewer     & HOU & SG & 82 & 1670 & 212 &  552 &  61 & 225 & ⋯ &  84 &  78 &  19 & 168 & 1 &  590 &  0 & 0 & 0 & 12\\\\\n\t NBA & Allen Crabbe     & POR & SF & 81 & 2111 & 312 &  678 & 112 & 284 & ⋯ &  63 &  64 &  16 & 192 & 2 &  834 &  0 & 0 & 0 &  8\\\\\n\t NBA & Ed Davis         & POR & PF & 81 & 1684 & 206 &  337 &   0 &   0 & ⋯ &  57 &  64 &  72 & 202 & 2 &  526 &  2 & 0 & 0 &  0\\\\\n\t NBA & Gorgui Dieng     & MIN & C  & 82 & 2222 & 308 &  578 &   6 &  20 & ⋯ &  94 & 140 &  96 & 219 & 0 &  827 &  1 & 0 & 0 & 39\\\\\n\t NBA & Andre Drummond   & DET & C  & 81 & 2664 & 552 & 1061 &   2 &   6 & ⋯ & 119 & 154 & 112 & 245 & 2 & 1314 &  7 & 0 & 0 & 81\\\\\n\t NBA & Jared Dudley     & WAS & SG & 81 & 2098 & 233 &  487 & 100 & 239 & ⋯ &  75 &  80 &  18 & 190 & 1 &  638 &  1 & 0 & 0 & 41\\\\\n\t NBA & Monta Ellis      & IND & PG & 81 & 2733 & 436 & 1021 &  87 & 281 & ⋯ & 149 & 203 &  38 & 174 & 0 & 1121 &  1 & 0 & 0 & 81\\\\\n\t NBA & Randy Foye       & OKC & SG & 81 & 1640 & 168 &  481 &  75 & 250 & ⋯ &  39 &  86 &  29 & 131 & 0 &  472 &  0 & 0 & 0 &  8\\\\\n\t NBA & Langsto Galloway & NYK & PG & 82 & 2032 & 231 &  588 &  77 & 224 & ⋯ &  77 &  61 &  22 & 177 & 2 &  625 &  0 & 0 & 0 &  7\\\\\n\t NBA & Paul George      & IND & SF & 81 & 2828 & 605 & 1448 & 210 & 565 & ⋯ & 152 & 265 &  29 & 230 & 1 & 1874 &  6 & 0 & 0 & 81\\\\\n\t NBA & Draymond Green   & GSW & SF & 81 & 2807 & 401 &  819 & 100 & 258 & ⋯ & 118 & 259 & 111 & 240 & 2 & 1131 & 11 & 0 & 0 & 81\\\\\n\t NBA & James Harden     & HOU & SG & 82 & 3121 & 710 & 1617 & 236 & 656 & ⋯ & 138 & 374 &  51 & 229 & 1 & 2376 &  2 & 0 & 0 & 82\\\\\n\t NBA & Roy Hibbert      & LAL & C  & 81 & 1881 & 182 &  411 &   0 &   2 & ⋯ &  32 &  76 & 110 & 252 & 3 &  481 &  2 & 0 & 0 & 81\\\\\n\t NBA & Al Horford       & ATL & PF & 82 & 2638 & 529 & 1049 &  88 & 257 & ⋯ &  67 & 107 & 122 & 163 & 0 & 1249 &  1 & 0 & 0 & 82\\\\\n\t NBA & Joe Ingles       & UTA & SF & 81 & 1241 & 124 &  291 &  81 & 210 & ⋯ &  55 &  65 &   4 &  98 & 0 &  342 &  1 & 0 & 0 &  2\\\\\n\t NBA & Joe Johnson      & MIA & SF & 81 & 2703 & 377 &  859 & 120 & 313 & ⋯ &  61 & 160 &   4 & 146 & 0 &  992 &  1 & 0 & 0 & 81\\\\\n\t NBA & Frank Kaminsky   & CHA & PF & 81 & 1713 & 215 &  525 &  68 & 202 & ⋯ &  37 &  58 &  43 & 126 & 0 &  606 &  0 & 0 & 0 &  3\\\\\n\t NBA & Enes Kanter      & OKL & C  & 82 & 1721 & 415 &  720 &  10 &  21 & ⋯ &  26 & 115 &  33 & 166 & 1 & 1040 &  2 & 0 & 0 &  1\\\\\n\t NBA & Zach Lavine      & MIN & PG & 82 & 2295 & 433 &  960 & 123 & 316 & ⋯ &  69 & 155 &  17 & 193 & 1 & 1150 &  0 & 0 & 0 & 33\\\\\n\t NBA & Robin Lopez      & NYK & C  & 82 & 2213 & 357 &  662 &   0 &   1 & ⋯ &  16 & 133 & 129 & 182 & 2 &  842 &  3 & 0 & 0 & 82\\\\\n\t NBA & T.j. Mcconnell   & PHI & PG & 81 & 1609 & 218 &  464 &  31 &  89 & ⋯ &  95 & 140 &  10 & 114 & 0 &  493 &  0 & 0 & 0 & 17\\\\\n\t NBA & Doug Mcdermott   & CHI & SF & 81 & 1860 & 291 &  644 & 110 & 259 & ⋯ &  14 &  52 &   6 & 127 & 0 &  764 &  0 & 0 & 0 &  4\\\\\n\t NBA & Patty Mills      & SAN & PG & 81 & 1659 & 260 &  612 & 123 & 320 & ⋯ &  59 &  76 &   6 & 102 & 0 &  690 &  0 & 0 & 0 &  3\\\\\n\t NBA & Paul Millsap     & ATL & PF & 81 & 2640 & 501 & 1067 &  74 & 232 & ⋯ & 148 & 191 & 140 & 237 & 2 & 1385 &  4 & 0 & 0 & 81\\\\\n\t NBA & Shabazz Muhammad & MIN & SF & 82 & 1678 & 317 &  681 &  44 & 152 & ⋯ &  24 &  70 &   7 &  94 & 0 &  863 &  0 & 0 & 0 &  0\\\\\n\t NBA & Raul Neto        & UTA & PG & 81 & 1501 & 180 &  418 &  64 & 162 & ⋯ &  62 & 109 &   2 & 122 & 1 &  476 &  0 & 0 & 0 & 53\\\\\n\t NBA & Mason Plumlee    & POR & PF & 82 & 2087 & 267 &  517 &   0 &   4 & ⋯ &  68 & 154 &  82 & 253 & 4 &  749 &  1 & 0 & 0 & 82\\\\\n\t NBA & Julius Randle    & LAL & PF & 81 & 2287 & 358 &  835 &  10 &  36 & ⋯ &  53 & 149 &  29 & 242 & 2 &  919 &  0 & 0 & 0 & 60\\\\\n\t NBA & Ramon Sessions   & WAS & PG & 82 & 1667 & 280 &  592 &  36 & 111 & ⋯ &  47 & 115 &   5 & 102 & 0 &  810 &  0 & 0 & 0 &  5\\\\\n\t NBA & Jared Sullinger  & BOS & PF & 81 & 1917 & 351 &  807 &  29 & 104 & ⋯ &  75 & 102 &  47 & 209 & 2 &  834 &  2 & 0 & 0 & 73\\\\\n\t NBA & Isaiah Thomas    & BOS & PG & 82 & 2647 & 591 & 1382 & 167 & 465 & ⋯ &  91 & 220 &   9 & 167 & 1 & 1823 &  9 & 0 & 0 & 79\\\\\n\t NBA & Tristan Thompson & CLE & C  & 82 & 2269 & 247 &  420 &   0 &   0 & ⋯ &  38 &  61 &  51 & 202 & 0 &  643 &  1 & 0 & 0 & 34\\\\\n\t NBA & Karl-antho Towns & MIN & C  & 82 & 2621 & 625 & 1152 &  30 &  88 & ⋯ &  58 & 183 & 138 & 245 & 1 & 1503 &  2 & 0 & 0 & 82\\\\\n\t NBA & P.j. Tucker      & PHO & SF & 82 & 2540 & 239 &  582 &  68 & 206 & ⋯ & 106 & 111 &  20 & 202 & 3 &  652 &  4 & 0 & 0 & 80\\\\\n\t NBA & Evan Turner      & BOS & SG & 81 & 2270 & 343 &  753 &  20 &  83 & ⋯ &  80 & 169 &  28 & 139 & 0 &  854 &  2 & 0 & 0 & 12\\\\\n\t NBA & Kemba Walker     & CHA & PG & 81 & 2885 & 568 & 1332 & 182 & 490 & ⋯ & 127 & 171 &  39 & 111 & 0 & 1689 &  5 & 0 & 0 & 81\\\\\n\t NBA & Andrew Wiggins   & MIN & SF & 81 & 2844 & 594 & 1294 &  57 & 190 & ⋯ &  78 & 182 &  46 & 165 & 1 & 1675 &  1 & 0 & 0 & 81\\\\\n\t NBA & Marvin Williams  & CHA & PF & 81 & 2339 & 338 &  747 & 152 & 379 & ⋯ &  58 &  62 &  77 & 133 & 1 &  948 &  0 & 0 & 0 & 81\\\\\n\\end{tabular}\n",
            "text/markdown": "\nA data.table: 43 × 25\n\n| League &lt;fct&gt; | Name &lt;chr&gt; | Team &lt;fct&gt; | Position &lt;fct&gt; | GamesPlayed &lt;int&gt; | TotalMinutesPlayed &lt;int&gt; | FieldGoalsMade &lt;int&gt; | FieldGoalsAttempted &lt;int&gt; | ThreesMade &lt;int&gt; | ThreesAttempted &lt;int&gt; | ⋯ ⋯ | Steals &lt;int&gt; | Turnovers &lt;int&gt; | Blocks &lt;int&gt; | PersonalFouls &lt;int&gt; | Disqualifications &lt;int&gt; | TotalPoints &lt;int&gt; | Technicals &lt;int&gt; | Ejections &lt;int&gt; | FlagrantFouls &lt;int&gt; | GamesStarted &lt;int&gt; |\n|---|---|---|---|---|---|---|---|---|---|---|---|---|---|---|---|---|---|---|---|---|\n| NBA | Al-farouq Aminu  | POR | SF | 82 | 2342 | 299 |  719 | 126 | 349 | ⋯ |  72 | 120 |  53 | 171 | 0 |  839 |  3 | 0 | 0 | 82 |\n| NBA | Trevor Ariza     | HOU | SF | 81 | 2860 | 357 |  858 | 185 | 497 | ⋯ | 161 | 113 |  26 | 177 | 0 | 1025 |  2 | 0 | 0 | 81 |\n| NBA | Will Barton      | DEN | SG | 82 | 2355 | 426 |  984 | 112 | 324 | ⋯ |  71 | 139 |  39 | 147 | 0 | 1180 |  2 | 0 | 0 |  1 |\n| NBA | Aron Baynes      | DET | PF | 81 | 1241 | 194 |  384 |   0 |   2 | ⋯ |  21 |  67 |  52 | 151 | 0 |  514 |  0 | 0 | 0 |  1 |\n| NBA | Bismack Biyombo  | TOR | PF | 82 | 1810 | 156 |  288 |   0 |   1 | ⋯ |  19 |  71 | 133 | 225 | 2 |  454 |  3 | 0 | 0 | 22 |\n| NBA | Corey Brewer     | HOU | SG | 82 | 1670 | 212 |  552 |  61 | 225 | ⋯ |  84 |  78 |  19 | 168 | 1 |  590 |  0 | 0 | 0 | 12 |\n| NBA | Allen Crabbe     | POR | SF | 81 | 2111 | 312 |  678 | 112 | 284 | ⋯ |  63 |  64 |  16 | 192 | 2 |  834 |  0 | 0 | 0 |  8 |\n| NBA | Ed Davis         | POR | PF | 81 | 1684 | 206 |  337 |   0 |   0 | ⋯ |  57 |  64 |  72 | 202 | 2 |  526 |  2 | 0 | 0 |  0 |\n| NBA | Gorgui Dieng     | MIN | C  | 82 | 2222 | 308 |  578 |   6 |  20 | ⋯ |  94 | 140 |  96 | 219 | 0 |  827 |  1 | 0 | 0 | 39 |\n| NBA | Andre Drummond   | DET | C  | 81 | 2664 | 552 | 1061 |   2 |   6 | ⋯ | 119 | 154 | 112 | 245 | 2 | 1314 |  7 | 0 | 0 | 81 |\n| NBA | Jared Dudley     | WAS | SG | 81 | 2098 | 233 |  487 | 100 | 239 | ⋯ |  75 |  80 |  18 | 190 | 1 |  638 |  1 | 0 | 0 | 41 |\n| NBA | Monta Ellis      | IND | PG | 81 | 2733 | 436 | 1021 |  87 | 281 | ⋯ | 149 | 203 |  38 | 174 | 0 | 1121 |  1 | 0 | 0 | 81 |\n| NBA | Randy Foye       | OKC | SG | 81 | 1640 | 168 |  481 |  75 | 250 | ⋯ |  39 |  86 |  29 | 131 | 0 |  472 |  0 | 0 | 0 |  8 |\n| NBA | Langsto Galloway | NYK | PG | 82 | 2032 | 231 |  588 |  77 | 224 | ⋯ |  77 |  61 |  22 | 177 | 2 |  625 |  0 | 0 | 0 |  7 |\n| NBA | Paul George      | IND | SF | 81 | 2828 | 605 | 1448 | 210 | 565 | ⋯ | 152 | 265 |  29 | 230 | 1 | 1874 |  6 | 0 | 0 | 81 |\n| NBA | Draymond Green   | GSW | SF | 81 | 2807 | 401 |  819 | 100 | 258 | ⋯ | 118 | 259 | 111 | 240 | 2 | 1131 | 11 | 0 | 0 | 81 |\n| NBA | James Harden     | HOU | SG | 82 | 3121 | 710 | 1617 | 236 | 656 | ⋯ | 138 | 374 |  51 | 229 | 1 | 2376 |  2 | 0 | 0 | 82 |\n| NBA | Roy Hibbert      | LAL | C  | 81 | 1881 | 182 |  411 |   0 |   2 | ⋯ |  32 |  76 | 110 | 252 | 3 |  481 |  2 | 0 | 0 | 81 |\n| NBA | Al Horford       | ATL | PF | 82 | 2638 | 529 | 1049 |  88 | 257 | ⋯ |  67 | 107 | 122 | 163 | 0 | 1249 |  1 | 0 | 0 | 82 |\n| NBA | Joe Ingles       | UTA | SF | 81 | 1241 | 124 |  291 |  81 | 210 | ⋯ |  55 |  65 |   4 |  98 | 0 |  342 |  1 | 0 | 0 |  2 |\n| NBA | Joe Johnson      | MIA | SF | 81 | 2703 | 377 |  859 | 120 | 313 | ⋯ |  61 | 160 |   4 | 146 | 0 |  992 |  1 | 0 | 0 | 81 |\n| NBA | Frank Kaminsky   | CHA | PF | 81 | 1713 | 215 |  525 |  68 | 202 | ⋯ |  37 |  58 |  43 | 126 | 0 |  606 |  0 | 0 | 0 |  3 |\n| NBA | Enes Kanter      | OKL | C  | 82 | 1721 | 415 |  720 |  10 |  21 | ⋯ |  26 | 115 |  33 | 166 | 1 | 1040 |  2 | 0 | 0 |  1 |\n| NBA | Zach Lavine      | MIN | PG | 82 | 2295 | 433 |  960 | 123 | 316 | ⋯ |  69 | 155 |  17 | 193 | 1 | 1150 |  0 | 0 | 0 | 33 |\n| NBA | Robin Lopez      | NYK | C  | 82 | 2213 | 357 |  662 |   0 |   1 | ⋯ |  16 | 133 | 129 | 182 | 2 |  842 |  3 | 0 | 0 | 82 |\n| NBA | T.j. Mcconnell   | PHI | PG | 81 | 1609 | 218 |  464 |  31 |  89 | ⋯ |  95 | 140 |  10 | 114 | 0 |  493 |  0 | 0 | 0 | 17 |\n| NBA | Doug Mcdermott   | CHI | SF | 81 | 1860 | 291 |  644 | 110 | 259 | ⋯ |  14 |  52 |   6 | 127 | 0 |  764 |  0 | 0 | 0 |  4 |\n| NBA | Patty Mills      | SAN | PG | 81 | 1659 | 260 |  612 | 123 | 320 | ⋯ |  59 |  76 |   6 | 102 | 0 |  690 |  0 | 0 | 0 |  3 |\n| NBA | Paul Millsap     | ATL | PF | 81 | 2640 | 501 | 1067 |  74 | 232 | ⋯ | 148 | 191 | 140 | 237 | 2 | 1385 |  4 | 0 | 0 | 81 |\n| NBA | Shabazz Muhammad | MIN | SF | 82 | 1678 | 317 |  681 |  44 | 152 | ⋯ |  24 |  70 |   7 |  94 | 0 |  863 |  0 | 0 | 0 |  0 |\n| NBA | Raul Neto        | UTA | PG | 81 | 1501 | 180 |  418 |  64 | 162 | ⋯ |  62 | 109 |   2 | 122 | 1 |  476 |  0 | 0 | 0 | 53 |\n| NBA | Mason Plumlee    | POR | PF | 82 | 2087 | 267 |  517 |   0 |   4 | ⋯ |  68 | 154 |  82 | 253 | 4 |  749 |  1 | 0 | 0 | 82 |\n| NBA | Julius Randle    | LAL | PF | 81 | 2287 | 358 |  835 |  10 |  36 | ⋯ |  53 | 149 |  29 | 242 | 2 |  919 |  0 | 0 | 0 | 60 |\n| NBA | Ramon Sessions   | WAS | PG | 82 | 1667 | 280 |  592 |  36 | 111 | ⋯ |  47 | 115 |   5 | 102 | 0 |  810 |  0 | 0 | 0 |  5 |\n| NBA | Jared Sullinger  | BOS | PF | 81 | 1917 | 351 |  807 |  29 | 104 | ⋯ |  75 | 102 |  47 | 209 | 2 |  834 |  2 | 0 | 0 | 73 |\n| NBA | Isaiah Thomas    | BOS | PG | 82 | 2647 | 591 | 1382 | 167 | 465 | ⋯ |  91 | 220 |   9 | 167 | 1 | 1823 |  9 | 0 | 0 | 79 |\n| NBA | Tristan Thompson | CLE | C  | 82 | 2269 | 247 |  420 |   0 |   0 | ⋯ |  38 |  61 |  51 | 202 | 0 |  643 |  1 | 0 | 0 | 34 |\n| NBA | Karl-antho Towns | MIN | C  | 82 | 2621 | 625 | 1152 |  30 |  88 | ⋯ |  58 | 183 | 138 | 245 | 1 | 1503 |  2 | 0 | 0 | 82 |\n| NBA | P.j. Tucker      | PHO | SF | 82 | 2540 | 239 |  582 |  68 | 206 | ⋯ | 106 | 111 |  20 | 202 | 3 |  652 |  4 | 0 | 0 | 80 |\n| NBA | Evan Turner      | BOS | SG | 81 | 2270 | 343 |  753 |  20 |  83 | ⋯ |  80 | 169 |  28 | 139 | 0 |  854 |  2 | 0 | 0 | 12 |\n| NBA | Kemba Walker     | CHA | PG | 81 | 2885 | 568 | 1332 | 182 | 490 | ⋯ | 127 | 171 |  39 | 111 | 0 | 1689 |  5 | 0 | 0 | 81 |\n| NBA | Andrew Wiggins   | MIN | SF | 81 | 2844 | 594 | 1294 |  57 | 190 | ⋯ |  78 | 182 |  46 | 165 | 1 | 1675 |  1 | 0 | 0 | 81 |\n| NBA | Marvin Williams  | CHA | PF | 81 | 2339 | 338 |  747 | 152 | 379 | ⋯ |  58 |  62 |  77 | 133 | 1 |  948 |  0 | 0 | 0 | 81 |\n\n",
            "text/html": [
              "<table>\n",
              "<caption>A data.table: 43 × 25</caption>\n",
              "<thead>\n",
              "\t<tr><th scope=col>League</th><th scope=col>Name</th><th scope=col>Team</th><th scope=col>Position</th><th scope=col>GamesPlayed</th><th scope=col>TotalMinutesPlayed</th><th scope=col>FieldGoalsMade</th><th scope=col>FieldGoalsAttempted</th><th scope=col>ThreesMade</th><th scope=col>ThreesAttempted</th><th scope=col>⋯</th><th scope=col>Steals</th><th scope=col>Turnovers</th><th scope=col>Blocks</th><th scope=col>PersonalFouls</th><th scope=col>Disqualifications</th><th scope=col>TotalPoints</th><th scope=col>Technicals</th><th scope=col>Ejections</th><th scope=col>FlagrantFouls</th><th scope=col>GamesStarted</th></tr>\n",
              "\t<tr><th scope=col>&lt;fct&gt;</th><th scope=col>&lt;chr&gt;</th><th scope=col>&lt;fct&gt;</th><th scope=col>&lt;fct&gt;</th><th scope=col>&lt;int&gt;</th><th scope=col>&lt;int&gt;</th><th scope=col>&lt;int&gt;</th><th scope=col>&lt;int&gt;</th><th scope=col>&lt;int&gt;</th><th scope=col>&lt;int&gt;</th><th scope=col>⋯</th><th scope=col>&lt;int&gt;</th><th scope=col>&lt;int&gt;</th><th scope=col>&lt;int&gt;</th><th scope=col>&lt;int&gt;</th><th scope=col>&lt;int&gt;</th><th scope=col>&lt;int&gt;</th><th scope=col>&lt;int&gt;</th><th scope=col>&lt;int&gt;</th><th scope=col>&lt;int&gt;</th><th scope=col>&lt;int&gt;</th></tr>\n",
              "</thead>\n",
              "<tbody>\n",
              "\t<tr><td>NBA</td><td>Al-farouq Aminu </td><td>POR</td><td>SF</td><td>82</td><td>2342</td><td>299</td><td> 719</td><td>126</td><td>349</td><td>⋯</td><td> 72</td><td>120</td><td> 53</td><td>171</td><td>0</td><td> 839</td><td> 3</td><td>0</td><td>0</td><td>82</td></tr>\n",
              "\t<tr><td>NBA</td><td>Trevor Ariza    </td><td>HOU</td><td>SF</td><td>81</td><td>2860</td><td>357</td><td> 858</td><td>185</td><td>497</td><td>⋯</td><td>161</td><td>113</td><td> 26</td><td>177</td><td>0</td><td>1025</td><td> 2</td><td>0</td><td>0</td><td>81</td></tr>\n",
              "\t<tr><td>NBA</td><td>Will Barton     </td><td>DEN</td><td>SG</td><td>82</td><td>2355</td><td>426</td><td> 984</td><td>112</td><td>324</td><td>⋯</td><td> 71</td><td>139</td><td> 39</td><td>147</td><td>0</td><td>1180</td><td> 2</td><td>0</td><td>0</td><td> 1</td></tr>\n",
              "\t<tr><td>NBA</td><td>Aron Baynes     </td><td>DET</td><td>PF</td><td>81</td><td>1241</td><td>194</td><td> 384</td><td>  0</td><td>  2</td><td>⋯</td><td> 21</td><td> 67</td><td> 52</td><td>151</td><td>0</td><td> 514</td><td> 0</td><td>0</td><td>0</td><td> 1</td></tr>\n",
              "\t<tr><td>NBA</td><td>Bismack Biyombo </td><td>TOR</td><td>PF</td><td>82</td><td>1810</td><td>156</td><td> 288</td><td>  0</td><td>  1</td><td>⋯</td><td> 19</td><td> 71</td><td>133</td><td>225</td><td>2</td><td> 454</td><td> 3</td><td>0</td><td>0</td><td>22</td></tr>\n",
              "\t<tr><td>NBA</td><td>Corey Brewer    </td><td>HOU</td><td>SG</td><td>82</td><td>1670</td><td>212</td><td> 552</td><td> 61</td><td>225</td><td>⋯</td><td> 84</td><td> 78</td><td> 19</td><td>168</td><td>1</td><td> 590</td><td> 0</td><td>0</td><td>0</td><td>12</td></tr>\n",
              "\t<tr><td>NBA</td><td>Allen Crabbe    </td><td>POR</td><td>SF</td><td>81</td><td>2111</td><td>312</td><td> 678</td><td>112</td><td>284</td><td>⋯</td><td> 63</td><td> 64</td><td> 16</td><td>192</td><td>2</td><td> 834</td><td> 0</td><td>0</td><td>0</td><td> 8</td></tr>\n",
              "\t<tr><td>NBA</td><td>Ed Davis        </td><td>POR</td><td>PF</td><td>81</td><td>1684</td><td>206</td><td> 337</td><td>  0</td><td>  0</td><td>⋯</td><td> 57</td><td> 64</td><td> 72</td><td>202</td><td>2</td><td> 526</td><td> 2</td><td>0</td><td>0</td><td> 0</td></tr>\n",
              "\t<tr><td>NBA</td><td>Gorgui Dieng    </td><td>MIN</td><td>C </td><td>82</td><td>2222</td><td>308</td><td> 578</td><td>  6</td><td> 20</td><td>⋯</td><td> 94</td><td>140</td><td> 96</td><td>219</td><td>0</td><td> 827</td><td> 1</td><td>0</td><td>0</td><td>39</td></tr>\n",
              "\t<tr><td>NBA</td><td>Andre Drummond  </td><td>DET</td><td>C </td><td>81</td><td>2664</td><td>552</td><td>1061</td><td>  2</td><td>  6</td><td>⋯</td><td>119</td><td>154</td><td>112</td><td>245</td><td>2</td><td>1314</td><td> 7</td><td>0</td><td>0</td><td>81</td></tr>\n",
              "\t<tr><td>NBA</td><td>Jared Dudley    </td><td>WAS</td><td>SG</td><td>81</td><td>2098</td><td>233</td><td> 487</td><td>100</td><td>239</td><td>⋯</td><td> 75</td><td> 80</td><td> 18</td><td>190</td><td>1</td><td> 638</td><td> 1</td><td>0</td><td>0</td><td>41</td></tr>\n",
              "\t<tr><td>NBA</td><td>Monta Ellis     </td><td>IND</td><td>PG</td><td>81</td><td>2733</td><td>436</td><td>1021</td><td> 87</td><td>281</td><td>⋯</td><td>149</td><td>203</td><td> 38</td><td>174</td><td>0</td><td>1121</td><td> 1</td><td>0</td><td>0</td><td>81</td></tr>\n",
              "\t<tr><td>NBA</td><td>Randy Foye      </td><td>OKC</td><td>SG</td><td>81</td><td>1640</td><td>168</td><td> 481</td><td> 75</td><td>250</td><td>⋯</td><td> 39</td><td> 86</td><td> 29</td><td>131</td><td>0</td><td> 472</td><td> 0</td><td>0</td><td>0</td><td> 8</td></tr>\n",
              "\t<tr><td>NBA</td><td>Langsto Galloway</td><td>NYK</td><td>PG</td><td>82</td><td>2032</td><td>231</td><td> 588</td><td> 77</td><td>224</td><td>⋯</td><td> 77</td><td> 61</td><td> 22</td><td>177</td><td>2</td><td> 625</td><td> 0</td><td>0</td><td>0</td><td> 7</td></tr>\n",
              "\t<tr><td>NBA</td><td>Paul George     </td><td>IND</td><td>SF</td><td>81</td><td>2828</td><td>605</td><td>1448</td><td>210</td><td>565</td><td>⋯</td><td>152</td><td>265</td><td> 29</td><td>230</td><td>1</td><td>1874</td><td> 6</td><td>0</td><td>0</td><td>81</td></tr>\n",
              "\t<tr><td>NBA</td><td>Draymond Green  </td><td>GSW</td><td>SF</td><td>81</td><td>2807</td><td>401</td><td> 819</td><td>100</td><td>258</td><td>⋯</td><td>118</td><td>259</td><td>111</td><td>240</td><td>2</td><td>1131</td><td>11</td><td>0</td><td>0</td><td>81</td></tr>\n",
              "\t<tr><td>NBA</td><td>James Harden    </td><td>HOU</td><td>SG</td><td>82</td><td>3121</td><td>710</td><td>1617</td><td>236</td><td>656</td><td>⋯</td><td>138</td><td>374</td><td> 51</td><td>229</td><td>1</td><td>2376</td><td> 2</td><td>0</td><td>0</td><td>82</td></tr>\n",
              "\t<tr><td>NBA</td><td>Roy Hibbert     </td><td>LAL</td><td>C </td><td>81</td><td>1881</td><td>182</td><td> 411</td><td>  0</td><td>  2</td><td>⋯</td><td> 32</td><td> 76</td><td>110</td><td>252</td><td>3</td><td> 481</td><td> 2</td><td>0</td><td>0</td><td>81</td></tr>\n",
              "\t<tr><td>NBA</td><td>Al Horford      </td><td>ATL</td><td>PF</td><td>82</td><td>2638</td><td>529</td><td>1049</td><td> 88</td><td>257</td><td>⋯</td><td> 67</td><td>107</td><td>122</td><td>163</td><td>0</td><td>1249</td><td> 1</td><td>0</td><td>0</td><td>82</td></tr>\n",
              "\t<tr><td>NBA</td><td>Joe Ingles      </td><td>UTA</td><td>SF</td><td>81</td><td>1241</td><td>124</td><td> 291</td><td> 81</td><td>210</td><td>⋯</td><td> 55</td><td> 65</td><td>  4</td><td> 98</td><td>0</td><td> 342</td><td> 1</td><td>0</td><td>0</td><td> 2</td></tr>\n",
              "\t<tr><td>NBA</td><td>Joe Johnson     </td><td>MIA</td><td>SF</td><td>81</td><td>2703</td><td>377</td><td> 859</td><td>120</td><td>313</td><td>⋯</td><td> 61</td><td>160</td><td>  4</td><td>146</td><td>0</td><td> 992</td><td> 1</td><td>0</td><td>0</td><td>81</td></tr>\n",
              "\t<tr><td>NBA</td><td>Frank Kaminsky  </td><td>CHA</td><td>PF</td><td>81</td><td>1713</td><td>215</td><td> 525</td><td> 68</td><td>202</td><td>⋯</td><td> 37</td><td> 58</td><td> 43</td><td>126</td><td>0</td><td> 606</td><td> 0</td><td>0</td><td>0</td><td> 3</td></tr>\n",
              "\t<tr><td>NBA</td><td>Enes Kanter     </td><td>OKL</td><td>C </td><td>82</td><td>1721</td><td>415</td><td> 720</td><td> 10</td><td> 21</td><td>⋯</td><td> 26</td><td>115</td><td> 33</td><td>166</td><td>1</td><td>1040</td><td> 2</td><td>0</td><td>0</td><td> 1</td></tr>\n",
              "\t<tr><td>NBA</td><td>Zach Lavine     </td><td>MIN</td><td>PG</td><td>82</td><td>2295</td><td>433</td><td> 960</td><td>123</td><td>316</td><td>⋯</td><td> 69</td><td>155</td><td> 17</td><td>193</td><td>1</td><td>1150</td><td> 0</td><td>0</td><td>0</td><td>33</td></tr>\n",
              "\t<tr><td>NBA</td><td>Robin Lopez     </td><td>NYK</td><td>C </td><td>82</td><td>2213</td><td>357</td><td> 662</td><td>  0</td><td>  1</td><td>⋯</td><td> 16</td><td>133</td><td>129</td><td>182</td><td>2</td><td> 842</td><td> 3</td><td>0</td><td>0</td><td>82</td></tr>\n",
              "\t<tr><td>NBA</td><td>T.j. Mcconnell  </td><td>PHI</td><td>PG</td><td>81</td><td>1609</td><td>218</td><td> 464</td><td> 31</td><td> 89</td><td>⋯</td><td> 95</td><td>140</td><td> 10</td><td>114</td><td>0</td><td> 493</td><td> 0</td><td>0</td><td>0</td><td>17</td></tr>\n",
              "\t<tr><td>NBA</td><td>Doug Mcdermott  </td><td>CHI</td><td>SF</td><td>81</td><td>1860</td><td>291</td><td> 644</td><td>110</td><td>259</td><td>⋯</td><td> 14</td><td> 52</td><td>  6</td><td>127</td><td>0</td><td> 764</td><td> 0</td><td>0</td><td>0</td><td> 4</td></tr>\n",
              "\t<tr><td>NBA</td><td>Patty Mills     </td><td>SAN</td><td>PG</td><td>81</td><td>1659</td><td>260</td><td> 612</td><td>123</td><td>320</td><td>⋯</td><td> 59</td><td> 76</td><td>  6</td><td>102</td><td>0</td><td> 690</td><td> 0</td><td>0</td><td>0</td><td> 3</td></tr>\n",
              "\t<tr><td>NBA</td><td>Paul Millsap    </td><td>ATL</td><td>PF</td><td>81</td><td>2640</td><td>501</td><td>1067</td><td> 74</td><td>232</td><td>⋯</td><td>148</td><td>191</td><td>140</td><td>237</td><td>2</td><td>1385</td><td> 4</td><td>0</td><td>0</td><td>81</td></tr>\n",
              "\t<tr><td>NBA</td><td>Shabazz Muhammad</td><td>MIN</td><td>SF</td><td>82</td><td>1678</td><td>317</td><td> 681</td><td> 44</td><td>152</td><td>⋯</td><td> 24</td><td> 70</td><td>  7</td><td> 94</td><td>0</td><td> 863</td><td> 0</td><td>0</td><td>0</td><td> 0</td></tr>\n",
              "\t<tr><td>NBA</td><td>Raul Neto       </td><td>UTA</td><td>PG</td><td>81</td><td>1501</td><td>180</td><td> 418</td><td> 64</td><td>162</td><td>⋯</td><td> 62</td><td>109</td><td>  2</td><td>122</td><td>1</td><td> 476</td><td> 0</td><td>0</td><td>0</td><td>53</td></tr>\n",
              "\t<tr><td>NBA</td><td>Mason Plumlee   </td><td>POR</td><td>PF</td><td>82</td><td>2087</td><td>267</td><td> 517</td><td>  0</td><td>  4</td><td>⋯</td><td> 68</td><td>154</td><td> 82</td><td>253</td><td>4</td><td> 749</td><td> 1</td><td>0</td><td>0</td><td>82</td></tr>\n",
              "\t<tr><td>NBA</td><td>Julius Randle   </td><td>LAL</td><td>PF</td><td>81</td><td>2287</td><td>358</td><td> 835</td><td> 10</td><td> 36</td><td>⋯</td><td> 53</td><td>149</td><td> 29</td><td>242</td><td>2</td><td> 919</td><td> 0</td><td>0</td><td>0</td><td>60</td></tr>\n",
              "\t<tr><td>NBA</td><td>Ramon Sessions  </td><td>WAS</td><td>PG</td><td>82</td><td>1667</td><td>280</td><td> 592</td><td> 36</td><td>111</td><td>⋯</td><td> 47</td><td>115</td><td>  5</td><td>102</td><td>0</td><td> 810</td><td> 0</td><td>0</td><td>0</td><td> 5</td></tr>\n",
              "\t<tr><td>NBA</td><td>Jared Sullinger </td><td>BOS</td><td>PF</td><td>81</td><td>1917</td><td>351</td><td> 807</td><td> 29</td><td>104</td><td>⋯</td><td> 75</td><td>102</td><td> 47</td><td>209</td><td>2</td><td> 834</td><td> 2</td><td>0</td><td>0</td><td>73</td></tr>\n",
              "\t<tr><td>NBA</td><td>Isaiah Thomas   </td><td>BOS</td><td>PG</td><td>82</td><td>2647</td><td>591</td><td>1382</td><td>167</td><td>465</td><td>⋯</td><td> 91</td><td>220</td><td>  9</td><td>167</td><td>1</td><td>1823</td><td> 9</td><td>0</td><td>0</td><td>79</td></tr>\n",
              "\t<tr><td>NBA</td><td>Tristan Thompson</td><td>CLE</td><td>C </td><td>82</td><td>2269</td><td>247</td><td> 420</td><td>  0</td><td>  0</td><td>⋯</td><td> 38</td><td> 61</td><td> 51</td><td>202</td><td>0</td><td> 643</td><td> 1</td><td>0</td><td>0</td><td>34</td></tr>\n",
              "\t<tr><td>NBA</td><td>Karl-antho Towns</td><td>MIN</td><td>C </td><td>82</td><td>2621</td><td>625</td><td>1152</td><td> 30</td><td> 88</td><td>⋯</td><td> 58</td><td>183</td><td>138</td><td>245</td><td>1</td><td>1503</td><td> 2</td><td>0</td><td>0</td><td>82</td></tr>\n",
              "\t<tr><td>NBA</td><td>P.j. Tucker     </td><td>PHO</td><td>SF</td><td>82</td><td>2540</td><td>239</td><td> 582</td><td> 68</td><td>206</td><td>⋯</td><td>106</td><td>111</td><td> 20</td><td>202</td><td>3</td><td> 652</td><td> 4</td><td>0</td><td>0</td><td>80</td></tr>\n",
              "\t<tr><td>NBA</td><td>Evan Turner     </td><td>BOS</td><td>SG</td><td>81</td><td>2270</td><td>343</td><td> 753</td><td> 20</td><td> 83</td><td>⋯</td><td> 80</td><td>169</td><td> 28</td><td>139</td><td>0</td><td> 854</td><td> 2</td><td>0</td><td>0</td><td>12</td></tr>\n",
              "\t<tr><td>NBA</td><td>Kemba Walker    </td><td>CHA</td><td>PG</td><td>81</td><td>2885</td><td>568</td><td>1332</td><td>182</td><td>490</td><td>⋯</td><td>127</td><td>171</td><td> 39</td><td>111</td><td>0</td><td>1689</td><td> 5</td><td>0</td><td>0</td><td>81</td></tr>\n",
              "\t<tr><td>NBA</td><td>Andrew Wiggins  </td><td>MIN</td><td>SF</td><td>81</td><td>2844</td><td>594</td><td>1294</td><td> 57</td><td>190</td><td>⋯</td><td> 78</td><td>182</td><td> 46</td><td>165</td><td>1</td><td>1675</td><td> 1</td><td>0</td><td>0</td><td>81</td></tr>\n",
              "\t<tr><td>NBA</td><td>Marvin Williams </td><td>CHA</td><td>PF</td><td>81</td><td>2339</td><td>338</td><td> 747</td><td>152</td><td>379</td><td>⋯</td><td> 58</td><td> 62</td><td> 77</td><td>133</td><td>1</td><td> 948</td><td> 0</td><td>0</td><td>0</td><td>81</td></tr>\n",
              "</tbody>\n",
              "</table>\n"
            ]
          },
          "metadata": {
            "tags": []
          }
        }
      ]
    },
    {
      "cell_type": "code",
      "metadata": {
        "id": "GnO5_enAqOHC",
        "outputId": "008d00bd-4f49-4795-a661-2939a6b44f2c",
        "colab": {
          "base_uri": "https://localhost:8080/",
          "height": 1000
        }
      },
      "source": [
        "NBA1516DT <- data.table(NBA1516)\n",
        "\n",
        "NBA1516DT[GamesPlayed > 80]\n",
        "NBA1516DT[TotalPoints > 150]\n",
        "NBA1516DT[grepl('C',Name)&Position==\"PG\"]\n",
        "NBA1516DT[grepl('J',Name)&Position==\"SF\"]"
      ],
      "execution_count": 56,
      "outputs": [
        {
          "output_type": "display_data",
          "data": {
            "text/plain": [
              "   League Name             Team Position GamesPlayed TotalMinutesPlayed\n",
              "1  NBA    Al-farouq Aminu  POR  SF       82          2342              \n",
              "2  NBA    Trevor Ariza     HOU  SF       81          2860              \n",
              "3  NBA    Will Barton      DEN  SG       82          2355              \n",
              "4  NBA    Aron Baynes      DET  PF       81          1241              \n",
              "5  NBA    Bismack Biyombo  TOR  PF       82          1810              \n",
              "6  NBA    Corey Brewer     HOU  SG       82          1670              \n",
              "7  NBA    Allen Crabbe     POR  SF       81          2111              \n",
              "8  NBA    Ed Davis         POR  PF       81          1684              \n",
              "9  NBA    Gorgui Dieng     MIN  C        82          2222              \n",
              "10 NBA    Andre Drummond   DET  C        81          2664              \n",
              "11 NBA    Jared Dudley     WAS  SG       81          2098              \n",
              "12 NBA    Monta Ellis      IND  PG       81          2733              \n",
              "13 NBA    Randy Foye       OKC  SG       81          1640              \n",
              "14 NBA    Langsto Galloway NYK  PG       82          2032              \n",
              "15 NBA    Paul George      IND  SF       81          2828              \n",
              "16 NBA    Draymond Green   GSW  SF       81          2807              \n",
              "17 NBA    James Harden     HOU  SG       82          3121              \n",
              "18 NBA    Roy Hibbert      LAL  C        81          1881              \n",
              "19 NBA    Al Horford       ATL  PF       82          2638              \n",
              "20 NBA    Joe Ingles       UTA  SF       81          1241              \n",
              "21 NBA    Joe Johnson      MIA  SF       81          2703              \n",
              "22 NBA    Frank Kaminsky   CHA  PF       81          1713              \n",
              "23 NBA    Enes Kanter      OKL  C        82          1721              \n",
              "24 NBA    Zach Lavine      MIN  PG       82          2295              \n",
              "25 NBA    Robin Lopez      NYK  C        82          2213              \n",
              "26 NBA    T.j. Mcconnell   PHI  PG       81          1609              \n",
              "27 NBA    Doug Mcdermott   CHI  SF       81          1860              \n",
              "28 NBA    Patty Mills      SAN  PG       81          1659              \n",
              "29 NBA    Paul Millsap     ATL  PF       81          2640              \n",
              "30 NBA    Shabazz Muhammad MIN  SF       82          1678              \n",
              "31 NBA    Raul Neto        UTA  PG       81          1501              \n",
              "32 NBA    Mason Plumlee    POR  PF       82          2087              \n",
              "33 NBA    Julius Randle    LAL  PF       81          2287              \n",
              "34 NBA    Ramon Sessions   WAS  PG       82          1667              \n",
              "35 NBA    Jared Sullinger  BOS  PF       81          1917              \n",
              "36 NBA    Isaiah Thomas    BOS  PG       82          2647              \n",
              "37 NBA    Tristan Thompson CLE  C        82          2269              \n",
              "38 NBA    Karl-antho Towns MIN  C        82          2621              \n",
              "39 NBA    P.j. Tucker      PHO  SF       82          2540              \n",
              "40 NBA    Evan Turner      BOS  SG       81          2270              \n",
              "41 NBA    Kemba Walker     CHA  PG       81          2885              \n",
              "42 NBA    Andrew Wiggins   MIN  SF       81          2844              \n",
              "43 NBA    Marvin Williams  CHA  PF       81          2339              \n",
              "   FieldGoalsMade FieldGoalsAttempted ThreesMade ThreesAttempted ⋯ Steals\n",
              "1  299             719                126        349             ⋯  72   \n",
              "2  357             858                185        497             ⋯ 161   \n",
              "3  426             984                112        324             ⋯  71   \n",
              "4  194             384                  0          2             ⋯  21   \n",
              "5  156             288                  0          1             ⋯  19   \n",
              "6  212             552                 61        225             ⋯  84   \n",
              "7  312             678                112        284             ⋯  63   \n",
              "8  206             337                  0          0             ⋯  57   \n",
              "9  308             578                  6         20             ⋯  94   \n",
              "10 552            1061                  2          6             ⋯ 119   \n",
              "11 233             487                100        239             ⋯  75   \n",
              "12 436            1021                 87        281             ⋯ 149   \n",
              "13 168             481                 75        250             ⋯  39   \n",
              "14 231             588                 77        224             ⋯  77   \n",
              "15 605            1448                210        565             ⋯ 152   \n",
              "16 401             819                100        258             ⋯ 118   \n",
              "17 710            1617                236        656             ⋯ 138   \n",
              "18 182             411                  0          2             ⋯  32   \n",
              "19 529            1049                 88        257             ⋯  67   \n",
              "20 124             291                 81        210             ⋯  55   \n",
              "21 377             859                120        313             ⋯  61   \n",
              "22 215             525                 68        202             ⋯  37   \n",
              "23 415             720                 10         21             ⋯  26   \n",
              "24 433             960                123        316             ⋯  69   \n",
              "25 357             662                  0          1             ⋯  16   \n",
              "26 218             464                 31         89             ⋯  95   \n",
              "27 291             644                110        259             ⋯  14   \n",
              "28 260             612                123        320             ⋯  59   \n",
              "29 501            1067                 74        232             ⋯ 148   \n",
              "30 317             681                 44        152             ⋯  24   \n",
              "31 180             418                 64        162             ⋯  62   \n",
              "32 267             517                  0          4             ⋯  68   \n",
              "33 358             835                 10         36             ⋯  53   \n",
              "34 280             592                 36        111             ⋯  47   \n",
              "35 351             807                 29        104             ⋯  75   \n",
              "36 591            1382                167        465             ⋯  91   \n",
              "37 247             420                  0          0             ⋯  38   \n",
              "38 625            1152                 30         88             ⋯  58   \n",
              "39 239             582                 68        206             ⋯ 106   \n",
              "40 343             753                 20         83             ⋯  80   \n",
              "41 568            1332                182        490             ⋯ 127   \n",
              "42 594            1294                 57        190             ⋯  78   \n",
              "43 338             747                152        379             ⋯  58   \n",
              "   Turnovers Blocks PersonalFouls Disqualifications TotalPoints Technicals\n",
              "1  120        53    171           0                  839         3        \n",
              "2  113        26    177           0                 1025         2        \n",
              "3  139        39    147           0                 1180         2        \n",
              "4   67        52    151           0                  514         0        \n",
              "5   71       133    225           2                  454         3        \n",
              "6   78        19    168           1                  590         0        \n",
              "7   64        16    192           2                  834         0        \n",
              "8   64        72    202           2                  526         2        \n",
              "9  140        96    219           0                  827         1        \n",
              "10 154       112    245           2                 1314         7        \n",
              "11  80        18    190           1                  638         1        \n",
              "12 203        38    174           0                 1121         1        \n",
              "13  86        29    131           0                  472         0        \n",
              "14  61        22    177           2                  625         0        \n",
              "15 265        29    230           1                 1874         6        \n",
              "16 259       111    240           2                 1131        11        \n",
              "17 374        51    229           1                 2376         2        \n",
              "18  76       110    252           3                  481         2        \n",
              "19 107       122    163           0                 1249         1        \n",
              "20  65         4     98           0                  342         1        \n",
              "21 160         4    146           0                  992         1        \n",
              "22  58        43    126           0                  606         0        \n",
              "23 115        33    166           1                 1040         2        \n",
              "24 155        17    193           1                 1150         0        \n",
              "25 133       129    182           2                  842         3        \n",
              "26 140        10    114           0                  493         0        \n",
              "27  52         6    127           0                  764         0        \n",
              "28  76         6    102           0                  690         0        \n",
              "29 191       140    237           2                 1385         4        \n",
              "30  70         7     94           0                  863         0        \n",
              "31 109         2    122           1                  476         0        \n",
              "32 154        82    253           4                  749         1        \n",
              "33 149        29    242           2                  919         0        \n",
              "34 115         5    102           0                  810         0        \n",
              "35 102        47    209           2                  834         2        \n",
              "36 220         9    167           1                 1823         9        \n",
              "37  61        51    202           0                  643         1        \n",
              "38 183       138    245           1                 1503         2        \n",
              "39 111        20    202           3                  652         4        \n",
              "40 169        28    139           0                  854         2        \n",
              "41 171        39    111           0                 1689         5        \n",
              "42 182        46    165           1                 1675         1        \n",
              "43  62        77    133           1                  948         0        \n",
              "   Ejections FlagrantFouls GamesStarted\n",
              "1  0         0             82          \n",
              "2  0         0             81          \n",
              "3  0         0              1          \n",
              "4  0         0              1          \n",
              "5  0         0             22          \n",
              "6  0         0             12          \n",
              "7  0         0              8          \n",
              "8  0         0              0          \n",
              "9  0         0             39          \n",
              "10 0         0             81          \n",
              "11 0         0             41          \n",
              "12 0         0             81          \n",
              "13 0         0              8          \n",
              "14 0         0              7          \n",
              "15 0         0             81          \n",
              "16 0         0             81          \n",
              "17 0         0             82          \n",
              "18 0         0             81          \n",
              "19 0         0             82          \n",
              "20 0         0              2          \n",
              "21 0         0             81          \n",
              "22 0         0              3          \n",
              "23 0         0              1          \n",
              "24 0         0             33          \n",
              "25 0         0             82          \n",
              "26 0         0             17          \n",
              "27 0         0              4          \n",
              "28 0         0              3          \n",
              "29 0         0             81          \n",
              "30 0         0              0          \n",
              "31 0         0             53          \n",
              "32 0         0             82          \n",
              "33 0         0             60          \n",
              "34 0         0              5          \n",
              "35 0         0             73          \n",
              "36 0         0             79          \n",
              "37 0         0             34          \n",
              "38 0         0             82          \n",
              "39 0         0             80          \n",
              "40 0         0             12          \n",
              "41 0         0             81          \n",
              "42 0         0             81          \n",
              "43 0         0             81          "
            ],
            "text/latex": "A data.table: 43 × 25\n\\begin{tabular}{lllllllllllllllllllll}\n League & Name & Team & Position & GamesPlayed & TotalMinutesPlayed & FieldGoalsMade & FieldGoalsAttempted & ThreesMade & ThreesAttempted & ⋯ & Steals & Turnovers & Blocks & PersonalFouls & Disqualifications & TotalPoints & Technicals & Ejections & FlagrantFouls & GamesStarted\\\\\n <fct> & <chr> & <fct> & <fct> & <int> & <int> & <int> & <int> & <int> & <int> & ⋯ & <int> & <int> & <int> & <int> & <int> & <int> & <int> & <int> & <int> & <int>\\\\\n\\hline\n\t NBA & Al-farouq Aminu  & POR & SF & 82 & 2342 & 299 &  719 & 126 & 349 & ⋯ &  72 & 120 &  53 & 171 & 0 &  839 &  3 & 0 & 0 & 82\\\\\n\t NBA & Trevor Ariza     & HOU & SF & 81 & 2860 & 357 &  858 & 185 & 497 & ⋯ & 161 & 113 &  26 & 177 & 0 & 1025 &  2 & 0 & 0 & 81\\\\\n\t NBA & Will Barton      & DEN & SG & 82 & 2355 & 426 &  984 & 112 & 324 & ⋯ &  71 & 139 &  39 & 147 & 0 & 1180 &  2 & 0 & 0 &  1\\\\\n\t NBA & Aron Baynes      & DET & PF & 81 & 1241 & 194 &  384 &   0 &   2 & ⋯ &  21 &  67 &  52 & 151 & 0 &  514 &  0 & 0 & 0 &  1\\\\\n\t NBA & Bismack Biyombo  & TOR & PF & 82 & 1810 & 156 &  288 &   0 &   1 & ⋯ &  19 &  71 & 133 & 225 & 2 &  454 &  3 & 0 & 0 & 22\\\\\n\t NBA & Corey Brewer     & HOU & SG & 82 & 1670 & 212 &  552 &  61 & 225 & ⋯ &  84 &  78 &  19 & 168 & 1 &  590 &  0 & 0 & 0 & 12\\\\\n\t NBA & Allen Crabbe     & POR & SF & 81 & 2111 & 312 &  678 & 112 & 284 & ⋯ &  63 &  64 &  16 & 192 & 2 &  834 &  0 & 0 & 0 &  8\\\\\n\t NBA & Ed Davis         & POR & PF & 81 & 1684 & 206 &  337 &   0 &   0 & ⋯ &  57 &  64 &  72 & 202 & 2 &  526 &  2 & 0 & 0 &  0\\\\\n\t NBA & Gorgui Dieng     & MIN & C  & 82 & 2222 & 308 &  578 &   6 &  20 & ⋯ &  94 & 140 &  96 & 219 & 0 &  827 &  1 & 0 & 0 & 39\\\\\n\t NBA & Andre Drummond   & DET & C  & 81 & 2664 & 552 & 1061 &   2 &   6 & ⋯ & 119 & 154 & 112 & 245 & 2 & 1314 &  7 & 0 & 0 & 81\\\\\n\t NBA & Jared Dudley     & WAS & SG & 81 & 2098 & 233 &  487 & 100 & 239 & ⋯ &  75 &  80 &  18 & 190 & 1 &  638 &  1 & 0 & 0 & 41\\\\\n\t NBA & Monta Ellis      & IND & PG & 81 & 2733 & 436 & 1021 &  87 & 281 & ⋯ & 149 & 203 &  38 & 174 & 0 & 1121 &  1 & 0 & 0 & 81\\\\\n\t NBA & Randy Foye       & OKC & SG & 81 & 1640 & 168 &  481 &  75 & 250 & ⋯ &  39 &  86 &  29 & 131 & 0 &  472 &  0 & 0 & 0 &  8\\\\\n\t NBA & Langsto Galloway & NYK & PG & 82 & 2032 & 231 &  588 &  77 & 224 & ⋯ &  77 &  61 &  22 & 177 & 2 &  625 &  0 & 0 & 0 &  7\\\\\n\t NBA & Paul George      & IND & SF & 81 & 2828 & 605 & 1448 & 210 & 565 & ⋯ & 152 & 265 &  29 & 230 & 1 & 1874 &  6 & 0 & 0 & 81\\\\\n\t NBA & Draymond Green   & GSW & SF & 81 & 2807 & 401 &  819 & 100 & 258 & ⋯ & 118 & 259 & 111 & 240 & 2 & 1131 & 11 & 0 & 0 & 81\\\\\n\t NBA & James Harden     & HOU & SG & 82 & 3121 & 710 & 1617 & 236 & 656 & ⋯ & 138 & 374 &  51 & 229 & 1 & 2376 &  2 & 0 & 0 & 82\\\\\n\t NBA & Roy Hibbert      & LAL & C  & 81 & 1881 & 182 &  411 &   0 &   2 & ⋯ &  32 &  76 & 110 & 252 & 3 &  481 &  2 & 0 & 0 & 81\\\\\n\t NBA & Al Horford       & ATL & PF & 82 & 2638 & 529 & 1049 &  88 & 257 & ⋯ &  67 & 107 & 122 & 163 & 0 & 1249 &  1 & 0 & 0 & 82\\\\\n\t NBA & Joe Ingles       & UTA & SF & 81 & 1241 & 124 &  291 &  81 & 210 & ⋯ &  55 &  65 &   4 &  98 & 0 &  342 &  1 & 0 & 0 &  2\\\\\n\t NBA & Joe Johnson      & MIA & SF & 81 & 2703 & 377 &  859 & 120 & 313 & ⋯ &  61 & 160 &   4 & 146 & 0 &  992 &  1 & 0 & 0 & 81\\\\\n\t NBA & Frank Kaminsky   & CHA & PF & 81 & 1713 & 215 &  525 &  68 & 202 & ⋯ &  37 &  58 &  43 & 126 & 0 &  606 &  0 & 0 & 0 &  3\\\\\n\t NBA & Enes Kanter      & OKL & C  & 82 & 1721 & 415 &  720 &  10 &  21 & ⋯ &  26 & 115 &  33 & 166 & 1 & 1040 &  2 & 0 & 0 &  1\\\\\n\t NBA & Zach Lavine      & MIN & PG & 82 & 2295 & 433 &  960 & 123 & 316 & ⋯ &  69 & 155 &  17 & 193 & 1 & 1150 &  0 & 0 & 0 & 33\\\\\n\t NBA & Robin Lopez      & NYK & C  & 82 & 2213 & 357 &  662 &   0 &   1 & ⋯ &  16 & 133 & 129 & 182 & 2 &  842 &  3 & 0 & 0 & 82\\\\\n\t NBA & T.j. Mcconnell   & PHI & PG & 81 & 1609 & 218 &  464 &  31 &  89 & ⋯ &  95 & 140 &  10 & 114 & 0 &  493 &  0 & 0 & 0 & 17\\\\\n\t NBA & Doug Mcdermott   & CHI & SF & 81 & 1860 & 291 &  644 & 110 & 259 & ⋯ &  14 &  52 &   6 & 127 & 0 &  764 &  0 & 0 & 0 &  4\\\\\n\t NBA & Patty Mills      & SAN & PG & 81 & 1659 & 260 &  612 & 123 & 320 & ⋯ &  59 &  76 &   6 & 102 & 0 &  690 &  0 & 0 & 0 &  3\\\\\n\t NBA & Paul Millsap     & ATL & PF & 81 & 2640 & 501 & 1067 &  74 & 232 & ⋯ & 148 & 191 & 140 & 237 & 2 & 1385 &  4 & 0 & 0 & 81\\\\\n\t NBA & Shabazz Muhammad & MIN & SF & 82 & 1678 & 317 &  681 &  44 & 152 & ⋯ &  24 &  70 &   7 &  94 & 0 &  863 &  0 & 0 & 0 &  0\\\\\n\t NBA & Raul Neto        & UTA & PG & 81 & 1501 & 180 &  418 &  64 & 162 & ⋯ &  62 & 109 &   2 & 122 & 1 &  476 &  0 & 0 & 0 & 53\\\\\n\t NBA & Mason Plumlee    & POR & PF & 82 & 2087 & 267 &  517 &   0 &   4 & ⋯ &  68 & 154 &  82 & 253 & 4 &  749 &  1 & 0 & 0 & 82\\\\\n\t NBA & Julius Randle    & LAL & PF & 81 & 2287 & 358 &  835 &  10 &  36 & ⋯ &  53 & 149 &  29 & 242 & 2 &  919 &  0 & 0 & 0 & 60\\\\\n\t NBA & Ramon Sessions   & WAS & PG & 82 & 1667 & 280 &  592 &  36 & 111 & ⋯ &  47 & 115 &   5 & 102 & 0 &  810 &  0 & 0 & 0 &  5\\\\\n\t NBA & Jared Sullinger  & BOS & PF & 81 & 1917 & 351 &  807 &  29 & 104 & ⋯ &  75 & 102 &  47 & 209 & 2 &  834 &  2 & 0 & 0 & 73\\\\\n\t NBA & Isaiah Thomas    & BOS & PG & 82 & 2647 & 591 & 1382 & 167 & 465 & ⋯ &  91 & 220 &   9 & 167 & 1 & 1823 &  9 & 0 & 0 & 79\\\\\n\t NBA & Tristan Thompson & CLE & C  & 82 & 2269 & 247 &  420 &   0 &   0 & ⋯ &  38 &  61 &  51 & 202 & 0 &  643 &  1 & 0 & 0 & 34\\\\\n\t NBA & Karl-antho Towns & MIN & C  & 82 & 2621 & 625 & 1152 &  30 &  88 & ⋯ &  58 & 183 & 138 & 245 & 1 & 1503 &  2 & 0 & 0 & 82\\\\\n\t NBA & P.j. Tucker      & PHO & SF & 82 & 2540 & 239 &  582 &  68 & 206 & ⋯ & 106 & 111 &  20 & 202 & 3 &  652 &  4 & 0 & 0 & 80\\\\\n\t NBA & Evan Turner      & BOS & SG & 81 & 2270 & 343 &  753 &  20 &  83 & ⋯ &  80 & 169 &  28 & 139 & 0 &  854 &  2 & 0 & 0 & 12\\\\\n\t NBA & Kemba Walker     & CHA & PG & 81 & 2885 & 568 & 1332 & 182 & 490 & ⋯ & 127 & 171 &  39 & 111 & 0 & 1689 &  5 & 0 & 0 & 81\\\\\n\t NBA & Andrew Wiggins   & MIN & SF & 81 & 2844 & 594 & 1294 &  57 & 190 & ⋯ &  78 & 182 &  46 & 165 & 1 & 1675 &  1 & 0 & 0 & 81\\\\\n\t NBA & Marvin Williams  & CHA & PF & 81 & 2339 & 338 &  747 & 152 & 379 & ⋯ &  58 &  62 &  77 & 133 & 1 &  948 &  0 & 0 & 0 & 81\\\\\n\\end{tabular}\n",
            "text/markdown": "\nA data.table: 43 × 25\n\n| League &lt;fct&gt; | Name &lt;chr&gt; | Team &lt;fct&gt; | Position &lt;fct&gt; | GamesPlayed &lt;int&gt; | TotalMinutesPlayed &lt;int&gt; | FieldGoalsMade &lt;int&gt; | FieldGoalsAttempted &lt;int&gt; | ThreesMade &lt;int&gt; | ThreesAttempted &lt;int&gt; | ⋯ ⋯ | Steals &lt;int&gt; | Turnovers &lt;int&gt; | Blocks &lt;int&gt; | PersonalFouls &lt;int&gt; | Disqualifications &lt;int&gt; | TotalPoints &lt;int&gt; | Technicals &lt;int&gt; | Ejections &lt;int&gt; | FlagrantFouls &lt;int&gt; | GamesStarted &lt;int&gt; |\n|---|---|---|---|---|---|---|---|---|---|---|---|---|---|---|---|---|---|---|---|---|\n| NBA | Al-farouq Aminu  | POR | SF | 82 | 2342 | 299 |  719 | 126 | 349 | ⋯ |  72 | 120 |  53 | 171 | 0 |  839 |  3 | 0 | 0 | 82 |\n| NBA | Trevor Ariza     | HOU | SF | 81 | 2860 | 357 |  858 | 185 | 497 | ⋯ | 161 | 113 |  26 | 177 | 0 | 1025 |  2 | 0 | 0 | 81 |\n| NBA | Will Barton      | DEN | SG | 82 | 2355 | 426 |  984 | 112 | 324 | ⋯ |  71 | 139 |  39 | 147 | 0 | 1180 |  2 | 0 | 0 |  1 |\n| NBA | Aron Baynes      | DET | PF | 81 | 1241 | 194 |  384 |   0 |   2 | ⋯ |  21 |  67 |  52 | 151 | 0 |  514 |  0 | 0 | 0 |  1 |\n| NBA | Bismack Biyombo  | TOR | PF | 82 | 1810 | 156 |  288 |   0 |   1 | ⋯ |  19 |  71 | 133 | 225 | 2 |  454 |  3 | 0 | 0 | 22 |\n| NBA | Corey Brewer     | HOU | SG | 82 | 1670 | 212 |  552 |  61 | 225 | ⋯ |  84 |  78 |  19 | 168 | 1 |  590 |  0 | 0 | 0 | 12 |\n| NBA | Allen Crabbe     | POR | SF | 81 | 2111 | 312 |  678 | 112 | 284 | ⋯ |  63 |  64 |  16 | 192 | 2 |  834 |  0 | 0 | 0 |  8 |\n| NBA | Ed Davis         | POR | PF | 81 | 1684 | 206 |  337 |   0 |   0 | ⋯ |  57 |  64 |  72 | 202 | 2 |  526 |  2 | 0 | 0 |  0 |\n| NBA | Gorgui Dieng     | MIN | C  | 82 | 2222 | 308 |  578 |   6 |  20 | ⋯ |  94 | 140 |  96 | 219 | 0 |  827 |  1 | 0 | 0 | 39 |\n| NBA | Andre Drummond   | DET | C  | 81 | 2664 | 552 | 1061 |   2 |   6 | ⋯ | 119 | 154 | 112 | 245 | 2 | 1314 |  7 | 0 | 0 | 81 |\n| NBA | Jared Dudley     | WAS | SG | 81 | 2098 | 233 |  487 | 100 | 239 | ⋯ |  75 |  80 |  18 | 190 | 1 |  638 |  1 | 0 | 0 | 41 |\n| NBA | Monta Ellis      | IND | PG | 81 | 2733 | 436 | 1021 |  87 | 281 | ⋯ | 149 | 203 |  38 | 174 | 0 | 1121 |  1 | 0 | 0 | 81 |\n| NBA | Randy Foye       | OKC | SG | 81 | 1640 | 168 |  481 |  75 | 250 | ⋯ |  39 |  86 |  29 | 131 | 0 |  472 |  0 | 0 | 0 |  8 |\n| NBA | Langsto Galloway | NYK | PG | 82 | 2032 | 231 |  588 |  77 | 224 | ⋯ |  77 |  61 |  22 | 177 | 2 |  625 |  0 | 0 | 0 |  7 |\n| NBA | Paul George      | IND | SF | 81 | 2828 | 605 | 1448 | 210 | 565 | ⋯ | 152 | 265 |  29 | 230 | 1 | 1874 |  6 | 0 | 0 | 81 |\n| NBA | Draymond Green   | GSW | SF | 81 | 2807 | 401 |  819 | 100 | 258 | ⋯ | 118 | 259 | 111 | 240 | 2 | 1131 | 11 | 0 | 0 | 81 |\n| NBA | James Harden     | HOU | SG | 82 | 3121 | 710 | 1617 | 236 | 656 | ⋯ | 138 | 374 |  51 | 229 | 1 | 2376 |  2 | 0 | 0 | 82 |\n| NBA | Roy Hibbert      | LAL | C  | 81 | 1881 | 182 |  411 |   0 |   2 | ⋯ |  32 |  76 | 110 | 252 | 3 |  481 |  2 | 0 | 0 | 81 |\n| NBA | Al Horford       | ATL | PF | 82 | 2638 | 529 | 1049 |  88 | 257 | ⋯ |  67 | 107 | 122 | 163 | 0 | 1249 |  1 | 0 | 0 | 82 |\n| NBA | Joe Ingles       | UTA | SF | 81 | 1241 | 124 |  291 |  81 | 210 | ⋯ |  55 |  65 |   4 |  98 | 0 |  342 |  1 | 0 | 0 |  2 |\n| NBA | Joe Johnson      | MIA | SF | 81 | 2703 | 377 |  859 | 120 | 313 | ⋯ |  61 | 160 |   4 | 146 | 0 |  992 |  1 | 0 | 0 | 81 |\n| NBA | Frank Kaminsky   | CHA | PF | 81 | 1713 | 215 |  525 |  68 | 202 | ⋯ |  37 |  58 |  43 | 126 | 0 |  606 |  0 | 0 | 0 |  3 |\n| NBA | Enes Kanter      | OKL | C  | 82 | 1721 | 415 |  720 |  10 |  21 | ⋯ |  26 | 115 |  33 | 166 | 1 | 1040 |  2 | 0 | 0 |  1 |\n| NBA | Zach Lavine      | MIN | PG | 82 | 2295 | 433 |  960 | 123 | 316 | ⋯ |  69 | 155 |  17 | 193 | 1 | 1150 |  0 | 0 | 0 | 33 |\n| NBA | Robin Lopez      | NYK | C  | 82 | 2213 | 357 |  662 |   0 |   1 | ⋯ |  16 | 133 | 129 | 182 | 2 |  842 |  3 | 0 | 0 | 82 |\n| NBA | T.j. Mcconnell   | PHI | PG | 81 | 1609 | 218 |  464 |  31 |  89 | ⋯ |  95 | 140 |  10 | 114 | 0 |  493 |  0 | 0 | 0 | 17 |\n| NBA | Doug Mcdermott   | CHI | SF | 81 | 1860 | 291 |  644 | 110 | 259 | ⋯ |  14 |  52 |   6 | 127 | 0 |  764 |  0 | 0 | 0 |  4 |\n| NBA | Patty Mills      | SAN | PG | 81 | 1659 | 260 |  612 | 123 | 320 | ⋯ |  59 |  76 |   6 | 102 | 0 |  690 |  0 | 0 | 0 |  3 |\n| NBA | Paul Millsap     | ATL | PF | 81 | 2640 | 501 | 1067 |  74 | 232 | ⋯ | 148 | 191 | 140 | 237 | 2 | 1385 |  4 | 0 | 0 | 81 |\n| NBA | Shabazz Muhammad | MIN | SF | 82 | 1678 | 317 |  681 |  44 | 152 | ⋯ |  24 |  70 |   7 |  94 | 0 |  863 |  0 | 0 | 0 |  0 |\n| NBA | Raul Neto        | UTA | PG | 81 | 1501 | 180 |  418 |  64 | 162 | ⋯ |  62 | 109 |   2 | 122 | 1 |  476 |  0 | 0 | 0 | 53 |\n| NBA | Mason Plumlee    | POR | PF | 82 | 2087 | 267 |  517 |   0 |   4 | ⋯ |  68 | 154 |  82 | 253 | 4 |  749 |  1 | 0 | 0 | 82 |\n| NBA | Julius Randle    | LAL | PF | 81 | 2287 | 358 |  835 |  10 |  36 | ⋯ |  53 | 149 |  29 | 242 | 2 |  919 |  0 | 0 | 0 | 60 |\n| NBA | Ramon Sessions   | WAS | PG | 82 | 1667 | 280 |  592 |  36 | 111 | ⋯ |  47 | 115 |   5 | 102 | 0 |  810 |  0 | 0 | 0 |  5 |\n| NBA | Jared Sullinger  | BOS | PF | 81 | 1917 | 351 |  807 |  29 | 104 | ⋯ |  75 | 102 |  47 | 209 | 2 |  834 |  2 | 0 | 0 | 73 |\n| NBA | Isaiah Thomas    | BOS | PG | 82 | 2647 | 591 | 1382 | 167 | 465 | ⋯ |  91 | 220 |   9 | 167 | 1 | 1823 |  9 | 0 | 0 | 79 |\n| NBA | Tristan Thompson | CLE | C  | 82 | 2269 | 247 |  420 |   0 |   0 | ⋯ |  38 |  61 |  51 | 202 | 0 |  643 |  1 | 0 | 0 | 34 |\n| NBA | Karl-antho Towns | MIN | C  | 82 | 2621 | 625 | 1152 |  30 |  88 | ⋯ |  58 | 183 | 138 | 245 | 1 | 1503 |  2 | 0 | 0 | 82 |\n| NBA | P.j. Tucker      | PHO | SF | 82 | 2540 | 239 |  582 |  68 | 206 | ⋯ | 106 | 111 |  20 | 202 | 3 |  652 |  4 | 0 | 0 | 80 |\n| NBA | Evan Turner      | BOS | SG | 81 | 2270 | 343 |  753 |  20 |  83 | ⋯ |  80 | 169 |  28 | 139 | 0 |  854 |  2 | 0 | 0 | 12 |\n| NBA | Kemba Walker     | CHA | PG | 81 | 2885 | 568 | 1332 | 182 | 490 | ⋯ | 127 | 171 |  39 | 111 | 0 | 1689 |  5 | 0 | 0 | 81 |\n| NBA | Andrew Wiggins   | MIN | SF | 81 | 2844 | 594 | 1294 |  57 | 190 | ⋯ |  78 | 182 |  46 | 165 | 1 | 1675 |  1 | 0 | 0 | 81 |\n| NBA | Marvin Williams  | CHA | PF | 81 | 2339 | 338 |  747 | 152 | 379 | ⋯ |  58 |  62 |  77 | 133 | 1 |  948 |  0 | 0 | 0 | 81 |\n\n",
            "text/html": [
              "<table>\n",
              "<caption>A data.table: 43 × 25</caption>\n",
              "<thead>\n",
              "\t<tr><th scope=col>League</th><th scope=col>Name</th><th scope=col>Team</th><th scope=col>Position</th><th scope=col>GamesPlayed</th><th scope=col>TotalMinutesPlayed</th><th scope=col>FieldGoalsMade</th><th scope=col>FieldGoalsAttempted</th><th scope=col>ThreesMade</th><th scope=col>ThreesAttempted</th><th scope=col>⋯</th><th scope=col>Steals</th><th scope=col>Turnovers</th><th scope=col>Blocks</th><th scope=col>PersonalFouls</th><th scope=col>Disqualifications</th><th scope=col>TotalPoints</th><th scope=col>Technicals</th><th scope=col>Ejections</th><th scope=col>FlagrantFouls</th><th scope=col>GamesStarted</th></tr>\n",
              "\t<tr><th scope=col>&lt;fct&gt;</th><th scope=col>&lt;chr&gt;</th><th scope=col>&lt;fct&gt;</th><th scope=col>&lt;fct&gt;</th><th scope=col>&lt;int&gt;</th><th scope=col>&lt;int&gt;</th><th scope=col>&lt;int&gt;</th><th scope=col>&lt;int&gt;</th><th scope=col>&lt;int&gt;</th><th scope=col>&lt;int&gt;</th><th scope=col>⋯</th><th scope=col>&lt;int&gt;</th><th scope=col>&lt;int&gt;</th><th scope=col>&lt;int&gt;</th><th scope=col>&lt;int&gt;</th><th scope=col>&lt;int&gt;</th><th scope=col>&lt;int&gt;</th><th scope=col>&lt;int&gt;</th><th scope=col>&lt;int&gt;</th><th scope=col>&lt;int&gt;</th><th scope=col>&lt;int&gt;</th></tr>\n",
              "</thead>\n",
              "<tbody>\n",
              "\t<tr><td>NBA</td><td>Al-farouq Aminu </td><td>POR</td><td>SF</td><td>82</td><td>2342</td><td>299</td><td> 719</td><td>126</td><td>349</td><td>⋯</td><td> 72</td><td>120</td><td> 53</td><td>171</td><td>0</td><td> 839</td><td> 3</td><td>0</td><td>0</td><td>82</td></tr>\n",
              "\t<tr><td>NBA</td><td>Trevor Ariza    </td><td>HOU</td><td>SF</td><td>81</td><td>2860</td><td>357</td><td> 858</td><td>185</td><td>497</td><td>⋯</td><td>161</td><td>113</td><td> 26</td><td>177</td><td>0</td><td>1025</td><td> 2</td><td>0</td><td>0</td><td>81</td></tr>\n",
              "\t<tr><td>NBA</td><td>Will Barton     </td><td>DEN</td><td>SG</td><td>82</td><td>2355</td><td>426</td><td> 984</td><td>112</td><td>324</td><td>⋯</td><td> 71</td><td>139</td><td> 39</td><td>147</td><td>0</td><td>1180</td><td> 2</td><td>0</td><td>0</td><td> 1</td></tr>\n",
              "\t<tr><td>NBA</td><td>Aron Baynes     </td><td>DET</td><td>PF</td><td>81</td><td>1241</td><td>194</td><td> 384</td><td>  0</td><td>  2</td><td>⋯</td><td> 21</td><td> 67</td><td> 52</td><td>151</td><td>0</td><td> 514</td><td> 0</td><td>0</td><td>0</td><td> 1</td></tr>\n",
              "\t<tr><td>NBA</td><td>Bismack Biyombo </td><td>TOR</td><td>PF</td><td>82</td><td>1810</td><td>156</td><td> 288</td><td>  0</td><td>  1</td><td>⋯</td><td> 19</td><td> 71</td><td>133</td><td>225</td><td>2</td><td> 454</td><td> 3</td><td>0</td><td>0</td><td>22</td></tr>\n",
              "\t<tr><td>NBA</td><td>Corey Brewer    </td><td>HOU</td><td>SG</td><td>82</td><td>1670</td><td>212</td><td> 552</td><td> 61</td><td>225</td><td>⋯</td><td> 84</td><td> 78</td><td> 19</td><td>168</td><td>1</td><td> 590</td><td> 0</td><td>0</td><td>0</td><td>12</td></tr>\n",
              "\t<tr><td>NBA</td><td>Allen Crabbe    </td><td>POR</td><td>SF</td><td>81</td><td>2111</td><td>312</td><td> 678</td><td>112</td><td>284</td><td>⋯</td><td> 63</td><td> 64</td><td> 16</td><td>192</td><td>2</td><td> 834</td><td> 0</td><td>0</td><td>0</td><td> 8</td></tr>\n",
              "\t<tr><td>NBA</td><td>Ed Davis        </td><td>POR</td><td>PF</td><td>81</td><td>1684</td><td>206</td><td> 337</td><td>  0</td><td>  0</td><td>⋯</td><td> 57</td><td> 64</td><td> 72</td><td>202</td><td>2</td><td> 526</td><td> 2</td><td>0</td><td>0</td><td> 0</td></tr>\n",
              "\t<tr><td>NBA</td><td>Gorgui Dieng    </td><td>MIN</td><td>C </td><td>82</td><td>2222</td><td>308</td><td> 578</td><td>  6</td><td> 20</td><td>⋯</td><td> 94</td><td>140</td><td> 96</td><td>219</td><td>0</td><td> 827</td><td> 1</td><td>0</td><td>0</td><td>39</td></tr>\n",
              "\t<tr><td>NBA</td><td>Andre Drummond  </td><td>DET</td><td>C </td><td>81</td><td>2664</td><td>552</td><td>1061</td><td>  2</td><td>  6</td><td>⋯</td><td>119</td><td>154</td><td>112</td><td>245</td><td>2</td><td>1314</td><td> 7</td><td>0</td><td>0</td><td>81</td></tr>\n",
              "\t<tr><td>NBA</td><td>Jared Dudley    </td><td>WAS</td><td>SG</td><td>81</td><td>2098</td><td>233</td><td> 487</td><td>100</td><td>239</td><td>⋯</td><td> 75</td><td> 80</td><td> 18</td><td>190</td><td>1</td><td> 638</td><td> 1</td><td>0</td><td>0</td><td>41</td></tr>\n",
              "\t<tr><td>NBA</td><td>Monta Ellis     </td><td>IND</td><td>PG</td><td>81</td><td>2733</td><td>436</td><td>1021</td><td> 87</td><td>281</td><td>⋯</td><td>149</td><td>203</td><td> 38</td><td>174</td><td>0</td><td>1121</td><td> 1</td><td>0</td><td>0</td><td>81</td></tr>\n",
              "\t<tr><td>NBA</td><td>Randy Foye      </td><td>OKC</td><td>SG</td><td>81</td><td>1640</td><td>168</td><td> 481</td><td> 75</td><td>250</td><td>⋯</td><td> 39</td><td> 86</td><td> 29</td><td>131</td><td>0</td><td> 472</td><td> 0</td><td>0</td><td>0</td><td> 8</td></tr>\n",
              "\t<tr><td>NBA</td><td>Langsto Galloway</td><td>NYK</td><td>PG</td><td>82</td><td>2032</td><td>231</td><td> 588</td><td> 77</td><td>224</td><td>⋯</td><td> 77</td><td> 61</td><td> 22</td><td>177</td><td>2</td><td> 625</td><td> 0</td><td>0</td><td>0</td><td> 7</td></tr>\n",
              "\t<tr><td>NBA</td><td>Paul George     </td><td>IND</td><td>SF</td><td>81</td><td>2828</td><td>605</td><td>1448</td><td>210</td><td>565</td><td>⋯</td><td>152</td><td>265</td><td> 29</td><td>230</td><td>1</td><td>1874</td><td> 6</td><td>0</td><td>0</td><td>81</td></tr>\n",
              "\t<tr><td>NBA</td><td>Draymond Green  </td><td>GSW</td><td>SF</td><td>81</td><td>2807</td><td>401</td><td> 819</td><td>100</td><td>258</td><td>⋯</td><td>118</td><td>259</td><td>111</td><td>240</td><td>2</td><td>1131</td><td>11</td><td>0</td><td>0</td><td>81</td></tr>\n",
              "\t<tr><td>NBA</td><td>James Harden    </td><td>HOU</td><td>SG</td><td>82</td><td>3121</td><td>710</td><td>1617</td><td>236</td><td>656</td><td>⋯</td><td>138</td><td>374</td><td> 51</td><td>229</td><td>1</td><td>2376</td><td> 2</td><td>0</td><td>0</td><td>82</td></tr>\n",
              "\t<tr><td>NBA</td><td>Roy Hibbert     </td><td>LAL</td><td>C </td><td>81</td><td>1881</td><td>182</td><td> 411</td><td>  0</td><td>  2</td><td>⋯</td><td> 32</td><td> 76</td><td>110</td><td>252</td><td>3</td><td> 481</td><td> 2</td><td>0</td><td>0</td><td>81</td></tr>\n",
              "\t<tr><td>NBA</td><td>Al Horford      </td><td>ATL</td><td>PF</td><td>82</td><td>2638</td><td>529</td><td>1049</td><td> 88</td><td>257</td><td>⋯</td><td> 67</td><td>107</td><td>122</td><td>163</td><td>0</td><td>1249</td><td> 1</td><td>0</td><td>0</td><td>82</td></tr>\n",
              "\t<tr><td>NBA</td><td>Joe Ingles      </td><td>UTA</td><td>SF</td><td>81</td><td>1241</td><td>124</td><td> 291</td><td> 81</td><td>210</td><td>⋯</td><td> 55</td><td> 65</td><td>  4</td><td> 98</td><td>0</td><td> 342</td><td> 1</td><td>0</td><td>0</td><td> 2</td></tr>\n",
              "\t<tr><td>NBA</td><td>Joe Johnson     </td><td>MIA</td><td>SF</td><td>81</td><td>2703</td><td>377</td><td> 859</td><td>120</td><td>313</td><td>⋯</td><td> 61</td><td>160</td><td>  4</td><td>146</td><td>0</td><td> 992</td><td> 1</td><td>0</td><td>0</td><td>81</td></tr>\n",
              "\t<tr><td>NBA</td><td>Frank Kaminsky  </td><td>CHA</td><td>PF</td><td>81</td><td>1713</td><td>215</td><td> 525</td><td> 68</td><td>202</td><td>⋯</td><td> 37</td><td> 58</td><td> 43</td><td>126</td><td>0</td><td> 606</td><td> 0</td><td>0</td><td>0</td><td> 3</td></tr>\n",
              "\t<tr><td>NBA</td><td>Enes Kanter     </td><td>OKL</td><td>C </td><td>82</td><td>1721</td><td>415</td><td> 720</td><td> 10</td><td> 21</td><td>⋯</td><td> 26</td><td>115</td><td> 33</td><td>166</td><td>1</td><td>1040</td><td> 2</td><td>0</td><td>0</td><td> 1</td></tr>\n",
              "\t<tr><td>NBA</td><td>Zach Lavine     </td><td>MIN</td><td>PG</td><td>82</td><td>2295</td><td>433</td><td> 960</td><td>123</td><td>316</td><td>⋯</td><td> 69</td><td>155</td><td> 17</td><td>193</td><td>1</td><td>1150</td><td> 0</td><td>0</td><td>0</td><td>33</td></tr>\n",
              "\t<tr><td>NBA</td><td>Robin Lopez     </td><td>NYK</td><td>C </td><td>82</td><td>2213</td><td>357</td><td> 662</td><td>  0</td><td>  1</td><td>⋯</td><td> 16</td><td>133</td><td>129</td><td>182</td><td>2</td><td> 842</td><td> 3</td><td>0</td><td>0</td><td>82</td></tr>\n",
              "\t<tr><td>NBA</td><td>T.j. Mcconnell  </td><td>PHI</td><td>PG</td><td>81</td><td>1609</td><td>218</td><td> 464</td><td> 31</td><td> 89</td><td>⋯</td><td> 95</td><td>140</td><td> 10</td><td>114</td><td>0</td><td> 493</td><td> 0</td><td>0</td><td>0</td><td>17</td></tr>\n",
              "\t<tr><td>NBA</td><td>Doug Mcdermott  </td><td>CHI</td><td>SF</td><td>81</td><td>1860</td><td>291</td><td> 644</td><td>110</td><td>259</td><td>⋯</td><td> 14</td><td> 52</td><td>  6</td><td>127</td><td>0</td><td> 764</td><td> 0</td><td>0</td><td>0</td><td> 4</td></tr>\n",
              "\t<tr><td>NBA</td><td>Patty Mills     </td><td>SAN</td><td>PG</td><td>81</td><td>1659</td><td>260</td><td> 612</td><td>123</td><td>320</td><td>⋯</td><td> 59</td><td> 76</td><td>  6</td><td>102</td><td>0</td><td> 690</td><td> 0</td><td>0</td><td>0</td><td> 3</td></tr>\n",
              "\t<tr><td>NBA</td><td>Paul Millsap    </td><td>ATL</td><td>PF</td><td>81</td><td>2640</td><td>501</td><td>1067</td><td> 74</td><td>232</td><td>⋯</td><td>148</td><td>191</td><td>140</td><td>237</td><td>2</td><td>1385</td><td> 4</td><td>0</td><td>0</td><td>81</td></tr>\n",
              "\t<tr><td>NBA</td><td>Shabazz Muhammad</td><td>MIN</td><td>SF</td><td>82</td><td>1678</td><td>317</td><td> 681</td><td> 44</td><td>152</td><td>⋯</td><td> 24</td><td> 70</td><td>  7</td><td> 94</td><td>0</td><td> 863</td><td> 0</td><td>0</td><td>0</td><td> 0</td></tr>\n",
              "\t<tr><td>NBA</td><td>Raul Neto       </td><td>UTA</td><td>PG</td><td>81</td><td>1501</td><td>180</td><td> 418</td><td> 64</td><td>162</td><td>⋯</td><td> 62</td><td>109</td><td>  2</td><td>122</td><td>1</td><td> 476</td><td> 0</td><td>0</td><td>0</td><td>53</td></tr>\n",
              "\t<tr><td>NBA</td><td>Mason Plumlee   </td><td>POR</td><td>PF</td><td>82</td><td>2087</td><td>267</td><td> 517</td><td>  0</td><td>  4</td><td>⋯</td><td> 68</td><td>154</td><td> 82</td><td>253</td><td>4</td><td> 749</td><td> 1</td><td>0</td><td>0</td><td>82</td></tr>\n",
              "\t<tr><td>NBA</td><td>Julius Randle   </td><td>LAL</td><td>PF</td><td>81</td><td>2287</td><td>358</td><td> 835</td><td> 10</td><td> 36</td><td>⋯</td><td> 53</td><td>149</td><td> 29</td><td>242</td><td>2</td><td> 919</td><td> 0</td><td>0</td><td>0</td><td>60</td></tr>\n",
              "\t<tr><td>NBA</td><td>Ramon Sessions  </td><td>WAS</td><td>PG</td><td>82</td><td>1667</td><td>280</td><td> 592</td><td> 36</td><td>111</td><td>⋯</td><td> 47</td><td>115</td><td>  5</td><td>102</td><td>0</td><td> 810</td><td> 0</td><td>0</td><td>0</td><td> 5</td></tr>\n",
              "\t<tr><td>NBA</td><td>Jared Sullinger </td><td>BOS</td><td>PF</td><td>81</td><td>1917</td><td>351</td><td> 807</td><td> 29</td><td>104</td><td>⋯</td><td> 75</td><td>102</td><td> 47</td><td>209</td><td>2</td><td> 834</td><td> 2</td><td>0</td><td>0</td><td>73</td></tr>\n",
              "\t<tr><td>NBA</td><td>Isaiah Thomas   </td><td>BOS</td><td>PG</td><td>82</td><td>2647</td><td>591</td><td>1382</td><td>167</td><td>465</td><td>⋯</td><td> 91</td><td>220</td><td>  9</td><td>167</td><td>1</td><td>1823</td><td> 9</td><td>0</td><td>0</td><td>79</td></tr>\n",
              "\t<tr><td>NBA</td><td>Tristan Thompson</td><td>CLE</td><td>C </td><td>82</td><td>2269</td><td>247</td><td> 420</td><td>  0</td><td>  0</td><td>⋯</td><td> 38</td><td> 61</td><td> 51</td><td>202</td><td>0</td><td> 643</td><td> 1</td><td>0</td><td>0</td><td>34</td></tr>\n",
              "\t<tr><td>NBA</td><td>Karl-antho Towns</td><td>MIN</td><td>C </td><td>82</td><td>2621</td><td>625</td><td>1152</td><td> 30</td><td> 88</td><td>⋯</td><td> 58</td><td>183</td><td>138</td><td>245</td><td>1</td><td>1503</td><td> 2</td><td>0</td><td>0</td><td>82</td></tr>\n",
              "\t<tr><td>NBA</td><td>P.j. Tucker     </td><td>PHO</td><td>SF</td><td>82</td><td>2540</td><td>239</td><td> 582</td><td> 68</td><td>206</td><td>⋯</td><td>106</td><td>111</td><td> 20</td><td>202</td><td>3</td><td> 652</td><td> 4</td><td>0</td><td>0</td><td>80</td></tr>\n",
              "\t<tr><td>NBA</td><td>Evan Turner     </td><td>BOS</td><td>SG</td><td>81</td><td>2270</td><td>343</td><td> 753</td><td> 20</td><td> 83</td><td>⋯</td><td> 80</td><td>169</td><td> 28</td><td>139</td><td>0</td><td> 854</td><td> 2</td><td>0</td><td>0</td><td>12</td></tr>\n",
              "\t<tr><td>NBA</td><td>Kemba Walker    </td><td>CHA</td><td>PG</td><td>81</td><td>2885</td><td>568</td><td>1332</td><td>182</td><td>490</td><td>⋯</td><td>127</td><td>171</td><td> 39</td><td>111</td><td>0</td><td>1689</td><td> 5</td><td>0</td><td>0</td><td>81</td></tr>\n",
              "\t<tr><td>NBA</td><td>Andrew Wiggins  </td><td>MIN</td><td>SF</td><td>81</td><td>2844</td><td>594</td><td>1294</td><td> 57</td><td>190</td><td>⋯</td><td> 78</td><td>182</td><td> 46</td><td>165</td><td>1</td><td>1675</td><td> 1</td><td>0</td><td>0</td><td>81</td></tr>\n",
              "\t<tr><td>NBA</td><td>Marvin Williams </td><td>CHA</td><td>PF</td><td>81</td><td>2339</td><td>338</td><td> 747</td><td>152</td><td>379</td><td>⋯</td><td> 58</td><td> 62</td><td> 77</td><td>133</td><td>1</td><td> 948</td><td> 0</td><td>0</td><td>0</td><td>81</td></tr>\n",
              "</tbody>\n",
              "</table>\n"
            ]
          },
          "metadata": {
            "tags": []
          }
        },
        {
          "output_type": "display_data",
          "data": {
            "text/plain": [
              "    League Name             Team Position GamesPlayed TotalMinutesPlayed\n",
              "1   NBA    Quincy Acy       SAC  SF       59           877              \n",
              "2   NBA    Steven Adams     OKL  C        80          2019              \n",
              "3   NBA    Arron Afflalo    NYK  SG       71          2359              \n",
              "4   NBA    Alexis Ajinca    NOR  C        59           863              \n",
              "5   NBA    Cole Aldrich     LAC  C        60           802              \n",
              "6   NBA    Lamarcu Aldridge SAN  PF       74          2260              \n",
              "7   NBA    Lavoy Allen      IND  PF       79          1601              \n",
              "8   NBA    Tony Allen       MEM  SG       64          1622              \n",
              "9   NBA    Al-farouq Aminu  POR  SF       82          2342              \n",
              "10  NBA    James Anderson   SAC  SG       51           721              \n",
              "11  NBA    Justin Anderson  DAL  SG       55           644              \n",
              "12  NBA    Kyle Anderson    SAN  SF       78          1247              \n",
              "13  NBA    Ryan Anderson    NOR  PF       66          2011              \n",
              "14  NBA    Gi Antetokounmpo MIL  SF       80          2825              \n",
              "15  NBA    Carmelo Anthony  NYK  SF       72          2529              \n",
              "16  NBA    Trevor Ariza     HOU  SF       81          2860              \n",
              "17  NBA    Ron Artest       LAL  SF       35           588              \n",
              "18  NBA    Darrell Arthur   DEN  PF       70          1517              \n",
              "19  NBA    Omer Asik        NOR  C        68          1181              \n",
              "20  NBA    D.j. Augustin    DEN  PG       62          1182              \n",
              "21  NBA    Luke Babbitt     NOR  SF       47           847              \n",
              "22  NBA    Leandro Barbosa  GSW  SG       68          1079              \n",
              "23  NBA    J.j. Barea       DAL  PG       74          1666              \n",
              "24  NBA    Andrea Bargnani  BRO  C        46           634              \n",
              "25  NBA    Harrison Barnes  GSW  SF       66          2043              \n",
              "26  NBA    Matt Barnes      MEM  SF       76          2190              \n",
              "27  NBA    Will Barton      DEN  SG       82          2355              \n",
              "28  NBA    Brandon Bass     LAL  PF       66          1342              \n",
              "29  NBA    Nicolas Batum    CHA  SF       70          2453              \n",
              "30  NBA    Jerryd Bayless   MIL  PG       52          1506              \n",
              "⋮   ⋮      ⋮                ⋮    ⋮        ⋮           ⋮                 \n",
              "325 NBA    Evan Turner      BOS  SG       81          2270              \n",
              "326 NBA    Myles Turner     IND  PF       60          1368              \n",
              "327 NBA    Beno Udrih       MIA  PG       44           708              \n",
              "328 NBA    Jona Valanciunas TOR  C        60          1558              \n",
              "329 NBA    Rashad Vaughn    MIL  SG       70          1000              \n",
              "330 NBA    Charl Villanueva DAL  PF       62           667              \n",
              "331 NBA    Noah Vonleh      POR  PF       78          1173              \n",
              "332 NBA    Nikola Vucevic   ORL  C        65          2038              \n",
              "333 NBA    Sasha Vujacic    NYK  SG       61           910              \n",
              "334 NBA    Dwyane Wade      MIA  SG       74          2258              \n",
              "335 NBA    Dion Waiters     OKL  SG       78          2157              \n",
              "336 NBA    Kemba Walker     CHA  PG       81          2885              \n",
              "337 NBA    John Wall        WAS  PG       77          2783              \n",
              "338 NBA    T.j. Warren      PHO  SF       47          1065              \n",
              "339 NBA    David West       SAN  PF       78          1408              \n",
              "340 NBA    Russel Westbrook OKL  PG       80          2749              \n",
              "341 NBA    Hassan Whiteside MIA  C        73          2122              \n",
              "342 NBA    Andrew Wiggins   MIN  SF       81          2844              \n",
              "343 NBA    Deron Williams   DAL  PG       65          2107              \n",
              "344 NBA    Derrick Williams NYK  PF       80          1442              \n",
              "345 NBA    Louis Williams   LAL  SG       67          1911              \n",
              "346 NBA    Marvin Williams  CHA  PF       81          2339              \n",
              "347 NBA    Mo Williams      CLE  PG       41           748              \n",
              "348 NBA    Justise Winslow  MIA  SF       78          2237              \n",
              "349 NBA    Jeff Withey      UTA  C        51           653              \n",
              "350 NBA    Joseph Young     IND  PG       41           384              \n",
              "351 NBA    Nick Young       LAL  SF       54          1036              \n",
              "352 NBA    Thaddeus Young   BRO  SF       73          2413              \n",
              "353 NBA    Cody Zeller      CHA  PF       73          1773              \n",
              "354 NBA    Tyler Zeller     BOS  C        60           714              \n",
              "    FieldGoalsMade FieldGoalsAttempted ThreesMade ThreesAttempted ⋯ Steals\n",
              "1   119             214                 19         49             ⋯  29   \n",
              "2   261             426                  0          0             ⋯  42   \n",
              "3   354             799                 91        238             ⋯  25   \n",
              "4   150             314                  0          1             ⋯  19   \n",
              "5   134             225                  0          0             ⋯  47   \n",
              "6   536            1045                  0         16             ⋯  38   \n",
              "7   191             370                  0          0             ⋯  26   \n",
              "8   215             469                 15         42             ⋯ 109   \n",
              "9   299             719                126        349             ⋯  72   \n",
              "10   67             178                 23         86             ⋯  21   \n",
              "11   71             176                 22         83             ⋯  19   \n",
              "12  138             296                 12         37             ⋯  60   \n",
              "13  397             928                131        357             ⋯  38   \n",
              "14  513            1012                 28        110             ⋯  94   \n",
              "15  567            1307                105        310             ⋯  62   \n",
              "16  357             858                185        497             ⋯ 161   \n",
              "17   55             177                 26         84             ⋯  22   \n",
              "18  221             489                 45        117             ⋯  53   \n",
              "19  104             196                  0          0             ⋯  21   \n",
              "20  148             350                 68        169             ⋯  38   \n",
              "21  122             289                 44        109             ⋯  11   \n",
              "22  171             370                 39        111             ⋯  44   \n",
              "23  317             710                100        259             ⋯  26   \n",
              "24  127             278                  3         15             ⋯   4   \n",
              "25  295             633                 82        214             ⋯  41   \n",
              "26  264             693                119        370             ⋯  78   \n",
              "27  426             984                112        324             ⋯  71   \n",
              "28  174             317                  0          2             ⋯  33   \n",
              "29  372             872                139        399             ⋯  65   \n",
              "30  185             437                101        230             ⋯  47   \n",
              "⋮   ⋮              ⋮                   ⋮          ⋮               ⋱ ⋮     \n",
              "325 343             753                 20         83             ⋯  80   \n",
              "326 264             530                  3         13             ⋯  25   \n",
              "327  86             197                 15         44             ⋯  14   \n",
              "328 303             536                  0          0             ⋯  25   \n",
              "329  82             266                 44        147             ⋯  29   \n",
              "330 125             328                 47        173             ⋯  18   \n",
              "331 117             279                 11         47             ⋯  27   \n",
              "332 533            1046                  2          9             ⋯  54   \n",
              "333 106             277                 52        143             ⋯  34   \n",
              "334 540            1183                  7         44             ⋯  79   \n",
              "335 282             705                 86        241             ⋯  81   \n",
              "336 568            1332                182        490             ⋯ 127   \n",
              "337 572            1349                115        327             ⋯ 145   \n",
              "338 221             441                 28         70             ⋯  37   \n",
              "339 244             448                  3          7             ⋯  44   \n",
              "340 656            1444                101        341             ⋯ 163   \n",
              "341 412             681                  0          0             ⋯  44   \n",
              "342 594            1294                 57        190             ⋯  78   \n",
              "343 321             775                 97        282             ⋯  61   \n",
              "344 254             565                 44        150             ⋯  30   \n",
              "345 283             695                110        321             ⋯  62   \n",
              "346 338             747                152        379             ⋯  58   \n",
              "347 132             302                 36        102             ⋯  14   \n",
              "348 196             463                 32        116             ⋯  68   \n",
              "349  87             161                  0          2             ⋯  21   \n",
              "350  62             170                 10         46             ⋯  15   \n",
              "351 126             372                 77        237             ⋯  23   \n",
              "352 495             963                  7         30             ⋯ 112   \n",
              "353 231             437                  1         10             ⋯  57   \n",
              "354 138             290                  0          0             ⋯  10   \n",
              "    Turnovers Blocks PersonalFouls Disqualifications TotalPoints Technicals\n",
              "1    27        24    103           0                  307        3         \n",
              "2    84        89    223           2                  636        2         \n",
              "3    82        10    142           1                  909        1         \n",
              "4    54        36    134           0                  352        2         \n",
              "5    64        68    139           1                  328        0         \n",
              "6    99        81    151           0                 1331        0         \n",
              "7    69        42    147           1                  428        0         \n",
              "8    78        18    175           1                  535        1         \n",
              "9   120        53    171           0                  839        3         \n",
              "10   42        14     54           0                  179        0         \n",
              "11   24        25     45           0                  208        0         \n",
              "12   59        29     97           0                  350        0         \n",
              "13   90        25    109           0                 1124        3         \n",
              "14  208       113    258           7                 1350        1         \n",
              "15  176        38    180           1                 1573        4         \n",
              "16  113        26    177           0                 1025        2         \n",
              "17   15        11     67           1                  176        1         \n",
              "18   66        48    185           1                  527        2         \n",
              "19   60        23    124           0                  269        0         \n",
              "20   84         4     85           0                  467        0         \n",
              "21   23         7     90           0                  327        1         \n",
              "22   53        10    107           0                  433        1         \n",
              "23  113         2    110           0                  808        3         \n",
              "24   26         9     61           0                  304        0         \n",
              "25   58        10    136           1                  774        0         \n",
              "26  121        57    234           1                  758        4         \n",
              "27  139        39    147           0                 1180        2         \n",
              "28   42        55    125           1                  473        0         \n",
              "29  205        43    114           0                 1046        1         \n",
              "30   73        12    111           0                  541        1         \n",
              "⋮   ⋮         ⋮      ⋮             ⋮                 ⋮           ⋮         \n",
              "325 169        28    139           0                  854        2         \n",
              "326  67        86    158           1                  619        0         \n",
              "327  53         1     51           0                  205        0         \n",
              "328  85        80    158           2                  768        3         \n",
              "329  28        16     73           0                  220        0         \n",
              "330  31        15     71           0                  319        2         \n",
              "331  50        26    152           1                  283        0         \n",
              "332 123        70    173           2                 1181        2         \n",
              "333  44         5     83           0                  296        1         \n",
              "334 203        42    116           0                 1409        3         \n",
              "335 120        15    143           0                  762        4         \n",
              "336 171        39    111           0                 1689        5         \n",
              "337 318        59    159           0                 1531        7         \n",
              "338  32        16     94           0                  515        0         \n",
              "339  67        55    142           1                  554        2         \n",
              "340 342        20    200           2                 1878        6         \n",
              "341 137       269    201           2                 1038        2         \n",
              "342 182        46    165           1                 1675        1         \n",
              "343 150        14    155           0                  918        0         \n",
              "344  61         9     69           0                  746        0         \n",
              "345 107        19    107           1                 1028        1         \n",
              "346  62        77    133           1                  948        0         \n",
              "347  57         5     60           0                  338        1         \n",
              "348  95        26    184           0                  504        0         \n",
              "349  28        53     74           1                  217        0         \n",
              "350  33         0     30           0                  154        0         \n",
              "351  30         7     50           0                  392        1         \n",
              "352 136        37    182           3                 1102        1         \n",
              "353  68        63    204           4                  638        0         \n",
              "354  46        22     97           1                  364        0         \n",
              "    Ejections FlagrantFouls GamesStarted\n",
              "1   0         0             29          \n",
              "2   0         0             80          \n",
              "3   0         0             57          \n",
              "4   0         0             17          \n",
              "5   0         0              5          \n",
              "6   0         0             74          \n",
              "7   0         0             28          \n",
              "8   0         0             56          \n",
              "9   0         0             82          \n",
              "10  0         0             15          \n",
              "11  0         0              9          \n",
              "12  0         0             11          \n",
              "13  0         0              7          \n",
              "14  0         0             79          \n",
              "15  0         0             72          \n",
              "16  0         0             81          \n",
              "17  0         0              5          \n",
              "18  0         0             16          \n",
              "19  0         0             64          \n",
              "20  0         0              0          \n",
              "21  0         0             13          \n",
              "22  0         0              0          \n",
              "23  0         0             16          \n",
              "24  0         0              0          \n",
              "25  0         0             59          \n",
              "26  0         0             45          \n",
              "27  0         0              1          \n",
              "28  0         0              0          \n",
              "29  0         0             70          \n",
              "30  0         0             18          \n",
              "⋮   ⋮         ⋮             ⋮           \n",
              "325 0         0             12          \n",
              "326 0         0             30          \n",
              "327 0         0              5          \n",
              "328 0         0             59          \n",
              "329 0         0              6          \n",
              "330 0         0              4          \n",
              "331 0         0             56          \n",
              "332 0         0             60          \n",
              "333 0         0             25          \n",
              "334 0         0             73          \n",
              "335 0         0             15          \n",
              "336 0         0             81          \n",
              "337 0         0             77          \n",
              "338 0         0              4          \n",
              "339 0         0             19          \n",
              "340 0         0             80          \n",
              "341 0         0             43          \n",
              "342 0         0             81          \n",
              "343 0         0             63          \n",
              "344 0         0              9          \n",
              "345 0         0             35          \n",
              "346 0         0             81          \n",
              "347 0         0             14          \n",
              "348 0         0              8          \n",
              "349 0         0             10          \n",
              "350 0         0              0          \n",
              "351 0         0              2          \n",
              "352 0         0             73          \n",
              "353 0         0             60          \n",
              "354 0         0              3          "
            ],
            "text/latex": "A data.table: 354 × 25\n\\begin{tabular}{lllllllllllllllllllll}\n League & Name & Team & Position & GamesPlayed & TotalMinutesPlayed & FieldGoalsMade & FieldGoalsAttempted & ThreesMade & ThreesAttempted & ⋯ & Steals & Turnovers & Blocks & PersonalFouls & Disqualifications & TotalPoints & Technicals & Ejections & FlagrantFouls & GamesStarted\\\\\n <fct> & <chr> & <fct> & <fct> & <int> & <int> & <int> & <int> & <int> & <int> & ⋯ & <int> & <int> & <int> & <int> & <int> & <int> & <int> & <int> & <int> & <int>\\\\\n\\hline\n\t NBA & Quincy Acy       & SAC & SF & 59 &  877 & 119 &  214 &  19 &  49 & ⋯ &  29 &  27 &  24 & 103 & 0 &  307 & 3 & 0 & 0 & 29\\\\\n\t NBA & Steven Adams     & OKL & C  & 80 & 2019 & 261 &  426 &   0 &   0 & ⋯ &  42 &  84 &  89 & 223 & 2 &  636 & 2 & 0 & 0 & 80\\\\\n\t NBA & Arron Afflalo    & NYK & SG & 71 & 2359 & 354 &  799 &  91 & 238 & ⋯ &  25 &  82 &  10 & 142 & 1 &  909 & 1 & 0 & 0 & 57\\\\\n\t NBA & Alexis Ajinca    & NOR & C  & 59 &  863 & 150 &  314 &   0 &   1 & ⋯ &  19 &  54 &  36 & 134 & 0 &  352 & 2 & 0 & 0 & 17\\\\\n\t NBA & Cole Aldrich     & LAC & C  & 60 &  802 & 134 &  225 &   0 &   0 & ⋯ &  47 &  64 &  68 & 139 & 1 &  328 & 0 & 0 & 0 &  5\\\\\n\t NBA & Lamarcu Aldridge & SAN & PF & 74 & 2260 & 536 & 1045 &   0 &  16 & ⋯ &  38 &  99 &  81 & 151 & 0 & 1331 & 0 & 0 & 0 & 74\\\\\n\t NBA & Lavoy Allen      & IND & PF & 79 & 1601 & 191 &  370 &   0 &   0 & ⋯ &  26 &  69 &  42 & 147 & 1 &  428 & 0 & 0 & 0 & 28\\\\\n\t NBA & Tony Allen       & MEM & SG & 64 & 1622 & 215 &  469 &  15 &  42 & ⋯ & 109 &  78 &  18 & 175 & 1 &  535 & 1 & 0 & 0 & 56\\\\\n\t NBA & Al-farouq Aminu  & POR & SF & 82 & 2342 & 299 &  719 & 126 & 349 & ⋯ &  72 & 120 &  53 & 171 & 0 &  839 & 3 & 0 & 0 & 82\\\\\n\t NBA & James Anderson   & SAC & SG & 51 &  721 &  67 &  178 &  23 &  86 & ⋯ &  21 &  42 &  14 &  54 & 0 &  179 & 0 & 0 & 0 & 15\\\\\n\t NBA & Justin Anderson  & DAL & SG & 55 &  644 &  71 &  176 &  22 &  83 & ⋯ &  19 &  24 &  25 &  45 & 0 &  208 & 0 & 0 & 0 &  9\\\\\n\t NBA & Kyle Anderson    & SAN & SF & 78 & 1247 & 138 &  296 &  12 &  37 & ⋯ &  60 &  59 &  29 &  97 & 0 &  350 & 0 & 0 & 0 & 11\\\\\n\t NBA & Ryan Anderson    & NOR & PF & 66 & 2011 & 397 &  928 & 131 & 357 & ⋯ &  38 &  90 &  25 & 109 & 0 & 1124 & 3 & 0 & 0 &  7\\\\\n\t NBA & Gi Antetokounmpo & MIL & SF & 80 & 2825 & 513 & 1012 &  28 & 110 & ⋯ &  94 & 208 & 113 & 258 & 7 & 1350 & 1 & 0 & 0 & 79\\\\\n\t NBA & Carmelo Anthony  & NYK & SF & 72 & 2529 & 567 & 1307 & 105 & 310 & ⋯ &  62 & 176 &  38 & 180 & 1 & 1573 & 4 & 0 & 0 & 72\\\\\n\t NBA & Trevor Ariza     & HOU & SF & 81 & 2860 & 357 &  858 & 185 & 497 & ⋯ & 161 & 113 &  26 & 177 & 0 & 1025 & 2 & 0 & 0 & 81\\\\\n\t NBA & Ron Artest       & LAL & SF & 35 &  588 &  55 &  177 &  26 &  84 & ⋯ &  22 &  15 &  11 &  67 & 1 &  176 & 1 & 0 & 0 &  5\\\\\n\t NBA & Darrell Arthur   & DEN & PF & 70 & 1517 & 221 &  489 &  45 & 117 & ⋯ &  53 &  66 &  48 & 185 & 1 &  527 & 2 & 0 & 0 & 16\\\\\n\t NBA & Omer Asik        & NOR & C  & 68 & 1181 & 104 &  196 &   0 &   0 & ⋯ &  21 &  60 &  23 & 124 & 0 &  269 & 0 & 0 & 0 & 64\\\\\n\t NBA & D.j. Augustin    & DEN & PG & 62 & 1182 & 148 &  350 &  68 & 169 & ⋯ &  38 &  84 &   4 &  85 & 0 &  467 & 0 & 0 & 0 &  0\\\\\n\t NBA & Luke Babbitt     & NOR & SF & 47 &  847 & 122 &  289 &  44 & 109 & ⋯ &  11 &  23 &   7 &  90 & 0 &  327 & 1 & 0 & 0 & 13\\\\\n\t NBA & Leandro Barbosa  & GSW & SG & 68 & 1079 & 171 &  370 &  39 & 111 & ⋯ &  44 &  53 &  10 & 107 & 0 &  433 & 1 & 0 & 0 &  0\\\\\n\t NBA & J.j. Barea       & DAL & PG & 74 & 1666 & 317 &  710 & 100 & 259 & ⋯ &  26 & 113 &   2 & 110 & 0 &  808 & 3 & 0 & 0 & 16\\\\\n\t NBA & Andrea Bargnani  & BRO & C  & 46 &  634 & 127 &  278 &   3 &  15 & ⋯ &   4 &  26 &   9 &  61 & 0 &  304 & 0 & 0 & 0 &  0\\\\\n\t NBA & Harrison Barnes  & GSW & SF & 66 & 2043 & 295 &  633 &  82 & 214 & ⋯ &  41 &  58 &  10 & 136 & 1 &  774 & 0 & 0 & 0 & 59\\\\\n\t NBA & Matt Barnes      & MEM & SF & 76 & 2190 & 264 &  693 & 119 & 370 & ⋯ &  78 & 121 &  57 & 234 & 1 &  758 & 4 & 0 & 0 & 45\\\\\n\t NBA & Will Barton      & DEN & SG & 82 & 2355 & 426 &  984 & 112 & 324 & ⋯ &  71 & 139 &  39 & 147 & 0 & 1180 & 2 & 0 & 0 &  1\\\\\n\t NBA & Brandon Bass     & LAL & PF & 66 & 1342 & 174 &  317 &   0 &   2 & ⋯ &  33 &  42 &  55 & 125 & 1 &  473 & 0 & 0 & 0 &  0\\\\\n\t NBA & Nicolas Batum    & CHA & SF & 70 & 2453 & 372 &  872 & 139 & 399 & ⋯ &  65 & 205 &  43 & 114 & 0 & 1046 & 1 & 0 & 0 & 70\\\\\n\t NBA & Jerryd Bayless   & MIL & PG & 52 & 1506 & 185 &  437 & 101 & 230 & ⋯ &  47 &  73 &  12 & 111 & 0 &  541 & 1 & 0 & 0 & 18\\\\\n\t ⋮ & ⋮ & ⋮ & ⋮ & ⋮ & ⋮ & ⋮ & ⋮ & ⋮ & ⋮ & ⋱ & ⋮ & ⋮ & ⋮ & ⋮ & ⋮ & ⋮ & ⋮ & ⋮ & ⋮ & ⋮\\\\\n\t NBA & Evan Turner      & BOS & SG & 81 & 2270 & 343 &  753 &  20 &  83 & ⋯ &  80 & 169 &  28 & 139 & 0 &  854 & 2 & 0 & 0 & 12\\\\\n\t NBA & Myles Turner     & IND & PF & 60 & 1368 & 264 &  530 &   3 &  13 & ⋯ &  25 &  67 &  86 & 158 & 1 &  619 & 0 & 0 & 0 & 30\\\\\n\t NBA & Beno Udrih       & MIA & PG & 44 &  708 &  86 &  197 &  15 &  44 & ⋯ &  14 &  53 &   1 &  51 & 0 &  205 & 0 & 0 & 0 &  5\\\\\n\t NBA & Jona Valanciunas & TOR & C  & 60 & 1558 & 303 &  536 &   0 &   0 & ⋯ &  25 &  85 &  80 & 158 & 2 &  768 & 3 & 0 & 0 & 59\\\\\n\t NBA & Rashad Vaughn    & MIL & SG & 70 & 1000 &  82 &  266 &  44 & 147 & ⋯ &  29 &  28 &  16 &  73 & 0 &  220 & 0 & 0 & 0 &  6\\\\\n\t NBA & Charl Villanueva & DAL & PF & 62 &  667 & 125 &  328 &  47 & 173 & ⋯ &  18 &  31 &  15 &  71 & 0 &  319 & 2 & 0 & 0 &  4\\\\\n\t NBA & Noah Vonleh      & POR & PF & 78 & 1173 & 117 &  279 &  11 &  47 & ⋯ &  27 &  50 &  26 & 152 & 1 &  283 & 0 & 0 & 0 & 56\\\\\n\t NBA & Nikola Vucevic   & ORL & C  & 65 & 2038 & 533 & 1046 &   2 &   9 & ⋯ &  54 & 123 &  70 & 173 & 2 & 1181 & 2 & 0 & 0 & 60\\\\\n\t NBA & Sasha Vujacic    & NYK & SG & 61 &  910 & 106 &  277 &  52 & 143 & ⋯ &  34 &  44 &   5 &  83 & 0 &  296 & 1 & 0 & 0 & 25\\\\\n\t NBA & Dwyane Wade      & MIA & SG & 74 & 2258 & 540 & 1183 &   7 &  44 & ⋯ &  79 & 203 &  42 & 116 & 0 & 1409 & 3 & 0 & 0 & 73\\\\\n\t NBA & Dion Waiters     & OKL & SG & 78 & 2157 & 282 &  705 &  86 & 241 & ⋯ &  81 & 120 &  15 & 143 & 0 &  762 & 4 & 0 & 0 & 15\\\\\n\t NBA & Kemba Walker     & CHA & PG & 81 & 2885 & 568 & 1332 & 182 & 490 & ⋯ & 127 & 171 &  39 & 111 & 0 & 1689 & 5 & 0 & 0 & 81\\\\\n\t NBA & John Wall        & WAS & PG & 77 & 2783 & 572 & 1349 & 115 & 327 & ⋯ & 145 & 318 &  59 & 159 & 0 & 1531 & 7 & 0 & 0 & 77\\\\\n\t NBA & T.j. Warren      & PHO & SF & 47 & 1065 & 221 &  441 &  28 &  70 & ⋯ &  37 &  32 &  16 &  94 & 0 &  515 & 0 & 0 & 0 &  4\\\\\n\t NBA & David West       & SAN & PF & 78 & 1408 & 244 &  448 &   3 &   7 & ⋯ &  44 &  67 &  55 & 142 & 1 &  554 & 2 & 0 & 0 & 19\\\\\n\t NBA & Russel Westbrook & OKL & PG & 80 & 2749 & 656 & 1444 & 101 & 341 & ⋯ & 163 & 342 &  20 & 200 & 2 & 1878 & 6 & 0 & 0 & 80\\\\\n\t NBA & Hassan Whiteside & MIA & C  & 73 & 2122 & 412 &  681 &   0 &   0 & ⋯ &  44 & 137 & 269 & 201 & 2 & 1038 & 2 & 0 & 0 & 43\\\\\n\t NBA & Andrew Wiggins   & MIN & SF & 81 & 2844 & 594 & 1294 &  57 & 190 & ⋯ &  78 & 182 &  46 & 165 & 1 & 1675 & 1 & 0 & 0 & 81\\\\\n\t NBA & Deron Williams   & DAL & PG & 65 & 2107 & 321 &  775 &  97 & 282 & ⋯ &  61 & 150 &  14 & 155 & 0 &  918 & 0 & 0 & 0 & 63\\\\\n\t NBA & Derrick Williams & NYK & PF & 80 & 1442 & 254 &  565 &  44 & 150 & ⋯ &  30 &  61 &   9 &  69 & 0 &  746 & 0 & 0 & 0 &  9\\\\\n\t NBA & Louis Williams   & LAL & SG & 67 & 1911 & 283 &  695 & 110 & 321 & ⋯ &  62 & 107 &  19 & 107 & 1 & 1028 & 1 & 0 & 0 & 35\\\\\n\t NBA & Marvin Williams  & CHA & PF & 81 & 2339 & 338 &  747 & 152 & 379 & ⋯ &  58 &  62 &  77 & 133 & 1 &  948 & 0 & 0 & 0 & 81\\\\\n\t NBA & Mo Williams      & CLE & PG & 41 &  748 & 132 &  302 &  36 & 102 & ⋯ &  14 &  57 &   5 &  60 & 0 &  338 & 1 & 0 & 0 & 14\\\\\n\t NBA & Justise Winslow  & MIA & SF & 78 & 2237 & 196 &  463 &  32 & 116 & ⋯ &  68 &  95 &  26 & 184 & 0 &  504 & 0 & 0 & 0 &  8\\\\\n\t NBA & Jeff Withey      & UTA & C  & 51 &  653 &  87 &  161 &   0 &   2 & ⋯ &  21 &  28 &  53 &  74 & 1 &  217 & 0 & 0 & 0 & 10\\\\\n\t NBA & Joseph Young     & IND & PG & 41 &  384 &  62 &  170 &  10 &  46 & ⋯ &  15 &  33 &   0 &  30 & 0 &  154 & 0 & 0 & 0 &  0\\\\\n\t NBA & Nick Young       & LAL & SF & 54 & 1036 & 126 &  372 &  77 & 237 & ⋯ &  23 &  30 &   7 &  50 & 0 &  392 & 1 & 0 & 0 &  2\\\\\n\t NBA & Thaddeus Young   & BRO & SF & 73 & 2413 & 495 &  963 &   7 &  30 & ⋯ & 112 & 136 &  37 & 182 & 3 & 1102 & 1 & 0 & 0 & 73\\\\\n\t NBA & Cody Zeller      & CHA & PF & 73 & 1773 & 231 &  437 &   1 &  10 & ⋯ &  57 &  68 &  63 & 204 & 4 &  638 & 0 & 0 & 0 & 60\\\\\n\t NBA & Tyler Zeller     & BOS & C  & 60 &  714 & 138 &  290 &   0 &   0 & ⋯ &  10 &  46 &  22 &  97 & 1 &  364 & 0 & 0 & 0 &  3\\\\\n\\end{tabular}\n",
            "text/markdown": "\nA data.table: 354 × 25\n\n| League &lt;fct&gt; | Name &lt;chr&gt; | Team &lt;fct&gt; | Position &lt;fct&gt; | GamesPlayed &lt;int&gt; | TotalMinutesPlayed &lt;int&gt; | FieldGoalsMade &lt;int&gt; | FieldGoalsAttempted &lt;int&gt; | ThreesMade &lt;int&gt; | ThreesAttempted &lt;int&gt; | ⋯ ⋯ | Steals &lt;int&gt; | Turnovers &lt;int&gt; | Blocks &lt;int&gt; | PersonalFouls &lt;int&gt; | Disqualifications &lt;int&gt; | TotalPoints &lt;int&gt; | Technicals &lt;int&gt; | Ejections &lt;int&gt; | FlagrantFouls &lt;int&gt; | GamesStarted &lt;int&gt; |\n|---|---|---|---|---|---|---|---|---|---|---|---|---|---|---|---|---|---|---|---|---|\n| NBA | Quincy Acy       | SAC | SF | 59 |  877 | 119 |  214 |  19 |  49 | ⋯ |  29 |  27 |  24 | 103 | 0 |  307 | 3 | 0 | 0 | 29 |\n| NBA | Steven Adams     | OKL | C  | 80 | 2019 | 261 |  426 |   0 |   0 | ⋯ |  42 |  84 |  89 | 223 | 2 |  636 | 2 | 0 | 0 | 80 |\n| NBA | Arron Afflalo    | NYK | SG | 71 | 2359 | 354 |  799 |  91 | 238 | ⋯ |  25 |  82 |  10 | 142 | 1 |  909 | 1 | 0 | 0 | 57 |\n| NBA | Alexis Ajinca    | NOR | C  | 59 |  863 | 150 |  314 |   0 |   1 | ⋯ |  19 |  54 |  36 | 134 | 0 |  352 | 2 | 0 | 0 | 17 |\n| NBA | Cole Aldrich     | LAC | C  | 60 |  802 | 134 |  225 |   0 |   0 | ⋯ |  47 |  64 |  68 | 139 | 1 |  328 | 0 | 0 | 0 |  5 |\n| NBA | Lamarcu Aldridge | SAN | PF | 74 | 2260 | 536 | 1045 |   0 |  16 | ⋯ |  38 |  99 |  81 | 151 | 0 | 1331 | 0 | 0 | 0 | 74 |\n| NBA | Lavoy Allen      | IND | PF | 79 | 1601 | 191 |  370 |   0 |   0 | ⋯ |  26 |  69 |  42 | 147 | 1 |  428 | 0 | 0 | 0 | 28 |\n| NBA | Tony Allen       | MEM | SG | 64 | 1622 | 215 |  469 |  15 |  42 | ⋯ | 109 |  78 |  18 | 175 | 1 |  535 | 1 | 0 | 0 | 56 |\n| NBA | Al-farouq Aminu  | POR | SF | 82 | 2342 | 299 |  719 | 126 | 349 | ⋯ |  72 | 120 |  53 | 171 | 0 |  839 | 3 | 0 | 0 | 82 |\n| NBA | James Anderson   | SAC | SG | 51 |  721 |  67 |  178 |  23 |  86 | ⋯ |  21 |  42 |  14 |  54 | 0 |  179 | 0 | 0 | 0 | 15 |\n| NBA | Justin Anderson  | DAL | SG | 55 |  644 |  71 |  176 |  22 |  83 | ⋯ |  19 |  24 |  25 |  45 | 0 |  208 | 0 | 0 | 0 |  9 |\n| NBA | Kyle Anderson    | SAN | SF | 78 | 1247 | 138 |  296 |  12 |  37 | ⋯ |  60 |  59 |  29 |  97 | 0 |  350 | 0 | 0 | 0 | 11 |\n| NBA | Ryan Anderson    | NOR | PF | 66 | 2011 | 397 |  928 | 131 | 357 | ⋯ |  38 |  90 |  25 | 109 | 0 | 1124 | 3 | 0 | 0 |  7 |\n| NBA | Gi Antetokounmpo | MIL | SF | 80 | 2825 | 513 | 1012 |  28 | 110 | ⋯ |  94 | 208 | 113 | 258 | 7 | 1350 | 1 | 0 | 0 | 79 |\n| NBA | Carmelo Anthony  | NYK | SF | 72 | 2529 | 567 | 1307 | 105 | 310 | ⋯ |  62 | 176 |  38 | 180 | 1 | 1573 | 4 | 0 | 0 | 72 |\n| NBA | Trevor Ariza     | HOU | SF | 81 | 2860 | 357 |  858 | 185 | 497 | ⋯ | 161 | 113 |  26 | 177 | 0 | 1025 | 2 | 0 | 0 | 81 |\n| NBA | Ron Artest       | LAL | SF | 35 |  588 |  55 |  177 |  26 |  84 | ⋯ |  22 |  15 |  11 |  67 | 1 |  176 | 1 | 0 | 0 |  5 |\n| NBA | Darrell Arthur   | DEN | PF | 70 | 1517 | 221 |  489 |  45 | 117 | ⋯ |  53 |  66 |  48 | 185 | 1 |  527 | 2 | 0 | 0 | 16 |\n| NBA | Omer Asik        | NOR | C  | 68 | 1181 | 104 |  196 |   0 |   0 | ⋯ |  21 |  60 |  23 | 124 | 0 |  269 | 0 | 0 | 0 | 64 |\n| NBA | D.j. Augustin    | DEN | PG | 62 | 1182 | 148 |  350 |  68 | 169 | ⋯ |  38 |  84 |   4 |  85 | 0 |  467 | 0 | 0 | 0 |  0 |\n| NBA | Luke Babbitt     | NOR | SF | 47 |  847 | 122 |  289 |  44 | 109 | ⋯ |  11 |  23 |   7 |  90 | 0 |  327 | 1 | 0 | 0 | 13 |\n| NBA | Leandro Barbosa  | GSW | SG | 68 | 1079 | 171 |  370 |  39 | 111 | ⋯ |  44 |  53 |  10 | 107 | 0 |  433 | 1 | 0 | 0 |  0 |\n| NBA | J.j. Barea       | DAL | PG | 74 | 1666 | 317 |  710 | 100 | 259 | ⋯ |  26 | 113 |   2 | 110 | 0 |  808 | 3 | 0 | 0 | 16 |\n| NBA | Andrea Bargnani  | BRO | C  | 46 |  634 | 127 |  278 |   3 |  15 | ⋯ |   4 |  26 |   9 |  61 | 0 |  304 | 0 | 0 | 0 |  0 |\n| NBA | Harrison Barnes  | GSW | SF | 66 | 2043 | 295 |  633 |  82 | 214 | ⋯ |  41 |  58 |  10 | 136 | 1 |  774 | 0 | 0 | 0 | 59 |\n| NBA | Matt Barnes      | MEM | SF | 76 | 2190 | 264 |  693 | 119 | 370 | ⋯ |  78 | 121 |  57 | 234 | 1 |  758 | 4 | 0 | 0 | 45 |\n| NBA | Will Barton      | DEN | SG | 82 | 2355 | 426 |  984 | 112 | 324 | ⋯ |  71 | 139 |  39 | 147 | 0 | 1180 | 2 | 0 | 0 |  1 |\n| NBA | Brandon Bass     | LAL | PF | 66 | 1342 | 174 |  317 |   0 |   2 | ⋯ |  33 |  42 |  55 | 125 | 1 |  473 | 0 | 0 | 0 |  0 |\n| NBA | Nicolas Batum    | CHA | SF | 70 | 2453 | 372 |  872 | 139 | 399 | ⋯ |  65 | 205 |  43 | 114 | 0 | 1046 | 1 | 0 | 0 | 70 |\n| NBA | Jerryd Bayless   | MIL | PG | 52 | 1506 | 185 |  437 | 101 | 230 | ⋯ |  47 |  73 |  12 | 111 | 0 |  541 | 1 | 0 | 0 | 18 |\n| ⋮ | ⋮ | ⋮ | ⋮ | ⋮ | ⋮ | ⋮ | ⋮ | ⋮ | ⋮ | ⋱ | ⋮ | ⋮ | ⋮ | ⋮ | ⋮ | ⋮ | ⋮ | ⋮ | ⋮ | ⋮ |\n| NBA | Evan Turner      | BOS | SG | 81 | 2270 | 343 |  753 |  20 |  83 | ⋯ |  80 | 169 |  28 | 139 | 0 |  854 | 2 | 0 | 0 | 12 |\n| NBA | Myles Turner     | IND | PF | 60 | 1368 | 264 |  530 |   3 |  13 | ⋯ |  25 |  67 |  86 | 158 | 1 |  619 | 0 | 0 | 0 | 30 |\n| NBA | Beno Udrih       | MIA | PG | 44 |  708 |  86 |  197 |  15 |  44 | ⋯ |  14 |  53 |   1 |  51 | 0 |  205 | 0 | 0 | 0 |  5 |\n| NBA | Jona Valanciunas | TOR | C  | 60 | 1558 | 303 |  536 |   0 |   0 | ⋯ |  25 |  85 |  80 | 158 | 2 |  768 | 3 | 0 | 0 | 59 |\n| NBA | Rashad Vaughn    | MIL | SG | 70 | 1000 |  82 |  266 |  44 | 147 | ⋯ |  29 |  28 |  16 |  73 | 0 |  220 | 0 | 0 | 0 |  6 |\n| NBA | Charl Villanueva | DAL | PF | 62 |  667 | 125 |  328 |  47 | 173 | ⋯ |  18 |  31 |  15 |  71 | 0 |  319 | 2 | 0 | 0 |  4 |\n| NBA | Noah Vonleh      | POR | PF | 78 | 1173 | 117 |  279 |  11 |  47 | ⋯ |  27 |  50 |  26 | 152 | 1 |  283 | 0 | 0 | 0 | 56 |\n| NBA | Nikola Vucevic   | ORL | C  | 65 | 2038 | 533 | 1046 |   2 |   9 | ⋯ |  54 | 123 |  70 | 173 | 2 | 1181 | 2 | 0 | 0 | 60 |\n| NBA | Sasha Vujacic    | NYK | SG | 61 |  910 | 106 |  277 |  52 | 143 | ⋯ |  34 |  44 |   5 |  83 | 0 |  296 | 1 | 0 | 0 | 25 |\n| NBA | Dwyane Wade      | MIA | SG | 74 | 2258 | 540 | 1183 |   7 |  44 | ⋯ |  79 | 203 |  42 | 116 | 0 | 1409 | 3 | 0 | 0 | 73 |\n| NBA | Dion Waiters     | OKL | SG | 78 | 2157 | 282 |  705 |  86 | 241 | ⋯ |  81 | 120 |  15 | 143 | 0 |  762 | 4 | 0 | 0 | 15 |\n| NBA | Kemba Walker     | CHA | PG | 81 | 2885 | 568 | 1332 | 182 | 490 | ⋯ | 127 | 171 |  39 | 111 | 0 | 1689 | 5 | 0 | 0 | 81 |\n| NBA | John Wall        | WAS | PG | 77 | 2783 | 572 | 1349 | 115 | 327 | ⋯ | 145 | 318 |  59 | 159 | 0 | 1531 | 7 | 0 | 0 | 77 |\n| NBA | T.j. Warren      | PHO | SF | 47 | 1065 | 221 |  441 |  28 |  70 | ⋯ |  37 |  32 |  16 |  94 | 0 |  515 | 0 | 0 | 0 |  4 |\n| NBA | David West       | SAN | PF | 78 | 1408 | 244 |  448 |   3 |   7 | ⋯ |  44 |  67 |  55 | 142 | 1 |  554 | 2 | 0 | 0 | 19 |\n| NBA | Russel Westbrook | OKL | PG | 80 | 2749 | 656 | 1444 | 101 | 341 | ⋯ | 163 | 342 |  20 | 200 | 2 | 1878 | 6 | 0 | 0 | 80 |\n| NBA | Hassan Whiteside | MIA | C  | 73 | 2122 | 412 |  681 |   0 |   0 | ⋯ |  44 | 137 | 269 | 201 | 2 | 1038 | 2 | 0 | 0 | 43 |\n| NBA | Andrew Wiggins   | MIN | SF | 81 | 2844 | 594 | 1294 |  57 | 190 | ⋯ |  78 | 182 |  46 | 165 | 1 | 1675 | 1 | 0 | 0 | 81 |\n| NBA | Deron Williams   | DAL | PG | 65 | 2107 | 321 |  775 |  97 | 282 | ⋯ |  61 | 150 |  14 | 155 | 0 |  918 | 0 | 0 | 0 | 63 |\n| NBA | Derrick Williams | NYK | PF | 80 | 1442 | 254 |  565 |  44 | 150 | ⋯ |  30 |  61 |   9 |  69 | 0 |  746 | 0 | 0 | 0 |  9 |\n| NBA | Louis Williams   | LAL | SG | 67 | 1911 | 283 |  695 | 110 | 321 | ⋯ |  62 | 107 |  19 | 107 | 1 | 1028 | 1 | 0 | 0 | 35 |\n| NBA | Marvin Williams  | CHA | PF | 81 | 2339 | 338 |  747 | 152 | 379 | ⋯ |  58 |  62 |  77 | 133 | 1 |  948 | 0 | 0 | 0 | 81 |\n| NBA | Mo Williams      | CLE | PG | 41 |  748 | 132 |  302 |  36 | 102 | ⋯ |  14 |  57 |   5 |  60 | 0 |  338 | 1 | 0 | 0 | 14 |\n| NBA | Justise Winslow  | MIA | SF | 78 | 2237 | 196 |  463 |  32 | 116 | ⋯ |  68 |  95 |  26 | 184 | 0 |  504 | 0 | 0 | 0 |  8 |\n| NBA | Jeff Withey      | UTA | C  | 51 |  653 |  87 |  161 |   0 |   2 | ⋯ |  21 |  28 |  53 |  74 | 1 |  217 | 0 | 0 | 0 | 10 |\n| NBA | Joseph Young     | IND | PG | 41 |  384 |  62 |  170 |  10 |  46 | ⋯ |  15 |  33 |   0 |  30 | 0 |  154 | 0 | 0 | 0 |  0 |\n| NBA | Nick Young       | LAL | SF | 54 | 1036 | 126 |  372 |  77 | 237 | ⋯ |  23 |  30 |   7 |  50 | 0 |  392 | 1 | 0 | 0 |  2 |\n| NBA | Thaddeus Young   | BRO | SF | 73 | 2413 | 495 |  963 |   7 |  30 | ⋯ | 112 | 136 |  37 | 182 | 3 | 1102 | 1 | 0 | 0 | 73 |\n| NBA | Cody Zeller      | CHA | PF | 73 | 1773 | 231 |  437 |   1 |  10 | ⋯ |  57 |  68 |  63 | 204 | 4 |  638 | 0 | 0 | 0 | 60 |\n| NBA | Tyler Zeller     | BOS | C  | 60 |  714 | 138 |  290 |   0 |   0 | ⋯ |  10 |  46 |  22 |  97 | 1 |  364 | 0 | 0 | 0 |  3 |\n\n",
            "text/html": [
              "<table>\n",
              "<caption>A data.table: 354 × 25</caption>\n",
              "<thead>\n",
              "\t<tr><th scope=col>League</th><th scope=col>Name</th><th scope=col>Team</th><th scope=col>Position</th><th scope=col>GamesPlayed</th><th scope=col>TotalMinutesPlayed</th><th scope=col>FieldGoalsMade</th><th scope=col>FieldGoalsAttempted</th><th scope=col>ThreesMade</th><th scope=col>ThreesAttempted</th><th scope=col>⋯</th><th scope=col>Steals</th><th scope=col>Turnovers</th><th scope=col>Blocks</th><th scope=col>PersonalFouls</th><th scope=col>Disqualifications</th><th scope=col>TotalPoints</th><th scope=col>Technicals</th><th scope=col>Ejections</th><th scope=col>FlagrantFouls</th><th scope=col>GamesStarted</th></tr>\n",
              "\t<tr><th scope=col>&lt;fct&gt;</th><th scope=col>&lt;chr&gt;</th><th scope=col>&lt;fct&gt;</th><th scope=col>&lt;fct&gt;</th><th scope=col>&lt;int&gt;</th><th scope=col>&lt;int&gt;</th><th scope=col>&lt;int&gt;</th><th scope=col>&lt;int&gt;</th><th scope=col>&lt;int&gt;</th><th scope=col>&lt;int&gt;</th><th scope=col>⋯</th><th scope=col>&lt;int&gt;</th><th scope=col>&lt;int&gt;</th><th scope=col>&lt;int&gt;</th><th scope=col>&lt;int&gt;</th><th scope=col>&lt;int&gt;</th><th scope=col>&lt;int&gt;</th><th scope=col>&lt;int&gt;</th><th scope=col>&lt;int&gt;</th><th scope=col>&lt;int&gt;</th><th scope=col>&lt;int&gt;</th></tr>\n",
              "</thead>\n",
              "<tbody>\n",
              "\t<tr><td>NBA</td><td>Quincy Acy      </td><td>SAC</td><td>SF</td><td>59</td><td> 877</td><td>119</td><td> 214</td><td> 19</td><td> 49</td><td>⋯</td><td> 29</td><td> 27</td><td> 24</td><td>103</td><td>0</td><td> 307</td><td>3</td><td>0</td><td>0</td><td>29</td></tr>\n",
              "\t<tr><td>NBA</td><td>Steven Adams    </td><td>OKL</td><td>C </td><td>80</td><td>2019</td><td>261</td><td> 426</td><td>  0</td><td>  0</td><td>⋯</td><td> 42</td><td> 84</td><td> 89</td><td>223</td><td>2</td><td> 636</td><td>2</td><td>0</td><td>0</td><td>80</td></tr>\n",
              "\t<tr><td>NBA</td><td>Arron Afflalo   </td><td>NYK</td><td>SG</td><td>71</td><td>2359</td><td>354</td><td> 799</td><td> 91</td><td>238</td><td>⋯</td><td> 25</td><td> 82</td><td> 10</td><td>142</td><td>1</td><td> 909</td><td>1</td><td>0</td><td>0</td><td>57</td></tr>\n",
              "\t<tr><td>NBA</td><td>Alexis Ajinca   </td><td>NOR</td><td>C </td><td>59</td><td> 863</td><td>150</td><td> 314</td><td>  0</td><td>  1</td><td>⋯</td><td> 19</td><td> 54</td><td> 36</td><td>134</td><td>0</td><td> 352</td><td>2</td><td>0</td><td>0</td><td>17</td></tr>\n",
              "\t<tr><td>NBA</td><td>Cole Aldrich    </td><td>LAC</td><td>C </td><td>60</td><td> 802</td><td>134</td><td> 225</td><td>  0</td><td>  0</td><td>⋯</td><td> 47</td><td> 64</td><td> 68</td><td>139</td><td>1</td><td> 328</td><td>0</td><td>0</td><td>0</td><td> 5</td></tr>\n",
              "\t<tr><td>NBA</td><td>Lamarcu Aldridge</td><td>SAN</td><td>PF</td><td>74</td><td>2260</td><td>536</td><td>1045</td><td>  0</td><td> 16</td><td>⋯</td><td> 38</td><td> 99</td><td> 81</td><td>151</td><td>0</td><td>1331</td><td>0</td><td>0</td><td>0</td><td>74</td></tr>\n",
              "\t<tr><td>NBA</td><td>Lavoy Allen     </td><td>IND</td><td>PF</td><td>79</td><td>1601</td><td>191</td><td> 370</td><td>  0</td><td>  0</td><td>⋯</td><td> 26</td><td> 69</td><td> 42</td><td>147</td><td>1</td><td> 428</td><td>0</td><td>0</td><td>0</td><td>28</td></tr>\n",
              "\t<tr><td>NBA</td><td>Tony Allen      </td><td>MEM</td><td>SG</td><td>64</td><td>1622</td><td>215</td><td> 469</td><td> 15</td><td> 42</td><td>⋯</td><td>109</td><td> 78</td><td> 18</td><td>175</td><td>1</td><td> 535</td><td>1</td><td>0</td><td>0</td><td>56</td></tr>\n",
              "\t<tr><td>NBA</td><td>Al-farouq Aminu </td><td>POR</td><td>SF</td><td>82</td><td>2342</td><td>299</td><td> 719</td><td>126</td><td>349</td><td>⋯</td><td> 72</td><td>120</td><td> 53</td><td>171</td><td>0</td><td> 839</td><td>3</td><td>0</td><td>0</td><td>82</td></tr>\n",
              "\t<tr><td>NBA</td><td>James Anderson  </td><td>SAC</td><td>SG</td><td>51</td><td> 721</td><td> 67</td><td> 178</td><td> 23</td><td> 86</td><td>⋯</td><td> 21</td><td> 42</td><td> 14</td><td> 54</td><td>0</td><td> 179</td><td>0</td><td>0</td><td>0</td><td>15</td></tr>\n",
              "\t<tr><td>NBA</td><td>Justin Anderson </td><td>DAL</td><td>SG</td><td>55</td><td> 644</td><td> 71</td><td> 176</td><td> 22</td><td> 83</td><td>⋯</td><td> 19</td><td> 24</td><td> 25</td><td> 45</td><td>0</td><td> 208</td><td>0</td><td>0</td><td>0</td><td> 9</td></tr>\n",
              "\t<tr><td>NBA</td><td>Kyle Anderson   </td><td>SAN</td><td>SF</td><td>78</td><td>1247</td><td>138</td><td> 296</td><td> 12</td><td> 37</td><td>⋯</td><td> 60</td><td> 59</td><td> 29</td><td> 97</td><td>0</td><td> 350</td><td>0</td><td>0</td><td>0</td><td>11</td></tr>\n",
              "\t<tr><td>NBA</td><td>Ryan Anderson   </td><td>NOR</td><td>PF</td><td>66</td><td>2011</td><td>397</td><td> 928</td><td>131</td><td>357</td><td>⋯</td><td> 38</td><td> 90</td><td> 25</td><td>109</td><td>0</td><td>1124</td><td>3</td><td>0</td><td>0</td><td> 7</td></tr>\n",
              "\t<tr><td>NBA</td><td>Gi Antetokounmpo</td><td>MIL</td><td>SF</td><td>80</td><td>2825</td><td>513</td><td>1012</td><td> 28</td><td>110</td><td>⋯</td><td> 94</td><td>208</td><td>113</td><td>258</td><td>7</td><td>1350</td><td>1</td><td>0</td><td>0</td><td>79</td></tr>\n",
              "\t<tr><td>NBA</td><td>Carmelo Anthony </td><td>NYK</td><td>SF</td><td>72</td><td>2529</td><td>567</td><td>1307</td><td>105</td><td>310</td><td>⋯</td><td> 62</td><td>176</td><td> 38</td><td>180</td><td>1</td><td>1573</td><td>4</td><td>0</td><td>0</td><td>72</td></tr>\n",
              "\t<tr><td>NBA</td><td>Trevor Ariza    </td><td>HOU</td><td>SF</td><td>81</td><td>2860</td><td>357</td><td> 858</td><td>185</td><td>497</td><td>⋯</td><td>161</td><td>113</td><td> 26</td><td>177</td><td>0</td><td>1025</td><td>2</td><td>0</td><td>0</td><td>81</td></tr>\n",
              "\t<tr><td>NBA</td><td>Ron Artest      </td><td>LAL</td><td>SF</td><td>35</td><td> 588</td><td> 55</td><td> 177</td><td> 26</td><td> 84</td><td>⋯</td><td> 22</td><td> 15</td><td> 11</td><td> 67</td><td>1</td><td> 176</td><td>1</td><td>0</td><td>0</td><td> 5</td></tr>\n",
              "\t<tr><td>NBA</td><td>Darrell Arthur  </td><td>DEN</td><td>PF</td><td>70</td><td>1517</td><td>221</td><td> 489</td><td> 45</td><td>117</td><td>⋯</td><td> 53</td><td> 66</td><td> 48</td><td>185</td><td>1</td><td> 527</td><td>2</td><td>0</td><td>0</td><td>16</td></tr>\n",
              "\t<tr><td>NBA</td><td>Omer Asik       </td><td>NOR</td><td>C </td><td>68</td><td>1181</td><td>104</td><td> 196</td><td>  0</td><td>  0</td><td>⋯</td><td> 21</td><td> 60</td><td> 23</td><td>124</td><td>0</td><td> 269</td><td>0</td><td>0</td><td>0</td><td>64</td></tr>\n",
              "\t<tr><td>NBA</td><td>D.j. Augustin   </td><td>DEN</td><td>PG</td><td>62</td><td>1182</td><td>148</td><td> 350</td><td> 68</td><td>169</td><td>⋯</td><td> 38</td><td> 84</td><td>  4</td><td> 85</td><td>0</td><td> 467</td><td>0</td><td>0</td><td>0</td><td> 0</td></tr>\n",
              "\t<tr><td>NBA</td><td>Luke Babbitt    </td><td>NOR</td><td>SF</td><td>47</td><td> 847</td><td>122</td><td> 289</td><td> 44</td><td>109</td><td>⋯</td><td> 11</td><td> 23</td><td>  7</td><td> 90</td><td>0</td><td> 327</td><td>1</td><td>0</td><td>0</td><td>13</td></tr>\n",
              "\t<tr><td>NBA</td><td>Leandro Barbosa </td><td>GSW</td><td>SG</td><td>68</td><td>1079</td><td>171</td><td> 370</td><td> 39</td><td>111</td><td>⋯</td><td> 44</td><td> 53</td><td> 10</td><td>107</td><td>0</td><td> 433</td><td>1</td><td>0</td><td>0</td><td> 0</td></tr>\n",
              "\t<tr><td>NBA</td><td>J.j. Barea      </td><td>DAL</td><td>PG</td><td>74</td><td>1666</td><td>317</td><td> 710</td><td>100</td><td>259</td><td>⋯</td><td> 26</td><td>113</td><td>  2</td><td>110</td><td>0</td><td> 808</td><td>3</td><td>0</td><td>0</td><td>16</td></tr>\n",
              "\t<tr><td>NBA</td><td>Andrea Bargnani </td><td>BRO</td><td>C </td><td>46</td><td> 634</td><td>127</td><td> 278</td><td>  3</td><td> 15</td><td>⋯</td><td>  4</td><td> 26</td><td>  9</td><td> 61</td><td>0</td><td> 304</td><td>0</td><td>0</td><td>0</td><td> 0</td></tr>\n",
              "\t<tr><td>NBA</td><td>Harrison Barnes </td><td>GSW</td><td>SF</td><td>66</td><td>2043</td><td>295</td><td> 633</td><td> 82</td><td>214</td><td>⋯</td><td> 41</td><td> 58</td><td> 10</td><td>136</td><td>1</td><td> 774</td><td>0</td><td>0</td><td>0</td><td>59</td></tr>\n",
              "\t<tr><td>NBA</td><td>Matt Barnes     </td><td>MEM</td><td>SF</td><td>76</td><td>2190</td><td>264</td><td> 693</td><td>119</td><td>370</td><td>⋯</td><td> 78</td><td>121</td><td> 57</td><td>234</td><td>1</td><td> 758</td><td>4</td><td>0</td><td>0</td><td>45</td></tr>\n",
              "\t<tr><td>NBA</td><td>Will Barton     </td><td>DEN</td><td>SG</td><td>82</td><td>2355</td><td>426</td><td> 984</td><td>112</td><td>324</td><td>⋯</td><td> 71</td><td>139</td><td> 39</td><td>147</td><td>0</td><td>1180</td><td>2</td><td>0</td><td>0</td><td> 1</td></tr>\n",
              "\t<tr><td>NBA</td><td>Brandon Bass    </td><td>LAL</td><td>PF</td><td>66</td><td>1342</td><td>174</td><td> 317</td><td>  0</td><td>  2</td><td>⋯</td><td> 33</td><td> 42</td><td> 55</td><td>125</td><td>1</td><td> 473</td><td>0</td><td>0</td><td>0</td><td> 0</td></tr>\n",
              "\t<tr><td>NBA</td><td>Nicolas Batum   </td><td>CHA</td><td>SF</td><td>70</td><td>2453</td><td>372</td><td> 872</td><td>139</td><td>399</td><td>⋯</td><td> 65</td><td>205</td><td> 43</td><td>114</td><td>0</td><td>1046</td><td>1</td><td>0</td><td>0</td><td>70</td></tr>\n",
              "\t<tr><td>NBA</td><td>Jerryd Bayless  </td><td>MIL</td><td>PG</td><td>52</td><td>1506</td><td>185</td><td> 437</td><td>101</td><td>230</td><td>⋯</td><td> 47</td><td> 73</td><td> 12</td><td>111</td><td>0</td><td> 541</td><td>1</td><td>0</td><td>0</td><td>18</td></tr>\n",
              "\t<tr><td>⋮</td><td>⋮</td><td>⋮</td><td>⋮</td><td>⋮</td><td>⋮</td><td>⋮</td><td>⋮</td><td>⋮</td><td>⋮</td><td>⋱</td><td>⋮</td><td>⋮</td><td>⋮</td><td>⋮</td><td>⋮</td><td>⋮</td><td>⋮</td><td>⋮</td><td>⋮</td><td>⋮</td></tr>\n",
              "\t<tr><td>NBA</td><td>Evan Turner     </td><td>BOS</td><td>SG</td><td>81</td><td>2270</td><td>343</td><td> 753</td><td> 20</td><td> 83</td><td>⋯</td><td> 80</td><td>169</td><td> 28</td><td>139</td><td>0</td><td> 854</td><td>2</td><td>0</td><td>0</td><td>12</td></tr>\n",
              "\t<tr><td>NBA</td><td>Myles Turner    </td><td>IND</td><td>PF</td><td>60</td><td>1368</td><td>264</td><td> 530</td><td>  3</td><td> 13</td><td>⋯</td><td> 25</td><td> 67</td><td> 86</td><td>158</td><td>1</td><td> 619</td><td>0</td><td>0</td><td>0</td><td>30</td></tr>\n",
              "\t<tr><td>NBA</td><td>Beno Udrih      </td><td>MIA</td><td>PG</td><td>44</td><td> 708</td><td> 86</td><td> 197</td><td> 15</td><td> 44</td><td>⋯</td><td> 14</td><td> 53</td><td>  1</td><td> 51</td><td>0</td><td> 205</td><td>0</td><td>0</td><td>0</td><td> 5</td></tr>\n",
              "\t<tr><td>NBA</td><td>Jona Valanciunas</td><td>TOR</td><td>C </td><td>60</td><td>1558</td><td>303</td><td> 536</td><td>  0</td><td>  0</td><td>⋯</td><td> 25</td><td> 85</td><td> 80</td><td>158</td><td>2</td><td> 768</td><td>3</td><td>0</td><td>0</td><td>59</td></tr>\n",
              "\t<tr><td>NBA</td><td>Rashad Vaughn   </td><td>MIL</td><td>SG</td><td>70</td><td>1000</td><td> 82</td><td> 266</td><td> 44</td><td>147</td><td>⋯</td><td> 29</td><td> 28</td><td> 16</td><td> 73</td><td>0</td><td> 220</td><td>0</td><td>0</td><td>0</td><td> 6</td></tr>\n",
              "\t<tr><td>NBA</td><td>Charl Villanueva</td><td>DAL</td><td>PF</td><td>62</td><td> 667</td><td>125</td><td> 328</td><td> 47</td><td>173</td><td>⋯</td><td> 18</td><td> 31</td><td> 15</td><td> 71</td><td>0</td><td> 319</td><td>2</td><td>0</td><td>0</td><td> 4</td></tr>\n",
              "\t<tr><td>NBA</td><td>Noah Vonleh     </td><td>POR</td><td>PF</td><td>78</td><td>1173</td><td>117</td><td> 279</td><td> 11</td><td> 47</td><td>⋯</td><td> 27</td><td> 50</td><td> 26</td><td>152</td><td>1</td><td> 283</td><td>0</td><td>0</td><td>0</td><td>56</td></tr>\n",
              "\t<tr><td>NBA</td><td>Nikola Vucevic  </td><td>ORL</td><td>C </td><td>65</td><td>2038</td><td>533</td><td>1046</td><td>  2</td><td>  9</td><td>⋯</td><td> 54</td><td>123</td><td> 70</td><td>173</td><td>2</td><td>1181</td><td>2</td><td>0</td><td>0</td><td>60</td></tr>\n",
              "\t<tr><td>NBA</td><td>Sasha Vujacic   </td><td>NYK</td><td>SG</td><td>61</td><td> 910</td><td>106</td><td> 277</td><td> 52</td><td>143</td><td>⋯</td><td> 34</td><td> 44</td><td>  5</td><td> 83</td><td>0</td><td> 296</td><td>1</td><td>0</td><td>0</td><td>25</td></tr>\n",
              "\t<tr><td>NBA</td><td>Dwyane Wade     </td><td>MIA</td><td>SG</td><td>74</td><td>2258</td><td>540</td><td>1183</td><td>  7</td><td> 44</td><td>⋯</td><td> 79</td><td>203</td><td> 42</td><td>116</td><td>0</td><td>1409</td><td>3</td><td>0</td><td>0</td><td>73</td></tr>\n",
              "\t<tr><td>NBA</td><td>Dion Waiters    </td><td>OKL</td><td>SG</td><td>78</td><td>2157</td><td>282</td><td> 705</td><td> 86</td><td>241</td><td>⋯</td><td> 81</td><td>120</td><td> 15</td><td>143</td><td>0</td><td> 762</td><td>4</td><td>0</td><td>0</td><td>15</td></tr>\n",
              "\t<tr><td>NBA</td><td>Kemba Walker    </td><td>CHA</td><td>PG</td><td>81</td><td>2885</td><td>568</td><td>1332</td><td>182</td><td>490</td><td>⋯</td><td>127</td><td>171</td><td> 39</td><td>111</td><td>0</td><td>1689</td><td>5</td><td>0</td><td>0</td><td>81</td></tr>\n",
              "\t<tr><td>NBA</td><td>John Wall       </td><td>WAS</td><td>PG</td><td>77</td><td>2783</td><td>572</td><td>1349</td><td>115</td><td>327</td><td>⋯</td><td>145</td><td>318</td><td> 59</td><td>159</td><td>0</td><td>1531</td><td>7</td><td>0</td><td>0</td><td>77</td></tr>\n",
              "\t<tr><td>NBA</td><td>T.j. Warren     </td><td>PHO</td><td>SF</td><td>47</td><td>1065</td><td>221</td><td> 441</td><td> 28</td><td> 70</td><td>⋯</td><td> 37</td><td> 32</td><td> 16</td><td> 94</td><td>0</td><td> 515</td><td>0</td><td>0</td><td>0</td><td> 4</td></tr>\n",
              "\t<tr><td>NBA</td><td>David West      </td><td>SAN</td><td>PF</td><td>78</td><td>1408</td><td>244</td><td> 448</td><td>  3</td><td>  7</td><td>⋯</td><td> 44</td><td> 67</td><td> 55</td><td>142</td><td>1</td><td> 554</td><td>2</td><td>0</td><td>0</td><td>19</td></tr>\n",
              "\t<tr><td>NBA</td><td>Russel Westbrook</td><td>OKL</td><td>PG</td><td>80</td><td>2749</td><td>656</td><td>1444</td><td>101</td><td>341</td><td>⋯</td><td>163</td><td>342</td><td> 20</td><td>200</td><td>2</td><td>1878</td><td>6</td><td>0</td><td>0</td><td>80</td></tr>\n",
              "\t<tr><td>NBA</td><td>Hassan Whiteside</td><td>MIA</td><td>C </td><td>73</td><td>2122</td><td>412</td><td> 681</td><td>  0</td><td>  0</td><td>⋯</td><td> 44</td><td>137</td><td>269</td><td>201</td><td>2</td><td>1038</td><td>2</td><td>0</td><td>0</td><td>43</td></tr>\n",
              "\t<tr><td>NBA</td><td>Andrew Wiggins  </td><td>MIN</td><td>SF</td><td>81</td><td>2844</td><td>594</td><td>1294</td><td> 57</td><td>190</td><td>⋯</td><td> 78</td><td>182</td><td> 46</td><td>165</td><td>1</td><td>1675</td><td>1</td><td>0</td><td>0</td><td>81</td></tr>\n",
              "\t<tr><td>NBA</td><td>Deron Williams  </td><td>DAL</td><td>PG</td><td>65</td><td>2107</td><td>321</td><td> 775</td><td> 97</td><td>282</td><td>⋯</td><td> 61</td><td>150</td><td> 14</td><td>155</td><td>0</td><td> 918</td><td>0</td><td>0</td><td>0</td><td>63</td></tr>\n",
              "\t<tr><td>NBA</td><td>Derrick Williams</td><td>NYK</td><td>PF</td><td>80</td><td>1442</td><td>254</td><td> 565</td><td> 44</td><td>150</td><td>⋯</td><td> 30</td><td> 61</td><td>  9</td><td> 69</td><td>0</td><td> 746</td><td>0</td><td>0</td><td>0</td><td> 9</td></tr>\n",
              "\t<tr><td>NBA</td><td>Louis Williams  </td><td>LAL</td><td>SG</td><td>67</td><td>1911</td><td>283</td><td> 695</td><td>110</td><td>321</td><td>⋯</td><td> 62</td><td>107</td><td> 19</td><td>107</td><td>1</td><td>1028</td><td>1</td><td>0</td><td>0</td><td>35</td></tr>\n",
              "\t<tr><td>NBA</td><td>Marvin Williams </td><td>CHA</td><td>PF</td><td>81</td><td>2339</td><td>338</td><td> 747</td><td>152</td><td>379</td><td>⋯</td><td> 58</td><td> 62</td><td> 77</td><td>133</td><td>1</td><td> 948</td><td>0</td><td>0</td><td>0</td><td>81</td></tr>\n",
              "\t<tr><td>NBA</td><td>Mo Williams     </td><td>CLE</td><td>PG</td><td>41</td><td> 748</td><td>132</td><td> 302</td><td> 36</td><td>102</td><td>⋯</td><td> 14</td><td> 57</td><td>  5</td><td> 60</td><td>0</td><td> 338</td><td>1</td><td>0</td><td>0</td><td>14</td></tr>\n",
              "\t<tr><td>NBA</td><td>Justise Winslow </td><td>MIA</td><td>SF</td><td>78</td><td>2237</td><td>196</td><td> 463</td><td> 32</td><td>116</td><td>⋯</td><td> 68</td><td> 95</td><td> 26</td><td>184</td><td>0</td><td> 504</td><td>0</td><td>0</td><td>0</td><td> 8</td></tr>\n",
              "\t<tr><td>NBA</td><td>Jeff Withey     </td><td>UTA</td><td>C </td><td>51</td><td> 653</td><td> 87</td><td> 161</td><td>  0</td><td>  2</td><td>⋯</td><td> 21</td><td> 28</td><td> 53</td><td> 74</td><td>1</td><td> 217</td><td>0</td><td>0</td><td>0</td><td>10</td></tr>\n",
              "\t<tr><td>NBA</td><td>Joseph Young    </td><td>IND</td><td>PG</td><td>41</td><td> 384</td><td> 62</td><td> 170</td><td> 10</td><td> 46</td><td>⋯</td><td> 15</td><td> 33</td><td>  0</td><td> 30</td><td>0</td><td> 154</td><td>0</td><td>0</td><td>0</td><td> 0</td></tr>\n",
              "\t<tr><td>NBA</td><td>Nick Young      </td><td>LAL</td><td>SF</td><td>54</td><td>1036</td><td>126</td><td> 372</td><td> 77</td><td>237</td><td>⋯</td><td> 23</td><td> 30</td><td>  7</td><td> 50</td><td>0</td><td> 392</td><td>1</td><td>0</td><td>0</td><td> 2</td></tr>\n",
              "\t<tr><td>NBA</td><td>Thaddeus Young  </td><td>BRO</td><td>SF</td><td>73</td><td>2413</td><td>495</td><td> 963</td><td>  7</td><td> 30</td><td>⋯</td><td>112</td><td>136</td><td> 37</td><td>182</td><td>3</td><td>1102</td><td>1</td><td>0</td><td>0</td><td>73</td></tr>\n",
              "\t<tr><td>NBA</td><td>Cody Zeller     </td><td>CHA</td><td>PF</td><td>73</td><td>1773</td><td>231</td><td> 437</td><td>  1</td><td> 10</td><td>⋯</td><td> 57</td><td> 68</td><td> 63</td><td>204</td><td>4</td><td> 638</td><td>0</td><td>0</td><td>0</td><td>60</td></tr>\n",
              "\t<tr><td>NBA</td><td>Tyler Zeller    </td><td>BOS</td><td>C </td><td>60</td><td> 714</td><td>138</td><td> 290</td><td>  0</td><td>  0</td><td>⋯</td><td> 10</td><td> 46</td><td> 22</td><td> 97</td><td>1</td><td> 364</td><td>0</td><td>0</td><td>0</td><td> 3</td></tr>\n",
              "</tbody>\n",
              "</table>\n"
            ]
          },
          "metadata": {
            "tags": []
          }
        },
        {
          "output_type": "display_data",
          "data": {
            "text/plain": [
              "   League Name            Team Position GamesPlayed TotalMinutesPlayed\n",
              "1  NBA    Jose Calderon   NYK  PG       72          2021              \n",
              "2  NBA    Isaiah Canaan   PHI  PG       77          1968              \n",
              "3  NBA    Carter-williams MIL  PG       54          1649              \n",
              "4  NBA    Mario Chalmers  MEM  PG       61          1378              \n",
              "5  NBA    Jordan Clarkson LAL  PG       79          2556              \n",
              "6  NBA    Norris Cole     NOR  PG       45          1199              \n",
              "7  NBA    Darren Collison SAC  PG       74          2216              \n",
              "8  NBA    Mike Conley     MEM  PG       56          1754              \n",
              "9  NBA    Bryce Cotton    MEM  PG        8            41              \n",
              "10 NBA    Stephen Curry   GSW  PG       79          2705              \n",
              "11 NBA    Cory Joseph     TOR  PG       80          2053              \n",
              "12 NBA    Chris Paul      LAC  PG       74          2425              \n",
              "13 NBA    Cameron Payne   OKL  PG       57           703              \n",
              "14 NBA    C.j. Watson     ORL  PG       33           655              \n",
              "   FieldGoalsMade FieldGoalsAttempted ThreesMade ThreesAttempted ⋯ Steals\n",
              "1  209             455                 84        203             ⋯  63   \n",
              "2  260             722                176        484             ⋯  56   \n",
              "3  251             555                 15         55             ⋯  80   \n",
              "4  182             444                 46        149             ⋯  88   \n",
              "5  475            1099                111        318             ⋯  88   \n",
              "6  196             485                 33        103             ⋯  37   \n",
              "7  377             776                 87        217             ⋯  76   \n",
              "8  294             696                 78        215             ⋯  67   \n",
              "9    4              10                  0          3             ⋯   3   \n",
              "10 805            1597                402        887             ⋯ 169   \n",
              "11 257             585                 30        110             ⋯  63   \n",
              "12 515            1114                122        329             ⋯ 151   \n",
              "13 114             278                 36        111             ⋯  36   \n",
              "14  47             137                 14         48             ⋯  19   \n",
              "   Turnovers Blocks PersonalFouls Disqualifications TotalPoints Technicals\n",
              "1   87        7     135           1                  544        2         \n",
              "2   91       12     133           0                  846        1         \n",
              "3  153       41     162           0                  623        3         \n",
              "4  111       13     181           0                  628        5         \n",
              "5  135        7     168           1                 1225        0         \n",
              "6   75        5     102           0                  477        0         \n",
              "7  129        4     142           0                 1035        1         \n",
              "8   84       16     100           0                  857        0         \n",
              "9    5        0       2           0                    8        0         \n",
              "10 261       16     161           0                 2375        1         \n",
              "11 102       20     131           0                  677        1         \n",
              "12 193       13     185           0                 1446        7         \n",
              "13  44        6      80           0                  283        0         \n",
              "14  25        5      49           0                  142        0         \n",
              "   Ejections FlagrantFouls GamesStarted\n",
              "1  0         0             72          \n",
              "2  0         0             39          \n",
              "3  0         0             37          \n",
              "4  0         0              7          \n",
              "5  0         0             79          \n",
              "6  0         0             23          \n",
              "7  0         0             15          \n",
              "8  0         0             56          \n",
              "9  0         0              0          \n",
              "10 0         0             79          \n",
              "11 0         0              4          \n",
              "12 0         0             74          \n",
              "13 0         0              1          \n",
              "14 0         0              2          "
            ],
            "text/latex": "A data.table: 14 × 25\n\\begin{tabular}{lllllllllllllllllllll}\n League & Name & Team & Position & GamesPlayed & TotalMinutesPlayed & FieldGoalsMade & FieldGoalsAttempted & ThreesMade & ThreesAttempted & ⋯ & Steals & Turnovers & Blocks & PersonalFouls & Disqualifications & TotalPoints & Technicals & Ejections & FlagrantFouls & GamesStarted\\\\\n <fct> & <chr> & <fct> & <fct> & <int> & <int> & <int> & <int> & <int> & <int> & ⋯ & <int> & <int> & <int> & <int> & <int> & <int> & <int> & <int> & <int> & <int>\\\\\n\\hline\n\t NBA & Jose Calderon   & NYK & PG & 72 & 2021 & 209 &  455 &  84 & 203 & ⋯ &  63 &  87 &  7 & 135 & 1 &  544 & 2 & 0 & 0 & 72\\\\\n\t NBA & Isaiah Canaan   & PHI & PG & 77 & 1968 & 260 &  722 & 176 & 484 & ⋯ &  56 &  91 & 12 & 133 & 0 &  846 & 1 & 0 & 0 & 39\\\\\n\t NBA & Carter-williams & MIL & PG & 54 & 1649 & 251 &  555 &  15 &  55 & ⋯ &  80 & 153 & 41 & 162 & 0 &  623 & 3 & 0 & 0 & 37\\\\\n\t NBA & Mario Chalmers  & MEM & PG & 61 & 1378 & 182 &  444 &  46 & 149 & ⋯ &  88 & 111 & 13 & 181 & 0 &  628 & 5 & 0 & 0 &  7\\\\\n\t NBA & Jordan Clarkson & LAL & PG & 79 & 2556 & 475 & 1099 & 111 & 318 & ⋯ &  88 & 135 &  7 & 168 & 1 & 1225 & 0 & 0 & 0 & 79\\\\\n\t NBA & Norris Cole     & NOR & PG & 45 & 1199 & 196 &  485 &  33 & 103 & ⋯ &  37 &  75 &  5 & 102 & 0 &  477 & 0 & 0 & 0 & 23\\\\\n\t NBA & Darren Collison & SAC & PG & 74 & 2216 & 377 &  776 &  87 & 217 & ⋯ &  76 & 129 &  4 & 142 & 0 & 1035 & 1 & 0 & 0 & 15\\\\\n\t NBA & Mike Conley     & MEM & PG & 56 & 1754 & 294 &  696 &  78 & 215 & ⋯ &  67 &  84 & 16 & 100 & 0 &  857 & 0 & 0 & 0 & 56\\\\\n\t NBA & Bryce Cotton    & MEM & PG &  8 &   41 &   4 &   10 &   0 &   3 & ⋯ &   3 &   5 &  0 &   2 & 0 &    8 & 0 & 0 & 0 &  0\\\\\n\t NBA & Stephen Curry   & GSW & PG & 79 & 2705 & 805 & 1597 & 402 & 887 & ⋯ & 169 & 261 & 16 & 161 & 0 & 2375 & 1 & 0 & 0 & 79\\\\\n\t NBA & Cory Joseph     & TOR & PG & 80 & 2053 & 257 &  585 &  30 & 110 & ⋯ &  63 & 102 & 20 & 131 & 0 &  677 & 1 & 0 & 0 &  4\\\\\n\t NBA & Chris Paul      & LAC & PG & 74 & 2425 & 515 & 1114 & 122 & 329 & ⋯ & 151 & 193 & 13 & 185 & 0 & 1446 & 7 & 0 & 0 & 74\\\\\n\t NBA & Cameron Payne   & OKL & PG & 57 &  703 & 114 &  278 &  36 & 111 & ⋯ &  36 &  44 &  6 &  80 & 0 &  283 & 0 & 0 & 0 &  1\\\\\n\t NBA & C.j. Watson     & ORL & PG & 33 &  655 &  47 &  137 &  14 &  48 & ⋯ &  19 &  25 &  5 &  49 & 0 &  142 & 0 & 0 & 0 &  2\\\\\n\\end{tabular}\n",
            "text/markdown": "\nA data.table: 14 × 25\n\n| League &lt;fct&gt; | Name &lt;chr&gt; | Team &lt;fct&gt; | Position &lt;fct&gt; | GamesPlayed &lt;int&gt; | TotalMinutesPlayed &lt;int&gt; | FieldGoalsMade &lt;int&gt; | FieldGoalsAttempted &lt;int&gt; | ThreesMade &lt;int&gt; | ThreesAttempted &lt;int&gt; | ⋯ ⋯ | Steals &lt;int&gt; | Turnovers &lt;int&gt; | Blocks &lt;int&gt; | PersonalFouls &lt;int&gt; | Disqualifications &lt;int&gt; | TotalPoints &lt;int&gt; | Technicals &lt;int&gt; | Ejections &lt;int&gt; | FlagrantFouls &lt;int&gt; | GamesStarted &lt;int&gt; |\n|---|---|---|---|---|---|---|---|---|---|---|---|---|---|---|---|---|---|---|---|---|\n| NBA | Jose Calderon   | NYK | PG | 72 | 2021 | 209 |  455 |  84 | 203 | ⋯ |  63 |  87 |  7 | 135 | 1 |  544 | 2 | 0 | 0 | 72 |\n| NBA | Isaiah Canaan   | PHI | PG | 77 | 1968 | 260 |  722 | 176 | 484 | ⋯ |  56 |  91 | 12 | 133 | 0 |  846 | 1 | 0 | 0 | 39 |\n| NBA | Carter-williams | MIL | PG | 54 | 1649 | 251 |  555 |  15 |  55 | ⋯ |  80 | 153 | 41 | 162 | 0 |  623 | 3 | 0 | 0 | 37 |\n| NBA | Mario Chalmers  | MEM | PG | 61 | 1378 | 182 |  444 |  46 | 149 | ⋯ |  88 | 111 | 13 | 181 | 0 |  628 | 5 | 0 | 0 |  7 |\n| NBA | Jordan Clarkson | LAL | PG | 79 | 2556 | 475 | 1099 | 111 | 318 | ⋯ |  88 | 135 |  7 | 168 | 1 | 1225 | 0 | 0 | 0 | 79 |\n| NBA | Norris Cole     | NOR | PG | 45 | 1199 | 196 |  485 |  33 | 103 | ⋯ |  37 |  75 |  5 | 102 | 0 |  477 | 0 | 0 | 0 | 23 |\n| NBA | Darren Collison | SAC | PG | 74 | 2216 | 377 |  776 |  87 | 217 | ⋯ |  76 | 129 |  4 | 142 | 0 | 1035 | 1 | 0 | 0 | 15 |\n| NBA | Mike Conley     | MEM | PG | 56 | 1754 | 294 |  696 |  78 | 215 | ⋯ |  67 |  84 | 16 | 100 | 0 |  857 | 0 | 0 | 0 | 56 |\n| NBA | Bryce Cotton    | MEM | PG |  8 |   41 |   4 |   10 |   0 |   3 | ⋯ |   3 |   5 |  0 |   2 | 0 |    8 | 0 | 0 | 0 |  0 |\n| NBA | Stephen Curry   | GSW | PG | 79 | 2705 | 805 | 1597 | 402 | 887 | ⋯ | 169 | 261 | 16 | 161 | 0 | 2375 | 1 | 0 | 0 | 79 |\n| NBA | Cory Joseph     | TOR | PG | 80 | 2053 | 257 |  585 |  30 | 110 | ⋯ |  63 | 102 | 20 | 131 | 0 |  677 | 1 | 0 | 0 |  4 |\n| NBA | Chris Paul      | LAC | PG | 74 | 2425 | 515 | 1114 | 122 | 329 | ⋯ | 151 | 193 | 13 | 185 | 0 | 1446 | 7 | 0 | 0 | 74 |\n| NBA | Cameron Payne   | OKL | PG | 57 |  703 | 114 |  278 |  36 | 111 | ⋯ |  36 |  44 |  6 |  80 | 0 |  283 | 0 | 0 | 0 |  1 |\n| NBA | C.j. Watson     | ORL | PG | 33 |  655 |  47 |  137 |  14 |  48 | ⋯ |  19 |  25 |  5 |  49 | 0 |  142 | 0 | 0 | 0 |  2 |\n\n",
            "text/html": [
              "<table>\n",
              "<caption>A data.table: 14 × 25</caption>\n",
              "<thead>\n",
              "\t<tr><th scope=col>League</th><th scope=col>Name</th><th scope=col>Team</th><th scope=col>Position</th><th scope=col>GamesPlayed</th><th scope=col>TotalMinutesPlayed</th><th scope=col>FieldGoalsMade</th><th scope=col>FieldGoalsAttempted</th><th scope=col>ThreesMade</th><th scope=col>ThreesAttempted</th><th scope=col>⋯</th><th scope=col>Steals</th><th scope=col>Turnovers</th><th scope=col>Blocks</th><th scope=col>PersonalFouls</th><th scope=col>Disqualifications</th><th scope=col>TotalPoints</th><th scope=col>Technicals</th><th scope=col>Ejections</th><th scope=col>FlagrantFouls</th><th scope=col>GamesStarted</th></tr>\n",
              "\t<tr><th scope=col>&lt;fct&gt;</th><th scope=col>&lt;chr&gt;</th><th scope=col>&lt;fct&gt;</th><th scope=col>&lt;fct&gt;</th><th scope=col>&lt;int&gt;</th><th scope=col>&lt;int&gt;</th><th scope=col>&lt;int&gt;</th><th scope=col>&lt;int&gt;</th><th scope=col>&lt;int&gt;</th><th scope=col>&lt;int&gt;</th><th scope=col>⋯</th><th scope=col>&lt;int&gt;</th><th scope=col>&lt;int&gt;</th><th scope=col>&lt;int&gt;</th><th scope=col>&lt;int&gt;</th><th scope=col>&lt;int&gt;</th><th scope=col>&lt;int&gt;</th><th scope=col>&lt;int&gt;</th><th scope=col>&lt;int&gt;</th><th scope=col>&lt;int&gt;</th><th scope=col>&lt;int&gt;</th></tr>\n",
              "</thead>\n",
              "<tbody>\n",
              "\t<tr><td>NBA</td><td>Jose Calderon  </td><td>NYK</td><td>PG</td><td>72</td><td>2021</td><td>209</td><td> 455</td><td> 84</td><td>203</td><td>⋯</td><td> 63</td><td> 87</td><td> 7</td><td>135</td><td>1</td><td> 544</td><td>2</td><td>0</td><td>0</td><td>72</td></tr>\n",
              "\t<tr><td>NBA</td><td>Isaiah Canaan  </td><td>PHI</td><td>PG</td><td>77</td><td>1968</td><td>260</td><td> 722</td><td>176</td><td>484</td><td>⋯</td><td> 56</td><td> 91</td><td>12</td><td>133</td><td>0</td><td> 846</td><td>1</td><td>0</td><td>0</td><td>39</td></tr>\n",
              "\t<tr><td>NBA</td><td>Carter-williams</td><td>MIL</td><td>PG</td><td>54</td><td>1649</td><td>251</td><td> 555</td><td> 15</td><td> 55</td><td>⋯</td><td> 80</td><td>153</td><td>41</td><td>162</td><td>0</td><td> 623</td><td>3</td><td>0</td><td>0</td><td>37</td></tr>\n",
              "\t<tr><td>NBA</td><td>Mario Chalmers </td><td>MEM</td><td>PG</td><td>61</td><td>1378</td><td>182</td><td> 444</td><td> 46</td><td>149</td><td>⋯</td><td> 88</td><td>111</td><td>13</td><td>181</td><td>0</td><td> 628</td><td>5</td><td>0</td><td>0</td><td> 7</td></tr>\n",
              "\t<tr><td>NBA</td><td>Jordan Clarkson</td><td>LAL</td><td>PG</td><td>79</td><td>2556</td><td>475</td><td>1099</td><td>111</td><td>318</td><td>⋯</td><td> 88</td><td>135</td><td> 7</td><td>168</td><td>1</td><td>1225</td><td>0</td><td>0</td><td>0</td><td>79</td></tr>\n",
              "\t<tr><td>NBA</td><td>Norris Cole    </td><td>NOR</td><td>PG</td><td>45</td><td>1199</td><td>196</td><td> 485</td><td> 33</td><td>103</td><td>⋯</td><td> 37</td><td> 75</td><td> 5</td><td>102</td><td>0</td><td> 477</td><td>0</td><td>0</td><td>0</td><td>23</td></tr>\n",
              "\t<tr><td>NBA</td><td>Darren Collison</td><td>SAC</td><td>PG</td><td>74</td><td>2216</td><td>377</td><td> 776</td><td> 87</td><td>217</td><td>⋯</td><td> 76</td><td>129</td><td> 4</td><td>142</td><td>0</td><td>1035</td><td>1</td><td>0</td><td>0</td><td>15</td></tr>\n",
              "\t<tr><td>NBA</td><td>Mike Conley    </td><td>MEM</td><td>PG</td><td>56</td><td>1754</td><td>294</td><td> 696</td><td> 78</td><td>215</td><td>⋯</td><td> 67</td><td> 84</td><td>16</td><td>100</td><td>0</td><td> 857</td><td>0</td><td>0</td><td>0</td><td>56</td></tr>\n",
              "\t<tr><td>NBA</td><td>Bryce Cotton   </td><td>MEM</td><td>PG</td><td> 8</td><td>  41</td><td>  4</td><td>  10</td><td>  0</td><td>  3</td><td>⋯</td><td>  3</td><td>  5</td><td> 0</td><td>  2</td><td>0</td><td>   8</td><td>0</td><td>0</td><td>0</td><td> 0</td></tr>\n",
              "\t<tr><td>NBA</td><td>Stephen Curry  </td><td>GSW</td><td>PG</td><td>79</td><td>2705</td><td>805</td><td>1597</td><td>402</td><td>887</td><td>⋯</td><td>169</td><td>261</td><td>16</td><td>161</td><td>0</td><td>2375</td><td>1</td><td>0</td><td>0</td><td>79</td></tr>\n",
              "\t<tr><td>NBA</td><td>Cory Joseph    </td><td>TOR</td><td>PG</td><td>80</td><td>2053</td><td>257</td><td> 585</td><td> 30</td><td>110</td><td>⋯</td><td> 63</td><td>102</td><td>20</td><td>131</td><td>0</td><td> 677</td><td>1</td><td>0</td><td>0</td><td> 4</td></tr>\n",
              "\t<tr><td>NBA</td><td>Chris Paul     </td><td>LAC</td><td>PG</td><td>74</td><td>2425</td><td>515</td><td>1114</td><td>122</td><td>329</td><td>⋯</td><td>151</td><td>193</td><td>13</td><td>185</td><td>0</td><td>1446</td><td>7</td><td>0</td><td>0</td><td>74</td></tr>\n",
              "\t<tr><td>NBA</td><td>Cameron Payne  </td><td>OKL</td><td>PG</td><td>57</td><td> 703</td><td>114</td><td> 278</td><td> 36</td><td>111</td><td>⋯</td><td> 36</td><td> 44</td><td> 6</td><td> 80</td><td>0</td><td> 283</td><td>0</td><td>0</td><td>0</td><td> 1</td></tr>\n",
              "\t<tr><td>NBA</td><td>C.j. Watson    </td><td>ORL</td><td>PG</td><td>33</td><td> 655</td><td> 47</td><td> 137</td><td> 14</td><td> 48</td><td>⋯</td><td> 19</td><td> 25</td><td> 5</td><td> 49</td><td>0</td><td> 142</td><td>0</td><td>0</td><td>0</td><td> 2</td></tr>\n",
              "</tbody>\n",
              "</table>\n"
            ]
          },
          "metadata": {
            "tags": []
          }
        },
        {
          "output_type": "display_data",
          "data": {
            "text/plain": [
              "   League Name             Team Position GamesPlayed TotalMinutesPlayed\n",
              "1  NBA    Jae Crowder      BOS  SF       73          2310              \n",
              "2  NBA    James Ennis      NOR  SF       22           329              \n",
              "3  NBA    Jeremy Evans     DAL  SF       30           251              \n",
              "4  NBA    Jerami Grant     PHI  SF       77          2068              \n",
              "5  NBA    Jeff Green       LAC  SF       80          2258              \n",
              "6  NBA    Josh Huestis     OKL  SF        5            55              \n",
              "7  NBA    Joe Ingles       UTA  SF       81          1241              \n",
              "8  NBA    Lebron James     CLE  SF       76          2710              \n",
              "9  NBA    Richar Jefferson CLE  SF       74          1326              \n",
              "10 NBA    Chris Johnson    UTA  SF       70           858              \n",
              "11 NBA    Joe Johnson      MIA  SF       81          2703              \n",
              "12 NBA    Stanley Johnson  DET  SF       73          1685              \n",
              "13 NBA    J.j. O'brien     UTA  SF        1             2              \n",
              "14 NBA    Jabari Parker    MIL  SF       76          2407              \n",
              "15 NBA    Josh Smith       HOU  SF       55           878              \n",
              "16 NBA    Justise Winslow  MIA  SF       78          2237              \n",
              "   FieldGoalsMade FieldGoalsAttempted ThreesMade ThreesAttempted ⋯ Steals\n",
              "1  359             812                122        363             ⋯ 126   \n",
              "2   54             113                 26         58             ⋯  16   \n",
              "3   26              48                  4         16             ⋯   6   \n",
              "4  251             599                 35        146             ⋯  54   \n",
              "5  354             824                 67        213             ⋯  58   \n",
              "6    5              12                  4          6             ⋯   1   \n",
              "7  124             291                 81        210             ⋯  55   \n",
              "8  737            1416                 87        282             ⋯ 104   \n",
              "9  143             312                 66        173             ⋯  33   \n",
              "10  72             194                 27         99             ⋯  32   \n",
              "11 377             859                120        313             ⋯  61   \n",
              "12 225             600                 63        205             ⋯  55   \n",
              "13   0               1                  0          0             ⋯   0   \n",
              "14 443             899                  9         35             ⋯  69   \n",
              "15 127             349                 41        143             ⋯  34   \n",
              "16 196             463                 32        116             ⋯  68   \n",
              "   Turnovers Blocks PersonalFouls Disqualifications TotalPoints Technicals\n",
              "1   83        35    198           4                 1036        3         \n",
              "2   19         5     28           1                  159        0         \n",
              "3    7         9     19           0                   71        0         \n",
              "4  110       127    215           1                  749        2         \n",
              "5   93        40    164           0                  939        0         \n",
              "6    3         2      3           0                   14        0         \n",
              "7   65         4     98           0                  342        1         \n",
              "8  249        49    143           0                 1920        3         \n",
              "9   43        14    129           0                  410        1         \n",
              "10  40        20    100           1                  205        0         \n",
              "11 160         4    146           0                  992        1         \n",
              "12 114        12    178           2                  593        2         \n",
              "13   0         0      0           0                    0        0         \n",
              "14 116        29    154           0                 1070        0         \n",
              "15  77        47    118           1                  332        1         \n",
              "16  95        26    184           0                  504        0         \n",
              "   Ejections FlagrantFouls GamesStarted\n",
              "1  0         0             73          \n",
              "2  0         0              5          \n",
              "3  0         0              2          \n",
              "4  0         0             52          \n",
              "5  0         0             41          \n",
              "6  0         0              0          \n",
              "7  0         0              2          \n",
              "8  0         0             76          \n",
              "9  0         0              5          \n",
              "10 0         0              2          \n",
              "11 0         0             81          \n",
              "12 0         0              6          \n",
              "13 0         0              0          \n",
              "14 0         0             72          \n",
              "15 0         0              7          \n",
              "16 0         0              8          "
            ],
            "text/latex": "A data.table: 16 × 25\n\\begin{tabular}{lllllllllllllllllllll}\n League & Name & Team & Position & GamesPlayed & TotalMinutesPlayed & FieldGoalsMade & FieldGoalsAttempted & ThreesMade & ThreesAttempted & ⋯ & Steals & Turnovers & Blocks & PersonalFouls & Disqualifications & TotalPoints & Technicals & Ejections & FlagrantFouls & GamesStarted\\\\\n <fct> & <chr> & <fct> & <fct> & <int> & <int> & <int> & <int> & <int> & <int> & ⋯ & <int> & <int> & <int> & <int> & <int> & <int> & <int> & <int> & <int> & <int>\\\\\n\\hline\n\t NBA & Jae Crowder      & BOS & SF & 73 & 2310 & 359 &  812 & 122 & 363 & ⋯ & 126 &  83 &  35 & 198 & 4 & 1036 & 3 & 0 & 0 & 73\\\\\n\t NBA & James Ennis      & NOR & SF & 22 &  329 &  54 &  113 &  26 &  58 & ⋯ &  16 &  19 &   5 &  28 & 1 &  159 & 0 & 0 & 0 &  5\\\\\n\t NBA & Jeremy Evans     & DAL & SF & 30 &  251 &  26 &   48 &   4 &  16 & ⋯ &   6 &   7 &   9 &  19 & 0 &   71 & 0 & 0 & 0 &  2\\\\\n\t NBA & Jerami Grant     & PHI & SF & 77 & 2068 & 251 &  599 &  35 & 146 & ⋯ &  54 & 110 & 127 & 215 & 1 &  749 & 2 & 0 & 0 & 52\\\\\n\t NBA & Jeff Green       & LAC & SF & 80 & 2258 & 354 &  824 &  67 & 213 & ⋯ &  58 &  93 &  40 & 164 & 0 &  939 & 0 & 0 & 0 & 41\\\\\n\t NBA & Josh Huestis     & OKL & SF &  5 &   55 &   5 &   12 &   4 &   6 & ⋯ &   1 &   3 &   2 &   3 & 0 &   14 & 0 & 0 & 0 &  0\\\\\n\t NBA & Joe Ingles       & UTA & SF & 81 & 1241 & 124 &  291 &  81 & 210 & ⋯ &  55 &  65 &   4 &  98 & 0 &  342 & 1 & 0 & 0 &  2\\\\\n\t NBA & Lebron James     & CLE & SF & 76 & 2710 & 737 & 1416 &  87 & 282 & ⋯ & 104 & 249 &  49 & 143 & 0 & 1920 & 3 & 0 & 0 & 76\\\\\n\t NBA & Richar Jefferson & CLE & SF & 74 & 1326 & 143 &  312 &  66 & 173 & ⋯ &  33 &  43 &  14 & 129 & 0 &  410 & 1 & 0 & 0 &  5\\\\\n\t NBA & Chris Johnson    & UTA & SF & 70 &  858 &  72 &  194 &  27 &  99 & ⋯ &  32 &  40 &  20 & 100 & 1 &  205 & 0 & 0 & 0 &  2\\\\\n\t NBA & Joe Johnson      & MIA & SF & 81 & 2703 & 377 &  859 & 120 & 313 & ⋯ &  61 & 160 &   4 & 146 & 0 &  992 & 1 & 0 & 0 & 81\\\\\n\t NBA & Stanley Johnson  & DET & SF & 73 & 1685 & 225 &  600 &  63 & 205 & ⋯ &  55 & 114 &  12 & 178 & 2 &  593 & 2 & 0 & 0 &  6\\\\\n\t NBA & J.j. O'brien     & UTA & SF &  1 &    2 &   0 &    1 &   0 &   0 & ⋯ &   0 &   0 &   0 &   0 & 0 &    0 & 0 & 0 & 0 &  0\\\\\n\t NBA & Jabari Parker    & MIL & SF & 76 & 2407 & 443 &  899 &   9 &  35 & ⋯ &  69 & 116 &  29 & 154 & 0 & 1070 & 0 & 0 & 0 & 72\\\\\n\t NBA & Josh Smith       & HOU & SF & 55 &  878 & 127 &  349 &  41 & 143 & ⋯ &  34 &  77 &  47 & 118 & 1 &  332 & 1 & 0 & 0 &  7\\\\\n\t NBA & Justise Winslow  & MIA & SF & 78 & 2237 & 196 &  463 &  32 & 116 & ⋯ &  68 &  95 &  26 & 184 & 0 &  504 & 0 & 0 & 0 &  8\\\\\n\\end{tabular}\n",
            "text/markdown": "\nA data.table: 16 × 25\n\n| League &lt;fct&gt; | Name &lt;chr&gt; | Team &lt;fct&gt; | Position &lt;fct&gt; | GamesPlayed &lt;int&gt; | TotalMinutesPlayed &lt;int&gt; | FieldGoalsMade &lt;int&gt; | FieldGoalsAttempted &lt;int&gt; | ThreesMade &lt;int&gt; | ThreesAttempted &lt;int&gt; | ⋯ ⋯ | Steals &lt;int&gt; | Turnovers &lt;int&gt; | Blocks &lt;int&gt; | PersonalFouls &lt;int&gt; | Disqualifications &lt;int&gt; | TotalPoints &lt;int&gt; | Technicals &lt;int&gt; | Ejections &lt;int&gt; | FlagrantFouls &lt;int&gt; | GamesStarted &lt;int&gt; |\n|---|---|---|---|---|---|---|---|---|---|---|---|---|---|---|---|---|---|---|---|---|\n| NBA | Jae Crowder      | BOS | SF | 73 | 2310 | 359 |  812 | 122 | 363 | ⋯ | 126 |  83 |  35 | 198 | 4 | 1036 | 3 | 0 | 0 | 73 |\n| NBA | James Ennis      | NOR | SF | 22 |  329 |  54 |  113 |  26 |  58 | ⋯ |  16 |  19 |   5 |  28 | 1 |  159 | 0 | 0 | 0 |  5 |\n| NBA | Jeremy Evans     | DAL | SF | 30 |  251 |  26 |   48 |   4 |  16 | ⋯ |   6 |   7 |   9 |  19 | 0 |   71 | 0 | 0 | 0 |  2 |\n| NBA | Jerami Grant     | PHI | SF | 77 | 2068 | 251 |  599 |  35 | 146 | ⋯ |  54 | 110 | 127 | 215 | 1 |  749 | 2 | 0 | 0 | 52 |\n| NBA | Jeff Green       | LAC | SF | 80 | 2258 | 354 |  824 |  67 | 213 | ⋯ |  58 |  93 |  40 | 164 | 0 |  939 | 0 | 0 | 0 | 41 |\n| NBA | Josh Huestis     | OKL | SF |  5 |   55 |   5 |   12 |   4 |   6 | ⋯ |   1 |   3 |   2 |   3 | 0 |   14 | 0 | 0 | 0 |  0 |\n| NBA | Joe Ingles       | UTA | SF | 81 | 1241 | 124 |  291 |  81 | 210 | ⋯ |  55 |  65 |   4 |  98 | 0 |  342 | 1 | 0 | 0 |  2 |\n| NBA | Lebron James     | CLE | SF | 76 | 2710 | 737 | 1416 |  87 | 282 | ⋯ | 104 | 249 |  49 | 143 | 0 | 1920 | 3 | 0 | 0 | 76 |\n| NBA | Richar Jefferson | CLE | SF | 74 | 1326 | 143 |  312 |  66 | 173 | ⋯ |  33 |  43 |  14 | 129 | 0 |  410 | 1 | 0 | 0 |  5 |\n| NBA | Chris Johnson    | UTA | SF | 70 |  858 |  72 |  194 |  27 |  99 | ⋯ |  32 |  40 |  20 | 100 | 1 |  205 | 0 | 0 | 0 |  2 |\n| NBA | Joe Johnson      | MIA | SF | 81 | 2703 | 377 |  859 | 120 | 313 | ⋯ |  61 | 160 |   4 | 146 | 0 |  992 | 1 | 0 | 0 | 81 |\n| NBA | Stanley Johnson  | DET | SF | 73 | 1685 | 225 |  600 |  63 | 205 | ⋯ |  55 | 114 |  12 | 178 | 2 |  593 | 2 | 0 | 0 |  6 |\n| NBA | J.j. O'brien     | UTA | SF |  1 |    2 |   0 |    1 |   0 |   0 | ⋯ |   0 |   0 |   0 |   0 | 0 |    0 | 0 | 0 | 0 |  0 |\n| NBA | Jabari Parker    | MIL | SF | 76 | 2407 | 443 |  899 |   9 |  35 | ⋯ |  69 | 116 |  29 | 154 | 0 | 1070 | 0 | 0 | 0 | 72 |\n| NBA | Josh Smith       | HOU | SF | 55 |  878 | 127 |  349 |  41 | 143 | ⋯ |  34 |  77 |  47 | 118 | 1 |  332 | 1 | 0 | 0 |  7 |\n| NBA | Justise Winslow  | MIA | SF | 78 | 2237 | 196 |  463 |  32 | 116 | ⋯ |  68 |  95 |  26 | 184 | 0 |  504 | 0 | 0 | 0 |  8 |\n\n",
            "text/html": [
              "<table>\n",
              "<caption>A data.table: 16 × 25</caption>\n",
              "<thead>\n",
              "\t<tr><th scope=col>League</th><th scope=col>Name</th><th scope=col>Team</th><th scope=col>Position</th><th scope=col>GamesPlayed</th><th scope=col>TotalMinutesPlayed</th><th scope=col>FieldGoalsMade</th><th scope=col>FieldGoalsAttempted</th><th scope=col>ThreesMade</th><th scope=col>ThreesAttempted</th><th scope=col>⋯</th><th scope=col>Steals</th><th scope=col>Turnovers</th><th scope=col>Blocks</th><th scope=col>PersonalFouls</th><th scope=col>Disqualifications</th><th scope=col>TotalPoints</th><th scope=col>Technicals</th><th scope=col>Ejections</th><th scope=col>FlagrantFouls</th><th scope=col>GamesStarted</th></tr>\n",
              "\t<tr><th scope=col>&lt;fct&gt;</th><th scope=col>&lt;chr&gt;</th><th scope=col>&lt;fct&gt;</th><th scope=col>&lt;fct&gt;</th><th scope=col>&lt;int&gt;</th><th scope=col>&lt;int&gt;</th><th scope=col>&lt;int&gt;</th><th scope=col>&lt;int&gt;</th><th scope=col>&lt;int&gt;</th><th scope=col>&lt;int&gt;</th><th scope=col>⋯</th><th scope=col>&lt;int&gt;</th><th scope=col>&lt;int&gt;</th><th scope=col>&lt;int&gt;</th><th scope=col>&lt;int&gt;</th><th scope=col>&lt;int&gt;</th><th scope=col>&lt;int&gt;</th><th scope=col>&lt;int&gt;</th><th scope=col>&lt;int&gt;</th><th scope=col>&lt;int&gt;</th><th scope=col>&lt;int&gt;</th></tr>\n",
              "</thead>\n",
              "<tbody>\n",
              "\t<tr><td>NBA</td><td>Jae Crowder     </td><td>BOS</td><td>SF</td><td>73</td><td>2310</td><td>359</td><td> 812</td><td>122</td><td>363</td><td>⋯</td><td>126</td><td> 83</td><td> 35</td><td>198</td><td>4</td><td>1036</td><td>3</td><td>0</td><td>0</td><td>73</td></tr>\n",
              "\t<tr><td>NBA</td><td>James Ennis     </td><td>NOR</td><td>SF</td><td>22</td><td> 329</td><td> 54</td><td> 113</td><td> 26</td><td> 58</td><td>⋯</td><td> 16</td><td> 19</td><td>  5</td><td> 28</td><td>1</td><td> 159</td><td>0</td><td>0</td><td>0</td><td> 5</td></tr>\n",
              "\t<tr><td>NBA</td><td>Jeremy Evans    </td><td>DAL</td><td>SF</td><td>30</td><td> 251</td><td> 26</td><td>  48</td><td>  4</td><td> 16</td><td>⋯</td><td>  6</td><td>  7</td><td>  9</td><td> 19</td><td>0</td><td>  71</td><td>0</td><td>0</td><td>0</td><td> 2</td></tr>\n",
              "\t<tr><td>NBA</td><td>Jerami Grant    </td><td>PHI</td><td>SF</td><td>77</td><td>2068</td><td>251</td><td> 599</td><td> 35</td><td>146</td><td>⋯</td><td> 54</td><td>110</td><td>127</td><td>215</td><td>1</td><td> 749</td><td>2</td><td>0</td><td>0</td><td>52</td></tr>\n",
              "\t<tr><td>NBA</td><td>Jeff Green      </td><td>LAC</td><td>SF</td><td>80</td><td>2258</td><td>354</td><td> 824</td><td> 67</td><td>213</td><td>⋯</td><td> 58</td><td> 93</td><td> 40</td><td>164</td><td>0</td><td> 939</td><td>0</td><td>0</td><td>0</td><td>41</td></tr>\n",
              "\t<tr><td>NBA</td><td>Josh Huestis    </td><td>OKL</td><td>SF</td><td> 5</td><td>  55</td><td>  5</td><td>  12</td><td>  4</td><td>  6</td><td>⋯</td><td>  1</td><td>  3</td><td>  2</td><td>  3</td><td>0</td><td>  14</td><td>0</td><td>0</td><td>0</td><td> 0</td></tr>\n",
              "\t<tr><td>NBA</td><td>Joe Ingles      </td><td>UTA</td><td>SF</td><td>81</td><td>1241</td><td>124</td><td> 291</td><td> 81</td><td>210</td><td>⋯</td><td> 55</td><td> 65</td><td>  4</td><td> 98</td><td>0</td><td> 342</td><td>1</td><td>0</td><td>0</td><td> 2</td></tr>\n",
              "\t<tr><td>NBA</td><td>Lebron James    </td><td>CLE</td><td>SF</td><td>76</td><td>2710</td><td>737</td><td>1416</td><td> 87</td><td>282</td><td>⋯</td><td>104</td><td>249</td><td> 49</td><td>143</td><td>0</td><td>1920</td><td>3</td><td>0</td><td>0</td><td>76</td></tr>\n",
              "\t<tr><td>NBA</td><td>Richar Jefferson</td><td>CLE</td><td>SF</td><td>74</td><td>1326</td><td>143</td><td> 312</td><td> 66</td><td>173</td><td>⋯</td><td> 33</td><td> 43</td><td> 14</td><td>129</td><td>0</td><td> 410</td><td>1</td><td>0</td><td>0</td><td> 5</td></tr>\n",
              "\t<tr><td>NBA</td><td>Chris Johnson   </td><td>UTA</td><td>SF</td><td>70</td><td> 858</td><td> 72</td><td> 194</td><td> 27</td><td> 99</td><td>⋯</td><td> 32</td><td> 40</td><td> 20</td><td>100</td><td>1</td><td> 205</td><td>0</td><td>0</td><td>0</td><td> 2</td></tr>\n",
              "\t<tr><td>NBA</td><td>Joe Johnson     </td><td>MIA</td><td>SF</td><td>81</td><td>2703</td><td>377</td><td> 859</td><td>120</td><td>313</td><td>⋯</td><td> 61</td><td>160</td><td>  4</td><td>146</td><td>0</td><td> 992</td><td>1</td><td>0</td><td>0</td><td>81</td></tr>\n",
              "\t<tr><td>NBA</td><td>Stanley Johnson </td><td>DET</td><td>SF</td><td>73</td><td>1685</td><td>225</td><td> 600</td><td> 63</td><td>205</td><td>⋯</td><td> 55</td><td>114</td><td> 12</td><td>178</td><td>2</td><td> 593</td><td>2</td><td>0</td><td>0</td><td> 6</td></tr>\n",
              "\t<tr><td>NBA</td><td>J.j. O'brien    </td><td>UTA</td><td>SF</td><td> 1</td><td>   2</td><td>  0</td><td>   1</td><td>  0</td><td>  0</td><td>⋯</td><td>  0</td><td>  0</td><td>  0</td><td>  0</td><td>0</td><td>   0</td><td>0</td><td>0</td><td>0</td><td> 0</td></tr>\n",
              "\t<tr><td>NBA</td><td>Jabari Parker   </td><td>MIL</td><td>SF</td><td>76</td><td>2407</td><td>443</td><td> 899</td><td>  9</td><td> 35</td><td>⋯</td><td> 69</td><td>116</td><td> 29</td><td>154</td><td>0</td><td>1070</td><td>0</td><td>0</td><td>0</td><td>72</td></tr>\n",
              "\t<tr><td>NBA</td><td>Josh Smith      </td><td>HOU</td><td>SF</td><td>55</td><td> 878</td><td>127</td><td> 349</td><td> 41</td><td>143</td><td>⋯</td><td> 34</td><td> 77</td><td> 47</td><td>118</td><td>1</td><td> 332</td><td>1</td><td>0</td><td>0</td><td> 7</td></tr>\n",
              "\t<tr><td>NBA</td><td>Justise Winslow </td><td>MIA</td><td>SF</td><td>78</td><td>2237</td><td>196</td><td> 463</td><td> 32</td><td>116</td><td>⋯</td><td> 68</td><td> 95</td><td> 26</td><td>184</td><td>0</td><td> 504</td><td>0</td><td>0</td><td>0</td><td> 8</td></tr>\n",
              "</tbody>\n",
              "</table>\n"
            ]
          },
          "metadata": {
            "tags": []
          }
        }
      ]
    },
    {
      "cell_type": "code",
      "metadata": {
        "id": "QPIpwZdqrAjZ"
      },
      "source": [
        ""
      ],
      "execution_count": null,
      "outputs": []
    }
  ]
}